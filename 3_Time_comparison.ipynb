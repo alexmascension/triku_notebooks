{
 "cells": [
  {
   "cell_type": "markdown",
   "metadata": {},
   "source": [
    "# Time comparison\n",
    "\n",
    "In this notebook we will analyze different size datasets (known datasets) to see how long does triku take to analyze the datasets. The time comparison will be done with 3 settings:\n",
    "* All features (after basic removal), 1 processor\n",
    "* Filtered features (after removal, to get ~10000 features), 1 processor\n",
    "* Filtered features, several processors (2, 4, 8, 16)\n",
    "\n",
    "We will compare these times with the time required for the rest of processing times of a basic preprocessing pipeline (get neighbors, PCA, UMAP, leiden, etc.) to see how long does running triku take in comparison with the rest of the steps of the pipeline."
   ]
  },
  {
   "cell_type": "code",
   "execution_count": null,
   "metadata": {
    "scrolled": true,
    "tags": []
   },
   "outputs": [],
   "source": [
    "!pip uninstall triku -y\n",
    "!cd ../triku && python setup.py install"
   ]
  },
  {
   "cell_type": "code",
   "execution_count": null,
   "metadata": {},
   "outputs": [],
   "source": [
    "%matplotlib inline"
   ]
  },
  {
   "cell_type": "code",
   "execution_count": null,
   "metadata": {
    "ExecuteTime": {
     "end_time": "2020-02-08T12:01:12.111527Z",
     "start_time": "2020-02-08T12:01:09.165623Z"
    }
   },
   "outputs": [],
   "source": [
    "# Imports here\n",
    "import scanpy as sc\n",
    "import scanpy.external as sce\n",
    "import harmonypy as hpy\n",
    "\n",
    "import numpy as np\n",
    "import scipy.stats as sts\n",
    "import scipy.optimize as opt\n",
    "import scipy.signal as sgn\n",
    "import pandas as pd\n",
    "\n",
    "import triku as tk\n",
    "\n",
    "import logging\n",
    "import os\n",
    "from tqdm.notebook import tqdm\n",
    "\n",
    "import seaborn as sns\n",
    "import matplotlib as mpl\n",
    "import matplotlib.pyplot as plt\n",
    "\n",
    "# Especial imports\n",
    "from sklearn.decomposition import PCA\n",
    "from umap.umap_ import fuzzy_simplicial_set, nearest_neighbors\n",
    "\n",
    "# Parallel imports\n",
    "import ray\n",
    "from numba import jit, njit\n",
    "\n",
    "random_state = 10\n",
    "\n",
    "import time\n",
    "import mygene"
   ]
  },
  {
   "cell_type": "code",
   "execution_count": null,
   "metadata": {},
   "outputs": [],
   "source": [
    "ray.logger.setLevel(logging.ERROR)\n",
    "\n",
    "import warnings\n",
    "warnings.filterwarnings('ignore')"
   ]
  },
  {
   "cell_type": "code",
   "execution_count": null,
   "metadata": {},
   "outputs": [],
   "source": [
    "from triku_nb_code.palettes_and_cmaps import magma, bold_and_vivid"
   ]
  },
  {
   "cell_type": "code",
   "execution_count": null,
   "metadata": {},
   "outputs": [],
   "source": [
    "def read_adata(dataset_file, backup_url):\n",
    "    try:\n",
    "        adata = sc.read(dataset_file, backup_url=backup_url)\n",
    "    except:\n",
    "        try:\n",
    "            adata = sc.read_10x_h5(dataset_file, backup_url=backup_url)\n",
    "        except:\n",
    "            adata = sc.read_10x_mtx(dataset_file)\n",
    "    \n",
    "    return adata\n",
    "\n",
    "def processing_pipeline(dataset_file, n_genes_by_counts=4000, n_neighbors=None,\n",
    "                        min_pct_counts_mt=0, pct_counts_mt=25, min_genes=50, min_cells=10, transpose=False, backup_url='', \n",
    "                        get_int=True, plot_graphs=True, prefilter=True):\n",
    "    t_dict = {}\n",
    "    \n",
    "    # Dataset loading and basic profiling\n",
    "    if isinstance(dataset_file, str):\n",
    "        adata = read_adata(dataset_file, backup_url).copy()\n",
    "        if transpose:\n",
    "            adata = adata.transpose()\n",
    "            \n",
    "    elif isinstance(dataset_file, list):\n",
    "        list_adatas = [read_adata(os.getcwd() + '/data/' + i.split('/')[-1], backup_url=i) for i in dataset_file]\n",
    "        if transpose:\n",
    "            list_adatas = [i.transpose() for i in list_adatas]\n",
    "        adata = sc.AnnData.concatenate(*list_adatas)\n",
    "    \n",
    "    elif isinstance(dataset_file, sc.AnnData):\n",
    "        adata = dataset_file.copy()\n",
    "    \n",
    "    # If genes are ENSMUG or like that, we set a query to rename the names\n",
    "    if np.any(['ENSMU' in i for i in adata.var_names]) | np.any(['ENSG' in i for i in adata.var_names]):\n",
    "        mg = mygene.MyGeneInfo()\n",
    "        query = mg.querymany(adata.var_names, scopes='ensembl.gene', returnall=True)\n",
    "        genes = [i['symbol'] if 'symbol' in i else '' for i in query['out']]\n",
    "        adata.var_names = genes\n",
    "        \n",
    "    adata.var_names_make_unique() \n",
    "\n",
    "    t0 = time.time()\n",
    "    sc.pp.filter_cells(adata, min_genes=min_genes)\n",
    "    sc.pp.filter_genes(adata, min_cells=min_cells)\n",
    "    tf = time.time()\n",
    "    print('gene/cell filter', tf-t0)\n",
    "    t_dict['gene/cell filter'] = tf-t0\n",
    "    \n",
    "    if prefilter:\n",
    "        # Dataset profiling - get the graphs to set the n_genes_by_counts and pct_counts_mt\n",
    "        t0 = time.time()\n",
    "        adata.var['mt'] = adata.var_names.str.startswith('MT-') | adata.var_names.str.startswith('mt-')  # annotate the group of mitochondrial genes as 'mt'\n",
    "        sc.pp.calculate_qc_metrics(adata, qc_vars=['mt'], percent_top=None, log1p=False, inplace=True)\n",
    "\n",
    "        if plot_graphs:\n",
    "            sc.pl.violin(adata, ['n_genes_by_counts', 'total_counts', 'pct_counts_mt'],\n",
    "                     jitter=0.4, multi_panel=True)\n",
    "            sc.pl.scatter(adata, x='total_counts', y='pct_counts_mt')\n",
    "            sc.pl.scatter(adata, x='total_counts', y='n_genes_by_counts')\n",
    "\n",
    "        tf = time.time()\n",
    "        print('QC_metrics', tf-t0)\n",
    "        t_dict['QC_metrics'] = tf-t0\n",
    "\n",
    "        t0 = time.time()\n",
    "        adata = adata[adata.obs.n_genes_by_counts < n_genes_by_counts, :]\n",
    "        adata = adata[adata.obs.pct_counts_mt < pct_counts_mt, :]\n",
    "        adata = adata[min_pct_counts_mt < adata.obs.pct_counts_mt, :]\n",
    "        sc.pp.filter_cells(adata, min_genes=1)\n",
    "        sc.pp.filter_genes(adata, min_counts=1)\n",
    "        tf = time.time()\n",
    "        print('filter_cells_genes', tf-t0)\n",
    "        t_dict['filter_cells_genes'] = tf-t0\n",
    "\n",
    "        if not get_int:\n",
    "            # Normalize and log-transforming\n",
    "            t0 = time.time()\n",
    "            sc.pp.normalize_total(adata)\n",
    "            tf = time.time()\n",
    "            print('normalize', tf-t0)\n",
    "            t_dict['normalize'] = tf-t0\n",
    "\n",
    "            t0 = time.time()\n",
    "            sc.pp.log1p(adata)\n",
    "            tf = time.time()\n",
    "            print('log1p', tf-t0)\n",
    "            t_dict['log1p'] = tf-t0\n",
    "\n",
    "    print(adata)\n",
    "\n",
    "    t0 = time.time()\n",
    "    sc.pp.pca(adata)\n",
    "    tf = time.time()\n",
    "    print('pca', tf-t0)\n",
    "    t_dict['pca'] = tf-t0\n",
    "    \n",
    "    if n_neighbors is None:\n",
    "        n_neighbors=int(0.5 * len(adata) ** 0.5)\n",
    "    \n",
    "    # Preparation for FS (PCA, kNN, etc.)\n",
    "    if 'batch' in adata.obs:\n",
    "        print('batch in adata')\n",
    "        t0 = time.time()\n",
    "        sce.pp.bbknn(adata)\n",
    "        tf = time.time()\n",
    "        print('bbknn', tf-t0)\n",
    "        t_dict['bbknn'] = tf-t0\n",
    "        \n",
    "            \n",
    "        t0 = time.time()\n",
    "        sce.pp.harmony_integrate(adata, key='batch')\n",
    "        tf = time.time()\n",
    "        print('harmony', tf-t0)\n",
    "        t_dict['harmony'] = tf-t0\n",
    "        \n",
    "        t0 = time.time()\n",
    "        sc.pp.neighbors(adata, n_neighbors=n_neighbors, metric='cosine', use_rep='X_pca_harmony')\n",
    "        tf = time.time()\n",
    "        print('knn', tf-t0)\n",
    "        t_dict['knn'] = tf-t0\n",
    "    else:\n",
    "        print('batch NOT in adata')\n",
    "        t0 = time.time()\n",
    "        sc.pp.neighbors(adata, n_neighbors=n_neighbors, metric='cosine')\n",
    "        tf = time.time()\n",
    "        print('knn', tf-t0)\n",
    "        t_dict['knn'] = tf-t0\n",
    "\n",
    "    # FS\n",
    "    sc.pp.filter_genes(adata, min_cells=5)\n",
    "    \n",
    "    t0 = time.time()\n",
    "    tk.tl.triku(adata)\n",
    "    tf = time.time()\n",
    "    print('triku', tf-t0)\n",
    "    t_dict['triku'] = tf-t0\n",
    "\n",
    "    \n",
    "\n",
    "    \n",
    "    # Dimensionality reduction\n",
    "    t0 = time.time()\n",
    "    sc.tl.tsne(adata, n_jobs=16)\n",
    "    tf = time.time()\n",
    "    print('t-SNE', tf-t0)\n",
    "    t_dict['t-SNE'] = tf-t0\n",
    "\n",
    "    t0 = time.time()\n",
    "    sc.tl.umap(adata)\n",
    "    tf = time.time()\n",
    "    print('UMAP', tf-t0)\n",
    "    t_dict['UMAP'] = tf-t0\n",
    "    \n",
    "    # Clustering\n",
    "    t0 = time.time()\n",
    "    sc.tl.leiden(adata)\n",
    "    tf = time.time()\n",
    "    print('leiden', tf-t0)\n",
    "    t_dict['leiden'] = tf-t0\n",
    "    \n",
    "    t0 = time.time()\n",
    "    sc.tl.louvain(adata)\n",
    "    tf = time.time()\n",
    "    print('louvain', tf-t0)\n",
    "    t_dict['louvain'] = tf-t0\n",
    "    \n",
    "    # PAGA / trajectory analysis\n",
    "    t0 = time.time()\n",
    "    sc.tl.paga(adata)\n",
    "    tf = time.time()\n",
    "    print('PAGA', tf-t0)\n",
    "    t_dict['PAGA'] = tf-t0\n",
    "    \n",
    "    return t_dict"
   ]
  },
  {
   "cell_type": "markdown",
   "metadata": {},
   "source": [
    "# PBMC datasets (1, 5, 10, 68k)"
   ]
  },
  {
   "cell_type": "markdown",
   "metadata": {},
   "source": [
    "## 1k"
   ]
  },
  {
   "cell_type": "code",
   "execution_count": null,
   "metadata": {},
   "outputs": [],
   "source": [
    "t_dict_pbmc_1k = processing_pipeline(dataset_file=os.getcwd() + '/data/10x/pbmc_1k_v3_filtered_feature_bc_matrix.h5', n_genes_by_counts=3000, pct_counts_mt=20, plot_graphs=False,\n",
    "                                    backup_url='https://cf.10xgenomics.com/samples/cell-exp/3.0.0/pbmc_1k_v3/pbmc_1k_v3_filtered_feature_bc_matrix.h5')"
   ]
  },
  {
   "cell_type": "code",
   "execution_count": null,
   "metadata": {},
   "outputs": [],
   "source": [
    "t_dict_pbmc_1k"
   ]
  },
  {
   "cell_type": "markdown",
   "metadata": {},
   "source": [
    "## 5k"
   ]
  },
  {
   "cell_type": "code",
   "execution_count": null,
   "metadata": {},
   "outputs": [],
   "source": [
    "t_dict_pbmc_5k = processing_pipeline(dataset_file=os.getcwd() + '/data/10x/5k_pbmc_protein_v3_filtered_feature_bc_matrix.h5', n_genes_by_counts=4000, pct_counts_mt=20, plot_graphs=False,\n",
    "                                    backup_url='https://cf.10xgenomics.com/samples/cell-exp/3.0.2/5k_pbmc_protein_v3/5k_pbmc_protein_v3_filtered_feature_bc_matrix.h5')"
   ]
  },
  {
   "cell_type": "code",
   "execution_count": null,
   "metadata": {},
   "outputs": [],
   "source": [
    "t_dict_pbmc_5k"
   ]
  },
  {
   "cell_type": "markdown",
   "metadata": {},
   "source": [
    "## 10k"
   ]
  },
  {
   "cell_type": "code",
   "execution_count": null,
   "metadata": {},
   "outputs": [],
   "source": [
    "t_dict_pbmc_10k = processing_pipeline(dataset_file=os.getcwd() + '/data/10x/pbmc_10k_v3_raw_feature_bc_matrix.h5', n_genes_by_counts=4000, pct_counts_mt=20, plot_graphs=False,\n",
    "                                     backup_url='cf.10xgenomics.com/samples/cell-exp/3.0.0/pbmc_10k_v3/pbmc_10k_v3_raw_feature_bc_matrix.h5')"
   ]
  },
  {
   "cell_type": "code",
   "execution_count": null,
   "metadata": {},
   "outputs": [],
   "source": [
    "t_dict_pbmc_10k"
   ]
  },
  {
   "cell_type": "markdown",
   "metadata": {},
   "source": [
    "## 68k"
   ]
  },
  {
   "cell_type": "code",
   "execution_count": null,
   "metadata": {},
   "outputs": [],
   "source": [
    "!cd {os.getcwd()}/data/10x && wget https://cf.10xgenomics.com/samples/cell-exp/1.1.0/fresh_68k_pbmc_donor_a/fresh_68k_pbmc_donor_a_filtered_gene_bc_matrices.tar.gz"
   ]
  },
  {
   "cell_type": "code",
   "execution_count": null,
   "metadata": {},
   "outputs": [],
   "source": [
    "!cd {os.getcwd()}/data/10x && tar zxvf fresh_68k_pbmc_donor_a_filtered_gene_bc_matrices.tar.gz"
   ]
  },
  {
   "cell_type": "code",
   "execution_count": null,
   "metadata": {},
   "outputs": [],
   "source": [
    "t_dict_pbmc_68k = processing_pipeline(dataset_file=os.getcwd() + '/data/10x/filtered_matrices_mex/hg19', n_genes_by_counts=1000, pct_counts_mt=5, plot_graphs=False,\n",
    "                                     backup_url='', n_neighbors=30)"
   ]
  },
  {
   "cell_type": "code",
   "execution_count": null,
   "metadata": {},
   "outputs": [],
   "source": [
    "t_dict_pbmc_68k"
   ]
  },
  {
   "cell_type": "markdown",
   "metadata": {
    "tags": []
   },
   "source": [
    "# Kidney organoid (300k, batches)\n"
   ]
  },
  {
   "cell_type": "code",
   "execution_count": null,
   "metadata": {},
   "outputs": [],
   "source": [
    "list_GSM = ['GSM4044536', 'GSM4044537', 'GSM4044538', 'GSM4044539', 'GSM4044540', 'GSM4044541', 'GSM4044542', 'GSM4044543', 'GSM4044544']"
   ]
  },
  {
   "cell_type": "code",
   "execution_count": null,
   "metadata": {},
   "outputs": [],
   "source": [
    "kidney_org_dir = os.getcwd() + '/data/kidney'\n",
    "os.makedirs(kidney_org_dir, exist_ok=True)"
   ]
  },
  {
   "cell_type": "code",
   "execution_count": null,
   "metadata": {},
   "outputs": [],
   "source": [
    "# If it doesn't work, download it manually\n",
    "!wget https://www.ncbi.nlm.nih.gov/geo/download/?acc=GSE136314&format=file -O {kidney_org_dir}/GSE136314_RAW.tar"
   ]
  },
  {
   "cell_type": "code",
   "execution_count": null,
   "metadata": {},
   "outputs": [],
   "source": [
    "!tar -xvf {kidney_org_dir}/GSE136314_RAW.tar -C {kidney_org_dir}"
   ]
  },
  {
   "cell_type": "code",
   "execution_count": null,
   "metadata": {},
   "outputs": [],
   "source": [
    "for GSM in list_GSM:\n",
    "    files = [i for i in os.listdir(kidney_org_dir) if GSM in i]\n",
    "    os.makedirs(f'{kidney_org_dir}/{GSM}', exist_ok=True)\n",
    "    mtx, barcodes, genes = [i for i in files if 'gene_count.mtx' in i ][0], [i for i in files if 'barcodes.tsv.gz' in i ][0], [i for i in files if 'genes.tsv.gz' in i ][0]\n",
    "    os.rename(f'{kidney_org_dir}/{mtx}', f'{kidney_org_dir}/{GSM}/matrix.mtx.gz')\n",
    "    os.rename(f'{kidney_org_dir}/{barcodes}', f'{kidney_org_dir}/{GSM}/barcodes.tsv.gz')\n",
    "    os.rename(f'{kidney_org_dir}/{genes}', f'{kidney_org_dir}/{GSM}/features.tsv.gz')"
   ]
  },
  {
   "cell_type": "code",
   "execution_count": null,
   "metadata": {},
   "outputs": [],
   "source": [
    "list_adatas = []\n",
    "for GSM in list_GSM:\n",
    "    print(GSM)\n",
    "    adata = sc.read_mtx(f'{kidney_org_dir}/{GSM}/matrix.mtx.gz').transpose()\n",
    "    adata.var_names = pd.read_csv(f'{kidney_org_dir}/{GSM}/features.tsv.gz', header=None)[0]\n",
    "    adata.obs_names = pd.read_csv(f'{kidney_org_dir}/{GSM}/barcodes.tsv.gz', header=None)[0]\n",
    "    list_adatas.append(adata)\n",
    "    \n",
    "adata_kidney = sc.AnnData.concatenate(*list_adatas, join='outer')\n",
    "adata_kidney.write_h5ad(f'{kidney_org_dir}/adata_kidney.h5ad')"
   ]
  },
  {
   "cell_type": "code",
   "execution_count": null,
   "metadata": {},
   "outputs": [],
   "source": [
    "adata_kidney = sc.read(f'{kidney_org_dir}/adata_kidney.h5ad')"
   ]
  },
  {
   "cell_type": "code",
   "execution_count": null,
   "metadata": {},
   "outputs": [],
   "source": [
    "t_dict_kidney = processing_pipeline(adata_kidney, prefilter=True, min_cells=100, pct_counts_mt=5, n_genes_by_counts=3500, n_neighbors=30, plot_graphs=False,)"
   ]
  },
  {
   "cell_type": "markdown",
   "metadata": {},
   "source": [
    "# Reynolds skin (500k, batches)"
   ]
  },
  {
   "cell_type": "code",
   "execution_count": null,
   "metadata": {},
   "outputs": [],
   "source": [
    "t_dict_reynolds =  processing_pipeline(dataset_file=os.getcwd() + '/data/submission_210120.h5ad', n_genes_by_counts=3000, min_pct_counts_mt=0, pct_counts_mt=15, \n",
    "                                       min_genes=50, min_cells=10, transpose=False, get_int=True, plot_graphs=False, prefilter=True, n_neighbors=30,\n",
    "                                       backup_url='https://zenodo.org/record/4536165/files/submission_210120.h5ad')"
   ]
  },
  {
   "cell_type": "code",
   "execution_count": null,
   "metadata": {},
   "outputs": [],
   "source": [
    "arr_counts.sum(0) == 0"
   ]
  },
  {
   "cell_type": "markdown",
   "metadata": {},
   "source": [
    "# T cells (60k, batches)"
   ]
  },
  {
   "cell_type": "code",
   "execution_count": null,
   "metadata": {},
   "outputs": [],
   "source": [
    "tcell_dir = os.getcwd() + '/data/tcell'\n",
    "os.makedirs(tcell_dir, exist_ok=True)"
   ]
  },
  {
   "cell_type": "code",
   "execution_count": null,
   "metadata": {},
   "outputs": [],
   "source": [
    "# If it doesn't work, download it manually\n",
    "!wget https://www.ncbi.nlm.nih.gov/geo/download/?acc=GSE150132 -O {tcell_dir}/GSE150132_RAW.tar"
   ]
  },
  {
   "cell_type": "code",
   "execution_count": null,
   "metadata": {},
   "outputs": [],
   "source": [
    "!tar -xvf {tcell_dir}/GSE150132_RAW.tar -C {tcell_dir}"
   ]
  },
  {
   "cell_type": "code",
   "execution_count": null,
   "metadata": {},
   "outputs": [],
   "source": [
    "list_GSM = ['GSM4524029', 'GSM4524030', 'GSM4524031', 'GSM4524032', 'GSM4524033']\n",
    "for GSM in list_GSM:\n",
    "    files = [i for i in os.listdir(tcell_dir) if GSM in i]\n",
    "    os.makedirs(f'{tcell_dir}/{GSM}', exist_ok=True)\n",
    "    mtx, barcodes, genes = [i for i in files if 'matrix.mtx' in i ][0], [i for i in files if 'barcodes.tsv.gz' in i ][0], [i for i in files if 'features.tsv.gz' in i ][0]\n",
    "    os.rename(f'{tcell_dir}/{mtx}', f'{tcell_dir}/{GSM}/matrix.mtx.gz')\n",
    "    os.rename(f'{tcell_dir}/{barcodes}', f'{tcell_dir}/{GSM}/barcodes.tsv.gz')\n",
    "    os.rename(f'{tcell_dir}/{genes}', f'{tcell_dir}/{GSM}/features.tsv.gz')"
   ]
  },
  {
   "cell_type": "code",
   "execution_count": null,
   "metadata": {},
   "outputs": [],
   "source": [
    "list_adatas = []\n",
    "for GSM in list_GSM:\n",
    "    print(GSM)\n",
    "    adata = sc.read_mtx(f'{tcell_dir}/{GSM}/matrix.mtx.gz').transpose()\n",
    "    adata.var_names = pd.read_csv(f'{tcell_dir}/{GSM}/features.tsv.gz', header=None)[0]\n",
    "    adata.obs_names = pd.read_csv(f'{tcell_dir}/{GSM}/barcodes.tsv.gz', header=None)[0]\n",
    "    list_adatas.append(adata)\n",
    "    \n",
    "adata_tcell = sc.AnnData.concatenate(*list_adatas, join='outer')\n",
    "adata_tcell.var_names = [i.split('\\t')[1] for i in adata_tcell.var_names]\n",
    "adata_tcell.write_h5ad(f'{tcell_dir}/adata_tcell.h5ad')"
   ]
  },
  {
   "cell_type": "code",
   "execution_count": null,
   "metadata": {},
   "outputs": [],
   "source": [
    "adata_tcell = sc.read(f'{tcell_dir}/adata_tcell.h5ad')"
   ]
  },
  {
   "cell_type": "code",
   "execution_count": null,
   "metadata": {},
   "outputs": [],
   "source": [
    "t_dict_tcell =  processing_pipeline(adata_tcell, n_genes_by_counts=2000, min_pct_counts_mt=0, pct_counts_mt=8, \n",
    "                                       min_genes=50, min_cells=10, transpose=False, get_int=True, plot_graphs=False, prefilter=True, n_neighbors=30,\n",
    "                                       backup_url='')"
   ]
  },
  {
   "cell_type": "code",
   "execution_count": null,
   "metadata": {},
   "outputs": [],
   "source": []
  }
 ],
 "metadata": {
  "kernelspec": {
   "display_name": "Python [conda env:alex-base] *",
   "language": "python",
   "name": "conda-env-alex-base-py"
  },
  "language_info": {
   "codemirror_mode": {
    "name": "ipython",
    "version": 3
   },
   "file_extension": ".py",
   "mimetype": "text/x-python",
   "name": "python",
   "nbconvert_exporter": "python",
   "pygments_lexer": "ipython3",
   "version": "3.8.0"
  },
  "latex_envs": {
   "LaTeX_envs_menu_present": true,
   "autoclose": false,
   "autocomplete": true,
   "bibliofile": "biblio.bib",
   "cite_by": "apalike",
   "current_citInitial": 1,
   "eqLabelWithNumbers": true,
   "eqNumInitial": 1,
   "hotkeys": {
    "equation": "Ctrl-E",
    "itemize": "Ctrl-I"
   },
   "labels_anchors": false,
   "latex_user_defs": false,
   "report_style_numbering": false,
   "user_envs_cfg": false
  },
  "toc": {
   "base_numbering": 1,
   "nav_menu": {},
   "number_sections": true,
   "sideBar": true,
   "skip_h1_title": false,
   "title_cell": "Table of Contents",
   "title_sidebar": "Contents",
   "toc_cell": false,
   "toc_position": {
    "height": "calc(100% - 180px)",
    "left": "10px",
    "top": "150px",
    "width": "291px"
   },
   "toc_section_display": true,
   "toc_window_display": true
  },
  "varInspector": {
   "cols": {
    "lenName": 16,
    "lenType": 16,
    "lenVar": 40
   },
   "kernels_config": {
    "python": {
     "delete_cmd_postfix": "",
     "delete_cmd_prefix": "del ",
     "library": "var_list.py",
     "varRefreshCmd": "print(var_dic_list())"
    },
    "r": {
     "delete_cmd_postfix": ") ",
     "delete_cmd_prefix": "rm(",
     "library": "var_list.r",
     "varRefreshCmd": "cat(var_dic_list()) "
    }
   },
   "position": {
    "height": "802.85px",
    "left": "1578px",
    "right": "20px",
    "top": "92px",
    "width": "313px"
   },
   "types_to_exclude": [
    "module",
    "function",
    "builtin_function_or_method",
    "instance",
    "_Feature"
   ],
   "window_display": false
  }
 },
 "nbformat": 4,
 "nbformat_minor": 4
}
