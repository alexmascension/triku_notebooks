{
 "cells": [
  {
   "cell_type": "markdown",
   "metadata": {},
   "source": [
    "# Time comparison\n",
    "\n",
    "In this notebook we will analyze different size datasets (known datasets) to see how long does triku take to analyze the datasets. The time comparison will be done with 3 settings:\n",
    "* All features (after basic removal), 1 processor\n",
    "* Filtered features (after removal, to get ~10000 features), 1 processor\n",
    "* Filtered features, several processors (2, 4, 8, 16)\n",
    "\n",
    "We will compare these times with the time required for the rest of processing times of a basic preprocessing pipeline (get neighbors, PCA, UMAP, leiden, etc.) to see how long does running triku take in comparison with the rest of the steps of the pipeline."
   ]
  },
  {
   "cell_type": "code",
   "execution_count": null,
   "metadata": {
    "scrolled": true,
    "tags": []
   },
   "outputs": [],
   "source": [
    "!pip uninstall triku -y\n",
    "!cd ../triku && python setup.py install"
   ]
  },
  {
   "cell_type": "code",
   "execution_count": 1,
   "metadata": {},
   "outputs": [],
   "source": [
    "%matplotlib inline"
   ]
  },
  {
   "cell_type": "code",
   "execution_count": 2,
   "metadata": {
    "ExecuteTime": {
     "end_time": "2020-02-08T12:01:12.111527Z",
     "start_time": "2020-02-08T12:01:09.165623Z"
    }
   },
   "outputs": [],
   "source": [
    "# Imports here\n",
    "import scanpy as sc\n",
    "import scanpy.external as sce\n",
    "import harmonypy as hpy\n",
    "\n",
    "import numpy as np\n",
    "import scipy.stats as sts\n",
    "import scipy.optimize as opt\n",
    "import scipy.signal as sgn\n",
    "import pandas as pd\n",
    "\n",
    "import triku as tk\n",
    "\n",
    "import logging\n",
    "import os\n",
    "from tqdm.notebook import tqdm\n",
    "\n",
    "import seaborn as sns\n",
    "import matplotlib as mpl\n",
    "import matplotlib.pyplot as plt\n",
    "\n",
    "# Especial imports\n",
    "from sklearn.decomposition import PCA\n",
    "from umap.umap_ import fuzzy_simplicial_set, nearest_neighbors\n",
    "\n",
    "# Parallel imports\n",
    "import ray\n",
    "from numba import jit, njit\n",
    "\n",
    "random_state = 10\n",
    "\n",
    "import time\n",
    "import mygene"
   ]
  },
  {
   "cell_type": "code",
   "execution_count": 3,
   "metadata": {},
   "outputs": [],
   "source": [
    "ray.logger.setLevel(logging.ERROR)\n",
    "\n",
    "import warnings\n",
    "warnings.filterwarnings('ignore')"
   ]
  },
  {
   "cell_type": "code",
   "execution_count": 4,
   "metadata": {},
   "outputs": [],
   "source": [
    "from triku_nb_code.palettes_and_cmaps import magma, bold_and_vivid"
   ]
  },
  {
   "cell_type": "code",
   "execution_count": 5,
   "metadata": {},
   "outputs": [],
   "source": [
    "def read_adata(dataset_file, backup_url):\n",
    "    try:\n",
    "        adata = sc.read(dataset_file, backup_url=backup_url)\n",
    "    except:\n",
    "        try:\n",
    "            adata = sc.read_10x_h5(dataset_file, backup_url=backup_url)\n",
    "        except:\n",
    "            adata = sc.read_10x_mtx(dataset_file)\n",
    "    \n",
    "    return adata\n",
    "\n",
    "def processing_pipeline(dataset_file, n_genes_by_counts=4000, n_neighbors=None,\n",
    "                        min_pct_counts_mt=0, pct_counts_mt=25, min_genes=50, min_cells=10, transpose=False, backup_url='', \n",
    "                        get_int=True, plot_graphs=True, prefilter=True):\n",
    "    t_dict = {}\n",
    "    \n",
    "    # Dataset loading and basic profiling\n",
    "    if isinstance(dataset_file, str):\n",
    "        adata = read_adata(dataset_file, backup_url).copy()\n",
    "        if transpose:\n",
    "            adata = adata.transpose()\n",
    "            \n",
    "    elif isinstance(dataset_file, list):\n",
    "        list_adatas = [read_adata(os.getcwd() + '/data/' + i.split('/')[-1], backup_url=i) for i in dataset_file]\n",
    "        if transpose:\n",
    "            list_adatas = [i.transpose() for i in list_adatas]\n",
    "        adata = sc.AnnData.concatenate(*list_adatas)\n",
    "    \n",
    "    elif isinstance(dataset_file, sc.AnnData):\n",
    "        adata = dataset_file.copy()\n",
    "    \n",
    "    # If genes are ENSMUG or like that, we set a query to rename the names\n",
    "    if np.any(['ENSMU' in i for i in adata.var_names]) | np.any(['ENSG' in i for i in adata.var_names]):\n",
    "        mg = mygene.MyGeneInfo()\n",
    "        query = mg.querymany(adata.var_names, scopes='ensembl.gene', returnall=True)\n",
    "        genes = [i['symbol'] if 'symbol' in i else '' for i in query['out']]\n",
    "        adata.var_names = genes\n",
    "        \n",
    "    adata.var_names_make_unique() \n",
    "\n",
    "    t0 = time.time()\n",
    "    sc.pp.filter_cells(adata, min_genes=min_genes)\n",
    "    sc.pp.filter_genes(adata, min_cells=min_cells)\n",
    "    tf = time.time()\n",
    "    print('gene/cell filter', tf-t0)\n",
    "    t_dict['gene/cell filter'] = tf-t0\n",
    "    \n",
    "    if prefilter:\n",
    "        # Dataset profiling - get the graphs to set the n_genes_by_counts and pct_counts_mt\n",
    "        t0 = time.time()\n",
    "        adata.var['mt'] = adata.var_names.str.startswith('MT-') | adata.var_names.str.startswith('mt-')  # annotate the group of mitochondrial genes as 'mt'\n",
    "        sc.pp.calculate_qc_metrics(adata, qc_vars=['mt'], percent_top=None, log1p=False, inplace=True)\n",
    "\n",
    "        if plot_graphs:\n",
    "            sc.pl.violin(adata, ['n_genes_by_counts', 'total_counts', 'pct_counts_mt'],\n",
    "                     jitter=0.4, multi_panel=True)\n",
    "            sc.pl.scatter(adata, x='total_counts', y='pct_counts_mt')\n",
    "            sc.pl.scatter(adata, x='total_counts', y='n_genes_by_counts')\n",
    "\n",
    "        tf = time.time()\n",
    "        print('QC_metrics', tf-t0)\n",
    "        t_dict['QC_metrics'] = tf-t0\n",
    "\n",
    "        t0 = time.time()\n",
    "        adata = adata[adata.obs.n_genes_by_counts < n_genes_by_counts, :]\n",
    "        adata = adata[adata.obs.pct_counts_mt < pct_counts_mt, :]\n",
    "        adata = adata[min_pct_counts_mt < adata.obs.pct_counts_mt, :]\n",
    "        sc.pp.filter_cells(adata, min_genes=1)\n",
    "        sc.pp.filter_genes(adata, min_counts=1)\n",
    "        tf = time.time()\n",
    "        print('filter_cells_genes', tf-t0)\n",
    "        t_dict['filter_cells_genes'] = tf-t0\n",
    "\n",
    "        if not get_int:\n",
    "            # Normalize and log-transforming\n",
    "            t0 = time.time()\n",
    "            sc.pp.normalize_total(adata)\n",
    "            tf = time.time()\n",
    "            print('normalize', tf-t0)\n",
    "            t_dict['normalize'] = tf-t0\n",
    "\n",
    "            t0 = time.time()\n",
    "            sc.pp.log1p(adata)\n",
    "            tf = time.time()\n",
    "            print('log1p', tf-t0)\n",
    "            t_dict['log1p'] = tf-t0\n",
    "\n",
    "    print(adata)\n",
    "\n",
    "    t0 = time.time()\n",
    "    sc.pp.pca(adata)\n",
    "    tf = time.time()\n",
    "    print('pca', tf-t0)\n",
    "    t_dict['pca'] = tf-t0\n",
    "    \n",
    "    if n_neighbors is None:\n",
    "        n_neighbors=int(0.5 * len(adata) ** 0.5)\n",
    "    \n",
    "    # Preparation for FS (PCA, kNN, etc.)\n",
    "    if 'batch' in adata.obs:\n",
    "        print('batch in adata')\n",
    "        t0 = time.time()\n",
    "        sce.pp.bbknn(adata)\n",
    "        tf = time.time()\n",
    "        print('bbknn', tf-t0)\n",
    "        t_dict['bbknn'] = tf-t0\n",
    "        \n",
    "            \n",
    "        t0 = time.time()\n",
    "        sce.pp.harmony_integrate(adata, key='batch')\n",
    "        tf = time.time()\n",
    "        print('harmony', tf-t0)\n",
    "        t_dict['harmony'] = tf-t0\n",
    "        \n",
    "        t0 = time.time()\n",
    "        sc.pp.neighbors(adata, n_neighbors=n_neighbors, metric='cosine', use_rep='X_pca_harmony')\n",
    "        tf = time.time()\n",
    "        print('knn', tf-t0)\n",
    "        t_dict['knn'] = tf-t0\n",
    "    else:\n",
    "        print('batch NOT in adata')\n",
    "        t0 = time.time()\n",
    "        sc.pp.neighbors(adata, n_neighbors=n_neighbors, metric='cosine')\n",
    "        tf = time.time()\n",
    "        print('knn', tf-t0)\n",
    "        t_dict['knn'] = tf-t0\n",
    "\n",
    "    # FS\n",
    "    sc.pp.filter_genes(adata, min_cells=5)\n",
    "    \n",
    "    t0 = time.time()\n",
    "    tk.tl.triku(adata)\n",
    "    tf = time.time()\n",
    "    print('triku', tf-t0)\n",
    "    t_dict['triku'] = tf-t0\n",
    "\n",
    "    \n",
    "\n",
    "    \n",
    "    # Dimensionality reduction\n",
    "    t0 = time.time()\n",
    "    sc.tl.tsne(adata, n_jobs=16)\n",
    "    tf = time.time()\n",
    "    print('t-SNE', tf-t0)\n",
    "    t_dict['t-SNE'] = tf-t0\n",
    "\n",
    "    t0 = time.time()\n",
    "    sc.tl.umap(adata)\n",
    "    tf = time.time()\n",
    "    print('UMAP', tf-t0)\n",
    "    t_dict['UMAP'] = tf-t0\n",
    "    \n",
    "    # Clustering\n",
    "    t0 = time.time()\n",
    "    sc.tl.leiden(adata)\n",
    "    tf = time.time()\n",
    "    print('leiden', tf-t0)\n",
    "    t_dict['leiden'] = tf-t0\n",
    "    \n",
    "    t0 = time.time()\n",
    "    sc.tl.louvain(adata)\n",
    "    tf = time.time()\n",
    "    print('louvain', tf-t0)\n",
    "    t_dict['louvain'] = tf-t0\n",
    "    \n",
    "    # PAGA / trajectory analysis\n",
    "    t0 = time.time()\n",
    "    sc.tl.paga(adata)\n",
    "    tf = time.time()\n",
    "    print('PAGA', tf-t0)\n",
    "    t_dict['PAGA'] = tf-t0\n",
    "    \n",
    "    return t_dict"
   ]
  },
  {
   "cell_type": "markdown",
   "metadata": {},
   "source": [
    "# PBMC datasets (1, 5, 68k)"
   ]
  },
  {
   "cell_type": "markdown",
   "metadata": {},
   "source": [
    "## 1k"
   ]
  },
  {
   "cell_type": "code",
   "execution_count": 6,
   "metadata": {},
   "outputs": [
    {
     "name": "stderr",
     "output_type": "stream",
     "text": [
      "Variable names are not unique. To make them unique, call `.var_names_make_unique`.\n",
      "Variable names are not unique. To make them unique, call `.var_names_make_unique`.\n",
      "Variable names are not unique. To make them unique, call `.var_names_make_unique`.\n",
      "Trying to set attribute `.obs` of view, copying.\n"
     ]
    },
    {
     "name": "stdout",
     "output_type": "stream",
     "text": [
      "gene/cell filter 0.1764531135559082\n",
      "QC_metrics 0.06603288650512695\n",
      "filter_cells_genes 0.06322169303894043\n",
      "AnnData object with n_obs × n_vars = 901 × 12564\n",
      "    obs: 'n_genes', 'n_genes_by_counts', 'total_counts', 'total_counts_mt', 'pct_counts_mt'\n",
      "    var: 'gene_ids', 'feature_types', 'genome', 'n_cells', 'mt', 'n_cells_by_counts', 'mean_counts', 'pct_dropout_by_counts', 'total_counts', 'n_counts'\n",
      "pca 2.3754818439483643\n",
      "batch NOT in adata\n",
      "knn 4.574864864349365\n",
      "triku 5.610928535461426\n",
      "t-SNE 2.304821014404297\n"
     ]
    },
    {
     "name": "stderr",
     "output_type": "stream",
     "text": [
      "... storing 'feature_types' as categorical\n",
      "... storing 'genome' as categorical\n"
     ]
    },
    {
     "name": "stdout",
     "output_type": "stream",
     "text": [
      "UMAP 2.431525945663452\n",
      "leiden 0.06370878219604492\n",
      "louvain 0.04371166229248047\n",
      "PAGA 0.1453261375427246\n"
     ]
    }
   ],
   "source": [
    "t_dict_pbmc_1k = processing_pipeline(dataset_file=os.getcwd() + '/data/10x/pbmc_1k_v3_filtered_feature_bc_matrix.h5', n_genes_by_counts=3000, pct_counts_mt=20, plot_graphs=False,\n",
    "                                    backup_url='https://cf.10xgenomics.com/samples/cell-exp/3.0.0/pbmc_1k_v3/pbmc_1k_v3_filtered_feature_bc_matrix.h5')"
   ]
  },
  {
   "cell_type": "code",
   "execution_count": 7,
   "metadata": {},
   "outputs": [
    {
     "data": {
      "text/plain": [
       "{'gene/cell filter': 0.1764531135559082,\n",
       " 'QC_metrics': 0.06603288650512695,\n",
       " 'filter_cells_genes': 0.06322169303894043,\n",
       " 'pca': 2.3754818439483643,\n",
       " 'knn': 4.574864864349365,\n",
       " 'triku': 5.610928535461426,\n",
       " 't-SNE': 2.304821014404297,\n",
       " 'UMAP': 2.431525945663452,\n",
       " 'leiden': 0.06370878219604492,\n",
       " 'louvain': 0.04371166229248047,\n",
       " 'PAGA': 0.1453261375427246}"
      ]
     },
     "execution_count": 7,
     "metadata": {},
     "output_type": "execute_result"
    }
   ],
   "source": [
    "t_dict_pbmc_1k"
   ]
  },
  {
   "cell_type": "markdown",
   "metadata": {},
   "source": [
    "## 5k"
   ]
  },
  {
   "cell_type": "code",
   "execution_count": 8,
   "metadata": {},
   "outputs": [
    {
     "name": "stderr",
     "output_type": "stream",
     "text": [
      "Variable names are not unique. To make them unique, call `.var_names_make_unique`.\n",
      "Variable names are not unique. To make them unique, call `.var_names_make_unique`.\n",
      "Variable names are not unique. To make them unique, call `.var_names_make_unique`.\n"
     ]
    },
    {
     "name": "stdout",
     "output_type": "stream",
     "text": [
      "gene/cell filter 0.3525125980377197\n"
     ]
    },
    {
     "name": "stderr",
     "output_type": "stream",
     "text": [
      "Trying to set attribute `.obs` of view, copying.\n"
     ]
    },
    {
     "name": "stdout",
     "output_type": "stream",
     "text": [
      "QC_metrics 0.2083292007446289\n",
      "filter_cells_genes 0.28251194953918457\n",
      "AnnData object with n_obs × n_vars = 4094 × 15000\n",
      "    obs: 'n_genes', 'n_genes_by_counts', 'total_counts', 'total_counts_mt', 'pct_counts_mt'\n",
      "    var: 'gene_ids', 'feature_types', 'genome', 'n_cells', 'mt', 'n_cells_by_counts', 'mean_counts', 'pct_dropout_by_counts', 'total_counts', 'n_counts'\n",
      "pca 12.655788898468018\n",
      "batch NOT in adata\n",
      "knn 0.9816465377807617\n",
      "triku 13.484415769577026\n",
      "t-SNE 11.23947286605835\n",
      "UMAP 10.400574445724487\n",
      "leiden 0.758129358291626\n"
     ]
    },
    {
     "name": "stderr",
     "output_type": "stream",
     "text": [
      "... storing 'feature_types' as categorical\n",
      "... storing 'genome' as categorical\n"
     ]
    },
    {
     "name": "stdout",
     "output_type": "stream",
     "text": [
      "louvain 0.5756673812866211\n",
      "PAGA 0.3716881275177002\n"
     ]
    }
   ],
   "source": [
    "t_dict_pbmc_5k = processing_pipeline(dataset_file=os.getcwd() + '/data/10x/5k_pbmc_protein_v3_filtered_feature_bc_matrix.h5', n_genes_by_counts=4000, pct_counts_mt=20, plot_graphs=False,\n",
    "                                    backup_url='https://cf.10xgenomics.com/samples/cell-exp/3.0.2/5k_pbmc_protein_v3/5k_pbmc_protein_v3_filtered_feature_bc_matrix.h5')"
   ]
  },
  {
   "cell_type": "code",
   "execution_count": 9,
   "metadata": {},
   "outputs": [
    {
     "data": {
      "text/plain": [
       "{'gene/cell filter': 0.3525125980377197,\n",
       " 'QC_metrics': 0.2083292007446289,\n",
       " 'filter_cells_genes': 0.28251194953918457,\n",
       " 'pca': 12.655788898468018,\n",
       " 'knn': 0.9816465377807617,\n",
       " 'triku': 13.484415769577026,\n",
       " 't-SNE': 11.23947286605835,\n",
       " 'UMAP': 10.400574445724487,\n",
       " 'leiden': 0.758129358291626,\n",
       " 'louvain': 0.5756673812866211,\n",
       " 'PAGA': 0.3716881275177002}"
      ]
     },
     "execution_count": 9,
     "metadata": {},
     "output_type": "execute_result"
    }
   ],
   "source": [
    "t_dict_pbmc_5k"
   ]
  },
  {
   "cell_type": "markdown",
   "metadata": {},
   "source": [
    "## 68k"
   ]
  },
  {
   "cell_type": "code",
   "execution_count": null,
   "metadata": {},
   "outputs": [],
   "source": [
    "!cd {os.getcwd()}/data/10x && wget https://cf.10xgenomics.com/samples/cell-exp/1.1.0/fresh_68k_pbmc_donor_a/fresh_68k_pbmc_donor_a_filtered_gene_bc_matrices.tar.gz"
   ]
  },
  {
   "cell_type": "code",
   "execution_count": null,
   "metadata": {},
   "outputs": [],
   "source": [
    "!cd {os.getcwd()}/data/10x && tar zxvf fresh_68k_pbmc_donor_a_filtered_gene_bc_matrices.tar.gz"
   ]
  },
  {
   "cell_type": "code",
   "execution_count": 10,
   "metadata": {},
   "outputs": [
    {
     "name": "stdout",
     "output_type": "stream",
     "text": [
      "gene/cell filter 1.3913171291351318\n",
      "QC_metrics 0.8236515522003174\n"
     ]
    },
    {
     "name": "stderr",
     "output_type": "stream",
     "text": [
      "Trying to set attribute `.obs` of view, copying.\n"
     ]
    },
    {
     "name": "stdout",
     "output_type": "stream",
     "text": [
      "filter_cells_genes 1.2771224975585938\n",
      "AnnData object with n_obs × n_vars = 66758 × 15331\n",
      "    obs: 'n_genes', 'n_genes_by_counts', 'total_counts', 'total_counts_mt', 'pct_counts_mt'\n",
      "    var: 'gene_ids', 'n_cells', 'mt', 'n_cells_by_counts', 'mean_counts', 'pct_dropout_by_counts', 'total_counts', 'n_counts'\n",
      "pca 27.000394344329834\n",
      "batch NOT in adata\n",
      "knn 31.976906538009644\n",
      "triku 31.641143798828125\n",
      "t-SNE 260.266250371933\n",
      "UMAP 53.95405077934265\n",
      "leiden 28.115334510803223\n",
      "louvain 26.543845653533936\n",
      "PAGA 2.922435998916626\n"
     ]
    }
   ],
   "source": [
    "t_dict_pbmc_68k = processing_pipeline(dataset_file=os.getcwd() + '/data/10x/filtered_matrices_mex/hg19', n_genes_by_counts=1000, pct_counts_mt=5, plot_graphs=False,\n",
    "                                     backup_url='', n_neighbors=30)"
   ]
  },
  {
   "cell_type": "code",
   "execution_count": 11,
   "metadata": {},
   "outputs": [
    {
     "data": {
      "text/plain": [
       "{'gene/cell filter': 1.3913171291351318,\n",
       " 'QC_metrics': 0.8236515522003174,\n",
       " 'filter_cells_genes': 1.2771224975585938,\n",
       " 'pca': 27.000394344329834,\n",
       " 'knn': 31.976906538009644,\n",
       " 'triku': 31.641143798828125,\n",
       " 't-SNE': 260.266250371933,\n",
       " 'UMAP': 53.95405077934265,\n",
       " 'leiden': 28.115334510803223,\n",
       " 'louvain': 26.543845653533936,\n",
       " 'PAGA': 2.922435998916626}"
      ]
     },
     "execution_count": 11,
     "metadata": {},
     "output_type": "execute_result"
    }
   ],
   "source": [
    "t_dict_pbmc_68k"
   ]
  },
  {
   "cell_type": "markdown",
   "metadata": {
    "tags": []
   },
   "source": [
    "# Subramanian et al. - Kidney organoid (300k, batches)"
   ]
  },
  {
   "cell_type": "code",
   "execution_count": 12,
   "metadata": {},
   "outputs": [],
   "source": [
    "list_GSM = ['GSM4044536', 'GSM4044537', 'GSM4044538', 'GSM4044539', 'GSM4044540', 'GSM4044541', 'GSM4044542', 'GSM4044543', 'GSM4044544']"
   ]
  },
  {
   "cell_type": "code",
   "execution_count": 13,
   "metadata": {},
   "outputs": [],
   "source": [
    "kidney_org_dir = os.getcwd() + '/data/kidney'\n",
    "os.makedirs(kidney_org_dir, exist_ok=True)"
   ]
  },
  {
   "cell_type": "code",
   "execution_count": null,
   "metadata": {},
   "outputs": [],
   "source": [
    "# If it doesn't work, download it manually\n",
    "!wget https://www.ncbi.nlm.nih.gov/geo/download/?acc=GSE136314&format=file -O {kidney_org_dir}/GSE136314_RAW.tar"
   ]
  },
  {
   "cell_type": "code",
   "execution_count": null,
   "metadata": {},
   "outputs": [],
   "source": [
    "!tar -xvf {kidney_org_dir}/GSE136314_RAW.tar -C {kidney_org_dir}"
   ]
  },
  {
   "cell_type": "code",
   "execution_count": null,
   "metadata": {},
   "outputs": [],
   "source": [
    "for GSM in list_GSM:\n",
    "    files = [i for i in os.listdir(kidney_org_dir) if GSM in i]\n",
    "    os.makedirs(f'{kidney_org_dir}/{GSM}', exist_ok=True)\n",
    "    mtx, barcodes, genes = [i for i in files if 'gene_count.mtx' in i ][0], [i for i in files if 'barcodes.tsv.gz' in i ][0], [i for i in files if 'genes.tsv.gz' in i ][0]\n",
    "    os.rename(f'{kidney_org_dir}/{mtx}', f'{kidney_org_dir}/{GSM}/matrix.mtx.gz')\n",
    "    os.rename(f'{kidney_org_dir}/{barcodes}', f'{kidney_org_dir}/{GSM}/barcodes.tsv.gz')\n",
    "    os.rename(f'{kidney_org_dir}/{genes}', f'{kidney_org_dir}/{GSM}/features.tsv.gz')"
   ]
  },
  {
   "cell_type": "code",
   "execution_count": null,
   "metadata": {},
   "outputs": [],
   "source": [
    "list_adatas = []\n",
    "for GSM in list_GSM:\n",
    "    print(GSM)\n",
    "    adata = sc.read_mtx(f'{kidney_org_dir}/{GSM}/matrix.mtx.gz').transpose()\n",
    "    adata.var_names = pd.read_csv(f'{kidney_org_dir}/{GSM}/features.tsv.gz', header=None)[0]\n",
    "    adata.obs_names = pd.read_csv(f'{kidney_org_dir}/{GSM}/barcodes.tsv.gz', header=None)[0]\n",
    "    list_adatas.append(adata)\n",
    "    \n",
    "adata_kidney = sc.AnnData.concatenate(*list_adatas, join='outer')\n",
    "adata_kidney.write_h5ad(f'{kidney_org_dir}/adata_kidney.h5ad')"
   ]
  },
  {
   "cell_type": "code",
   "execution_count": 14,
   "metadata": {},
   "outputs": [],
   "source": [
    "adata_kidney = sc.read(f'{kidney_org_dir}/adata_kidney.h5ad')"
   ]
  },
  {
   "cell_type": "code",
   "execution_count": 15,
   "metadata": {},
   "outputs": [
    {
     "name": "stdout",
     "output_type": "stream",
     "text": [
      "gene/cell filter 11.65590524673462\n",
      "QC_metrics 6.921982049942017\n"
     ]
    },
    {
     "name": "stderr",
     "output_type": "stream",
     "text": [
      "Trying to set attribute `.obs` of view, copying.\n"
     ]
    },
    {
     "name": "stdout",
     "output_type": "stream",
     "text": [
      "filter_cells_genes 11.225468158721924\n",
      "AnnData object with n_obs × n_vars = 242106 × 19067\n",
      "    obs: 'batch', 'n_genes', 'n_genes_by_counts', 'total_counts', 'total_counts_mt', 'pct_counts_mt'\n",
      "    var: 'n_cells', 'mt', 'n_cells_by_counts', 'mean_counts', 'pct_dropout_by_counts', 'total_counts', 'n_counts'\n",
      "pca 167.6449258327484\n",
      "batch in adata\n",
      "bbknn 82.71136426925659\n"
     ]
    },
    {
     "name": "stderr",
     "output_type": "stream",
     "text": [
      "2021-08-31 16:23:05,999 - harmonypy - INFO - Iteration 1 of 10\n",
      "2021-08-31 16:26:02,736 - harmonypy - INFO - Iteration 2 of 10\n",
      "2021-08-31 16:29:00,915 - harmonypy - INFO - Iteration 3 of 10\n",
      "2021-08-31 16:32:00,430 - harmonypy - INFO - Converged after 3 iterations\n"
     ]
    },
    {
     "name": "stdout",
     "output_type": "stream",
     "text": [
      "harmony 639.8956282138824\n",
      "knn 58.98443937301636\n",
      "triku 315.4680349826813\n",
      "t-SNE 928.0861029624939\n",
      "UMAP 221.78708028793335\n",
      "leiden 223.75757813453674\n",
      "louvain 119.32232880592346\n",
      "PAGA 15.196204423904419\n"
     ]
    }
   ],
   "source": [
    "t_dict_kidney = processing_pipeline(adata_kidney, prefilter=True, min_cells=100, pct_counts_mt=5, n_genes_by_counts=3500, n_neighbors=30, plot_graphs=False,)"
   ]
  },
  {
   "cell_type": "markdown",
   "metadata": {},
   "source": [
    "# T cells (60k, batches)"
   ]
  },
  {
   "cell_type": "code",
   "execution_count": 18,
   "metadata": {},
   "outputs": [],
   "source": [
    "tcell_dir = os.getcwd() + '/data/tcell'\n",
    "os.makedirs(tcell_dir, exist_ok=True)"
   ]
  },
  {
   "cell_type": "code",
   "execution_count": null,
   "metadata": {},
   "outputs": [],
   "source": [
    "# If it doesn't work, download it manually\n",
    "!wget https://www.ncbi.nlm.nih.gov/geo/download/?acc=GSE150132 -O {tcell_dir}/GSE150132_RAW.tar"
   ]
  },
  {
   "cell_type": "code",
   "execution_count": null,
   "metadata": {},
   "outputs": [],
   "source": [
    "!tar -xvf {tcell_dir}/GSE150132_RAW.tar -C {tcell_dir}"
   ]
  },
  {
   "cell_type": "code",
   "execution_count": null,
   "metadata": {},
   "outputs": [],
   "source": [
    "list_GSM = ['GSM4524029', 'GSM4524030', 'GSM4524031', 'GSM4524032', 'GSM4524033']\n",
    "for GSM in list_GSM:\n",
    "    files = [i for i in os.listdir(tcell_dir) if GSM in i]\n",
    "    os.makedirs(f'{tcell_dir}/{GSM}', exist_ok=True)\n",
    "    mtx, barcodes, genes = [i for i in files if 'matrix.mtx' in i ][0], [i for i in files if 'barcodes.tsv.gz' in i ][0], [i for i in files if 'features.tsv.gz' in i ][0]\n",
    "    os.rename(f'{tcell_dir}/{mtx}', f'{tcell_dir}/{GSM}/matrix.mtx.gz')\n",
    "    os.rename(f'{tcell_dir}/{barcodes}', f'{tcell_dir}/{GSM}/barcodes.tsv.gz')\n",
    "    os.rename(f'{tcell_dir}/{genes}', f'{tcell_dir}/{GSM}/features.tsv.gz')"
   ]
  },
  {
   "cell_type": "code",
   "execution_count": null,
   "metadata": {},
   "outputs": [],
   "source": [
    "list_adatas = []\n",
    "for GSM in list_GSM:\n",
    "    print(GSM)\n",
    "    adata = sc.read_mtx(f'{tcell_dir}/{GSM}/matrix.mtx.gz').transpose()\n",
    "    adata.var_names = pd.read_csv(f'{tcell_dir}/{GSM}/features.tsv.gz', header=None)[0]\n",
    "    adata.obs_names = pd.read_csv(f'{tcell_dir}/{GSM}/barcodes.tsv.gz', header=None)[0]\n",
    "    list_adatas.append(adata)\n",
    "    \n",
    "adata_tcell = sc.AnnData.concatenate(*list_adatas, join='outer')\n",
    "adata_tcell.var_names = [i.split('\\t')[1] for i in adata_tcell.var_names]\n",
    "adata_tcell.write_h5ad(f'{tcell_dir}/adata_tcell.h5ad')"
   ]
  },
  {
   "cell_type": "code",
   "execution_count": 19,
   "metadata": {},
   "outputs": [
    {
     "name": "stderr",
     "output_type": "stream",
     "text": [
      "Variable names are not unique. To make them unique, call `.var_names_make_unique`.\n"
     ]
    }
   ],
   "source": [
    "adata_tcell = sc.read(f'{tcell_dir}/adata_tcell.h5ad')"
   ]
  },
  {
   "cell_type": "code",
   "execution_count": 20,
   "metadata": {},
   "outputs": [
    {
     "name": "stderr",
     "output_type": "stream",
     "text": [
      "Variable names are not unique. To make them unique, call `.var_names_make_unique`.\n"
     ]
    },
    {
     "name": "stdout",
     "output_type": "stream",
     "text": [
      "gene/cell filter 4.304690599441528\n",
      "QC_metrics 2.52275013923645\n"
     ]
    },
    {
     "name": "stderr",
     "output_type": "stream",
     "text": [
      "Trying to set attribute `.obs` of view, copying.\n"
     ]
    },
    {
     "name": "stdout",
     "output_type": "stream",
     "text": [
      "filter_cells_genes 3.5770392417907715\n",
      "AnnData object with n_obs × n_vars = 64132 × 18201\n",
      "    obs: 'batch', 'n_genes', 'n_genes_by_counts', 'total_counts', 'total_counts_mt', 'pct_counts_mt'\n",
      "    var: 'n_cells', 'mt', 'n_cells_by_counts', 'mean_counts', 'pct_dropout_by_counts', 'total_counts', 'n_counts'\n",
      "pca 53.858011960983276\n",
      "batch in adata\n",
      "bbknn 16.25207757949829\n"
     ]
    },
    {
     "name": "stderr",
     "output_type": "stream",
     "text": [
      "2021-09-01 17:23:18,930 - harmonypy - INFO - Iteration 1 of 10\n",
      "2021-09-01 17:24:29,645 - harmonypy - INFO - Iteration 2 of 10\n",
      "2021-09-01 17:25:30,638 - harmonypy - INFO - Iteration 3 of 10\n",
      "2021-09-01 17:26:25,982 - harmonypy - INFO - Iteration 4 of 10\n",
      "2021-09-01 17:27:20,766 - harmonypy - INFO - Iteration 5 of 10\n",
      "2021-09-01 17:28:16,228 - harmonypy - INFO - Iteration 6 of 10\n",
      "2021-09-01 17:28:54,960 - harmonypy - INFO - Iteration 7 of 10\n",
      "2021-09-01 17:29:29,717 - harmonypy - INFO - Iteration 8 of 10\n",
      "2021-09-01 17:30:02,409 - harmonypy - INFO - Converged after 8 iterations\n"
     ]
    },
    {
     "name": "stdout",
     "output_type": "stream",
     "text": [
      "harmony 450.6034576892853\n",
      "knn 17.63447904586792\n",
      "triku 61.609858751297\n",
      "t-SNE 317.4437565803528\n",
      "UMAP 54.64051556587219\n",
      "leiden 35.97402501106262\n",
      "louvain 28.63161873817444\n",
      "PAGA 4.470667362213135\n"
     ]
    }
   ],
   "source": [
    "t_dict_tcell =  processing_pipeline(adata_tcell, n_genes_by_counts=2000, min_pct_counts_mt=0, pct_counts_mt=8, \n",
    "                                       min_genes=50, min_cells=10, transpose=False, get_int=True, plot_graphs=False, prefilter=True, n_neighbors=30,\n",
    "                                       backup_url='')"
   ]
  }
 ],
 "metadata": {
  "kernelspec": {
   "display_name": "Python [conda env:alex-base] *",
   "language": "python",
   "name": "conda-env-alex-base-py"
  },
  "language_info": {
   "codemirror_mode": {
    "name": "ipython",
    "version": 3
   },
   "file_extension": ".py",
   "mimetype": "text/x-python",
   "name": "python",
   "nbconvert_exporter": "python",
   "pygments_lexer": "ipython3",
   "version": "3.8.0"
  },
  "latex_envs": {
   "LaTeX_envs_menu_present": true,
   "autoclose": false,
   "autocomplete": true,
   "bibliofile": "biblio.bib",
   "cite_by": "apalike",
   "current_citInitial": 1,
   "eqLabelWithNumbers": true,
   "eqNumInitial": 1,
   "hotkeys": {
    "equation": "Ctrl-E",
    "itemize": "Ctrl-I"
   },
   "labels_anchors": false,
   "latex_user_defs": false,
   "report_style_numbering": false,
   "user_envs_cfg": false
  },
  "toc": {
   "base_numbering": 1,
   "nav_menu": {},
   "number_sections": true,
   "sideBar": true,
   "skip_h1_title": false,
   "title_cell": "Table of Contents",
   "title_sidebar": "Contents",
   "toc_cell": false,
   "toc_position": {
    "height": "calc(100% - 180px)",
    "left": "10px",
    "top": "150px",
    "width": "291px"
   },
   "toc_section_display": true,
   "toc_window_display": true
  },
  "varInspector": {
   "cols": {
    "lenName": 16,
    "lenType": 16,
    "lenVar": 40
   },
   "kernels_config": {
    "python": {
     "delete_cmd_postfix": "",
     "delete_cmd_prefix": "del ",
     "library": "var_list.py",
     "varRefreshCmd": "print(var_dic_list())"
    },
    "r": {
     "delete_cmd_postfix": ") ",
     "delete_cmd_prefix": "rm(",
     "library": "var_list.r",
     "varRefreshCmd": "cat(var_dic_list()) "
    }
   },
   "position": {
    "height": "802.85px",
    "left": "1578px",
    "right": "20px",
    "top": "92px",
    "width": "313px"
   },
   "types_to_exclude": [
    "module",
    "function",
    "builtin_function_or_method",
    "instance",
    "_Feature"
   ],
   "window_display": false
  }
 },
 "nbformat": 4,
 "nbformat_minor": 4
}
