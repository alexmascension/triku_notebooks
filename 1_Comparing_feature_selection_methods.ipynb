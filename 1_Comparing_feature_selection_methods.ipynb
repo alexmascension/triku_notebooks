{
 "cells": [
  {
   "cell_type": "markdown",
   "metadata": {},
   "source": [
    "# Comparing other feature selection methods with triku\n",
    "In this notebook we will compare the performance of triku, compared to other methods. \n",
    "\n",
    "The methods that will be compared will be the following:\n",
    "* Select genes with highest variance.   \n",
    "* Scanpy's `sc.pp.highly_variable_genes`: It is based on Seurat's `vst` method, so they should return similar results.\n",
    "* scry `devianceFeatureSelection()`. This method is featured as the feature selection for Irizarry's GLM-PCA paper (https://doi.org/10.1186/s13059-019-1861-6). From its description, it computes a deviance statistic for each row feature for count data based on a multinomial null model that assumes each feature has a constant rate. Features with large deviance are likely to be informative. Uninformative, low deviance features can be discarded to speed up downstream analyses and reduce memory footprint. The `fam`parameter will be set to `binomial`, the default.\n",
    "* M3Drop, which has two main functions:\n",
    "    * NBDrop: the NBDrop model assumes proportion of zeros follows a Michaelis-Menten model. Then the Michaelis-Menten parameter $K$ is fitted. For each gene, its parameter $K_i$ is compared to $K$ using a $Z$-test, which returns the selected genes.\n",
    "    * NBUmi: The procedure is similar to above, although the equation to fit now is a negative binomial model,  and the selection of genes is then done using a $Z$-test.\n",
    "* `BrenneckeGetVariableGenes` fits a function between CV$^2$ and mean expression. \n",
    "\n",
    "With the exception of scanpy and triku, the rest of functions are set on $R$. We will use jupyter's `%%R` magic command, and `anndata2ri` to transform `annData` into `SingleCellExperiment` objects, and we will generate the functions to accept that annData and return the list of selected features. The functions have to be set up in notebook, and cannot be externalized. \n",
    "\n",
    "M3Drop requires a normalization step, which will be done in-situ."
   ]
  },
  {
   "cell_type": "code",
   "execution_count": null,
   "metadata": {},
   "outputs": [],
   "source": [
    "%load_ext autoreload"
   ]
  },
  {
   "cell_type": "code",
   "execution_count": null,
   "metadata": {},
   "outputs": [],
   "source": [
    "%autoreload 2"
   ]
  },
  {
   "cell_type": "code",
   "execution_count": null,
   "metadata": {},
   "outputs": [],
   "source": [
    "import triku as tk\n",
    "import scanpy as sc\n",
    "import pandas as pd\n",
    "import numpy as np\n",
    "import scipy.sparse as spr\n",
    "import scipy.stats as sts\n",
    "import os\n",
    "import gc\n",
    "from itertools import product\n",
    "import pickle\n",
    "import ray\n",
    "import seaborn as sns\n",
    "import itertools \n",
    "\n",
    "from IPython.display import display, HTML\n",
    "\n",
    "from tqdm.notebook import tqdm\n",
    "\n",
    "from bokeh.io import show, output_notebook, reset_output\n",
    "from bokeh.plotting import figure\n",
    "from bokeh.models import LinearColorMapper\n",
    "\n",
    "import matplotlib.pyplot as plt\n",
    "import matplotlib as mpl\n",
    "from matplotlib.lines import Line2D\n",
    "\n",
    "from sklearn.metrics import adjusted_rand_score as ARS\n",
    "from sklearn.metrics import adjusted_mutual_info_score as NMI\n",
    "from sklearn.metrics import silhouette_score, davies_bouldin_score\n",
    "\n",
    "reset_output()\n",
    "output_notebook()"
   ]
  },
  {
   "cell_type": "code",
   "execution_count": null,
   "metadata": {},
   "outputs": [],
   "source": [
    "!python setup.py install"
   ]
  },
  {
   "cell_type": "code",
   "execution_count": null,
   "metadata": {},
   "outputs": [],
   "source": [
    "import sys, os\n",
    "sys.path.insert(0, os.getcwd() + '/code')\n",
    "\n",
    "from triku_nb_code.comparing_feat_sel import plot_max_var_x_dataset, plot_max_var_x_method, create_dict_UMAPs_datasets, \\\n",
    "get_max_diff_gene, plot_ARI_x_method, plot_ARI_x_dataset, biological_silhouette_ARI_table, plot_lab_org_comparison_scores, \\\n",
    "clustering_binary_search, compare_rankings, compare_values\n",
    "from triku_nb_code.comparing_feat_sel import create_UMAP_adataset_libprep_org, plot_UMAPs_datasets, plot_XY, biological_silhouette_ARI_table\n",
    "from triku_nb_code.palettes_and_cmaps import magma, bold_and_vivid, prism"
   ]
  },
  {
   "cell_type": "code",
   "execution_count": null,
   "metadata": {},
   "outputs": [],
   "source": [
    "%matplotlib inline"
   ]
  },
  {
   "cell_type": "code",
   "execution_count": null,
   "metadata": {},
   "outputs": [],
   "source": [
    "import anndata2ri\n",
    "anndata2ri.activate()\n",
    "%load_ext rpy2.ipython"
   ]
  },
  {
   "cell_type": "code",
   "execution_count": null,
   "metadata": {},
   "outputs": [],
   "source": [
    "%%R\n",
    "# Load all the R libraries we will be using in the notebook\n",
    "library(M3Drop) # Depends on r-foreing (conda-forge) and Hmisc and reldist (install.packages)\n",
    "library(scry) # If R < 4, launch commit 9f0fc819"
   ]
  },
  {
   "cell_type": "code",
   "execution_count": null,
   "metadata": {},
   "outputs": [],
   "source": [
    "os.makedirs(os.getcwd() + '/exports/comparisons/', exist_ok=True)\n",
    "os.makedirs(os.getcwd() + '/figures/comparison_figs/png', exist_ok=True)\n",
    "os.makedirs(os.getcwd() + '/figures/comparison_figs/pdf', exist_ok=True)\n",
    "data_dir = os.getcwd() + '/data/'"
   ]
  },
  {
   "cell_type": "markdown",
   "metadata": {},
   "source": [
    "In the following 3 cells we will create the cells that obtain the most relevant features. Since some of the calls are to R, they have to be kept as separate cells. Also, we create the function `create_df_feature_ranking` which creates two dataframes: one with the evaluation values (p-value, emd distance, etc.) of each method, and the second one with the ranking of genes based on those values. These dataframes will be valuable so that we don't have to repeat the calling to the feature selection methods each time we do a graph. `create_df_feature_ranking` is also kept as a cell because it makes some calls to R."
   ]
  },
  {
   "cell_type": "code",
   "execution_count": null,
   "metadata": {},
   "outputs": [],
   "source": [
    "%%R\n",
    "\n",
    "run_scry <- function(sce){ #adata\n",
    "    adata_ret = devianceFeatureSelection(sce, nkeep=dim(sce)[1], assay='X')\n",
    "    return(adata_ret) #returns adata with stats on .var\n",
    "} \n",
    "\n",
    "\n",
    "run_brennecke <- function(sce){ #df\n",
    "    res_df <- BrenneckeGetVariableGenes(sce, suppress.plot=TRUE, fdr=100)\n",
    "    return(res_df) # returns sorted df with genes and stats\n",
    "}\n",
    "\n",
    "\n",
    "run_M3Drop <- function(sce){\n",
    "    norm <- M3DropConvertData(sce, is.counts=TRUE)\n",
    "    DE_genes <- M3DropFeatureSelection(norm, suppress.plot=TRUE, mt_threshold=50)\n",
    "    return(DE_genes) # returns sorted df with genes and stats\n",
    "    \n",
    "}\n",
    "\n",
    "run_NBumi <- function(sce){\n",
    "    count_mat <- NBumiConvertData(sce, is.counts=TRUE)\n",
    "    DANB_fit <- NBumiFitModel(count_mat)\n",
    "    NBDropFS <- NBumiFeatureSelectionCombinedDrop(DANB_fit, suppress.plot=TRUE, qval.thresh=10)\n",
    "    return(NBDropFS)  # returns sorted df with genes and stats\n",
    "    \n",
    "}\n"
   ]
  },
  {
   "cell_type": "code",
   "execution_count": null,
   "metadata": {},
   "outputs": [],
   "source": [
    "def run_scanpy(adata):\n",
    "    adata_copy = adata.copy()\n",
    "    if not 'log1p' in adata_copy.uns:\n",
    "        sc.pp.log1p(adata_copy)\n",
    "    ret = sc.pp.highly_variable_genes(adata_copy, n_top_genes=len(adata_copy), inplace=False)\n",
    "    df = pd.DataFrame(ret)\n",
    "    df =  df.set_index(adata_copy.var_names)\n",
    "    del adata_copy; gc.collect()\n",
    "    return df # returns df with stats\n",
    "\n",
    "def run_variable(adata):\n",
    "    if spr.issparse(adata.X):\n",
    "        std = adata.X.power(2).mean(0) - np.power(adata.X.mean(0), 2) \n",
    "        std = np.asarray(std).flatten()        \n",
    "    else:\n",
    "        std = adata.X.std(0)\n",
    "        \n",
    "    return std #returns vector with order as var_names \n",
    "\n",
    "def run_triku(adata, seed):\n",
    "    adata_copy = adata.copy()\n",
    "    tk.tl.triku(adata_copy, n_comps=30, n_windows=100, random_state=seed, verbose='error', n_procs=1)\n",
    "    d = adata_copy.var['triku_distance'] #pd series with distance\n",
    "    del adata_copy; gc.collect()\n",
    "    return d"
   ]
  },
  {
   "cell_type": "code",
   "execution_count": null,
   "metadata": {},
   "outputs": [],
   "source": [
    "def create_df_feature_ranking(adatax, title_prefix, apply_log=False):\n",
    "    \"\"\"\n",
    "    Create a dataframe with the ranking of features, and another one with the feature values. The adata must be the raw\n",
    "    adata. From that we will create a adata_df necessary for some R methods.\n",
    "    The adata will include:\n",
    "    - Triku with 10 seeds 'triku_SEEDN'\n",
    "    - Scanpy's HVG 'scanpy'\n",
    "    - Std 'std'\n",
    "    - scry 'scry'\n",
    "    - brennecke 'brennecke'\n",
    "    - M3Drop 'm3drop'\n",
    "    - NBumi 'nbumi'\n",
    "    \n",
    "    After each method is run, we will fill the dataframe values, with the values of the metrics used for feature selection, \n",
    "    and the dataframe of rankings with the rankings based on the returned value (0, 1, 2, etc.). \n",
    "    We create two separate dataframes because the df with values might be reserved for other purposes. The rank dataframes is interesting\n",
    "    because the values on the values dataframe have different argsort orders depending on the column (M3drop and NBumi direct, rest reverse).\n",
    "    \"\"\"\n",
    "    \n",
    "    adata = adatax.copy()\n",
    "    sc.pp.filter_genes(adata, min_cells=1) \n",
    "    sc.pp.filter_cells(adata, min_genes=1)\n",
    "    \n",
    "    if apply_log:\n",
    "        sc.pp.log1p(adata)\n",
    "    \n",
    "    adata_df = pd.DataFrame(adata.X.T, index=adata.var_names, columns=adata.obs_names)\n",
    "        \n",
    "    adata_short = sc.AnnData(X = adata.X[:,:]) # we have to create a clean adata because some column break Rpush\n",
    "    adata_short.var_names, adata_short.obs_names = adata.var_names[:], adata.obs_names[:]\n",
    "    print(adata_short.shape)\n",
    "    \n",
    "    %Rpush adata_short\n",
    "    %Rpush adata_df\n",
    "    \n",
    "    print('Outside R', adata.shape, adata_short.shape)\n",
    "    d = %R  dim(adata_short)\n",
    "    print('Inside R', d)\n",
    "       \n",
    "    if 'Group' in adata.obs:\n",
    "        adata_groups = [i.replace('Group', '') for i in adata.obs['Group']]\n",
    "        adata.obs['groupn'] = adata_groups\n",
    "    \n",
    "    index, columns = adata.var_names, [f'triku_{i}' for i in range(10)] + ['scanpy', 'std', 'scry', 'brennecke', 'm3drop', 'nbumi']\n",
    "    df_values, df_ranks = pd.DataFrame(index=index, columns=columns), pd.DataFrame(index=index, columns=columns)\n",
    "    \n",
    "    for i in range(10):\n",
    "        df_emd_distance = run_triku(adata, i)\n",
    "        df_values.loc[df_emd_distance.index, f'triku_{i}'] = df_emd_distance.values\n",
    "        \n",
    "    \n",
    "    scanpy_ret = run_scanpy(adata)\n",
    "    df_values.loc[scanpy_ret.index, 'scanpy'] = scanpy_ret['dispersions_norm'].values\n",
    "    assert len(df_values.index) == len(adata.var_names)\n",
    "    \n",
    "    std_ret = run_variable(adata)\n",
    "    df_values.loc[:, 'std'] = std_ret\n",
    "    assert len(df_values.index) == len(adata.var_names)\n",
    "    \n",
    "    scry_ret = %R run_scry(adata_short)\n",
    "    df_values.loc[scry_ret.var.index, 'scry'] = scry_ret.var['binomial_deviance'].values\n",
    "    assert len(df_values.index) == len(adata.var_names)\n",
    "    \n",
    "    brennecke_ret = %R run_brennecke(adata_df)\n",
    "    df_values.loc[brennecke_ret.index, 'brennecke'] = brennecke_ret['effect.size'].values\n",
    "    assert len(df_values.index) == len(adata.var_names)\n",
    "    \n",
    "    M3Drop_ret = %R run_M3Drop(adata_df)\n",
    "    df_values.loc[M3Drop_ret.index, 'm3drop'] = M3Drop_ret['q.value'].values\n",
    "    assert len(df_values.index) == len(adata.var_names)\n",
    "    \n",
    "    NBumi_ret = %R run_NBumi(adata_df)\n",
    "    df_values.loc[NBumi_ret.index, 'nbumi'] = NBumi_ret['q.value'].values\n",
    "    assert len(df_values.index) == len(adata.var_names)\n",
    "    \n",
    "    # Now we will fill df_ranks with an argsort !!!!! M3DROP and NBumi is not [::-1] because they are q-values \n",
    "    for col in [f'triku_{i}' for i in range(10)] + ['scanpy', 'std', 'scry', 'brennecke']:\n",
    "        df_ranks[col] = df_values[col].values.argsort()[::-1].argsort()\n",
    "    for col in ['m3drop', 'nbumi']:\n",
    "        df_ranks[col] = df_values[col].values.argsort().argsort() # double argsort to return the rank!\n",
    "    \n",
    "    df_ranks.to_csv(os.getcwd() + '/exports/comparisons/' + title_prefix + '_feature_ranks.csv')\n",
    "    df_values.to_csv(os.getcwd() + '/exports/comparisons/' + title_prefix + '_feature_values.csv')\n",
    "    print('df_ranks', df_ranks.shape)\n",
    "    \n",
    "    del adata; gc.collect()\n",
    "    return df_values, df_ranks"
   ]
  },
  {
   "cell_type": "markdown",
   "metadata": {},
   "source": [
    "# Random datasets\n",
    "For this section we will use the random datasets generated with splatter.\n",
    "To evaluate the performance of the feature selection methods, we will use teo metrics, maximum deviation and ARI, explained below."
   ]
  },
  {
   "cell_type": "code",
   "execution_count": null,
   "metadata": {},
   "outputs": [],
   "source": [
    "splatter_dir = os.getcwd() + '/data/splatter/'\n",
    "list_deprobs = [0.0065, 0.008, 0.01, 0.016, 0.025, 0.05, 0.1, 0.3]"
   ]
  },
  {
   "cell_type": "markdown",
   "metadata": {},
   "source": [
    "**THIS PROCESS TAKES ~ 4 HOURS!**"
   ]
  },
  {
   "cell_type": "markdown",
   "metadata": {},
   "source": [
    "Also... this cell sometimes fails to load. Running it again makes it go fine. "
   ]
  },
  {
   "cell_type": "code",
   "execution_count": null,
   "metadata": {
    "scrolled": true
   },
   "outputs": [],
   "source": [
    "for deprob in tqdm(list_deprobs):\n",
    "    print(f'Deprob {deprob}')\n",
    "    adata_deprob = sc.read(splatter_dir + f'/splatter_deprob_{deprob}.loom', sparse=False)\n",
    "    print(f'Adata {deprob} loaded: {adata_deprob.X.shape}')\n",
    "    df_values, df_ranks = create_df_feature_ranking(adata_deprob, f'scatter_{deprob}')"
   ]
  },
  {
   "cell_type": "markdown",
   "metadata": {},
   "source": [
    "## ARI / NMI\n",
    "Using ARI on random datasets is a measure to assess the effectiveness of the feature selection. Random datasets were prepared with different degrees of differentially expressed gene probability, so that we can compare the leiden clusterign solution with the 9 populations. Triku can be run with different seeds, but the rest of methods are deterministic. However, leiden clustering in all cases can be run with a seed. Therefore, we are going to run all processes with 10 seeds (although the deterministic processes will be run once).\n",
    "\n",
    "To apply the ARI we need to run leiden with as many clusters as scatter populations. Since leiden runs on resolution, we need to adjust the resolution parameter to match the number of clusters. To do that we are going to implement a binary search-like algorithm. We will start with resolutions 0.3 and 2 (may change in the future). If any of those yields the clusters, done. Else, find the midpoint, run the clustering, and if the clustering yields the number of populations, stop. Else, set the upper or lower resolution to the one that makes the desired number of clusters to be in the middle. This algorithm will try at most 5 times (it gets to resolution differences of ~0.05, which is fair)."
   ]
  },
  {
   "cell_type": "markdown",
   "metadata": {},
   "source": [
    "To calculate the ARI, we need to load a dataset, select a number of features, and create the dataframe with seeds as rows (to see varation on clustering / triku) and the methods as columns. Because creating each dataframe take time (there are 70 cells to be filled), we will choose two datasets (DE = 0.01 and 0.025) and two number of features (100 and 500), which show good results in the previous sections. "
   ]
  },
  {
   "cell_type": "code",
   "execution_count": null,
   "metadata": {},
   "outputs": [],
   "source": [
    "save_dir = os.getcwd() + '/exports/comparisons/'"
   ]
  },
  {
   "cell_type": "code",
   "execution_count": null,
   "metadata": {},
   "outputs": [],
   "source": [
    "min_res, max_res, max_depth = 0.3, 2, 6"
   ]
  },
  {
   "cell_type": "code",
   "execution_count": null,
   "metadata": {},
   "outputs": [],
   "source": [
    "@ray.remote\n",
    "def leiden_adata_NMI(deprobx):\n",
    "    print(deprobx)\n",
    "    adata_all = sc.read(splatter_dir + f'/splatter_deprob_{deprobx}.loom', sparse=False)\n",
    "    sc.pp.subsample(adata_all, 0.4) # We shorthen this to make the calculations not take 8 hours!\n",
    "    sc.pp.filter_genes(adata_all, min_cells=1)\n",
    "    sc.pp.filter_cells(adata_all, min_genes=1)\n",
    "    sc.pp.log1p(adata_all)\n",
    "    \n",
    "    for n_features in [250, 500]:\n",
    "        print(deprobx, n_features)\n",
    "        if not os.path.exists(os.getcwd() + f'/exports/comparisons/NMI_scatter_{deprobx}_n_features_{n_features}.csv'):\n",
    "            df_feature_ranks = pd.read_csv(os.getcwd() + '/exports/comparisons/' + f'scatter_{deprobx}' + '_feature_ranks.csv', index_col=0)\n",
    "\n",
    "            list_methods = ['triku'] + [i for i in df_feature_ranks.columns if not i.startswith('triku')] + ['all', 'random']\n",
    "\n",
    "            df_NMI = pd.DataFrame(index=[f'seed_{i}' for i in range(10)], columns=list_methods)\n",
    "\n",
    "            for seed in range(10):\n",
    "                print(deprobx, n_features, seed)\n",
    "                for method in tqdm(list_methods):\n",
    "                    if method.startswith('triku'):\n",
    "                        feats = df_feature_ranks[f'triku_{seed}'].sort_values().index[:n_features]\n",
    "                    \n",
    "                    elif method == \"all\":\n",
    "                        feats = df_feature_ranks[f'triku_{seed}'].sort_values().index[:]\n",
    "                    elif method == \"random\":\n",
    "                        array_selection = np.array([False] * len(df_feature_ranks))\n",
    "                        array_selection[np.random.choice(np.arange(len(df_feature_ranks)), n_features, replace=False)] = True\n",
    "                        \n",
    "                        feats = df_feature_ranks[f'triku_{seed}'].sort_values().index[array_selection]\n",
    "                    \n",
    "                    else:\n",
    "                        feats = df_feature_ranks[method].sort_values().index[:n_features]\n",
    "                    \n",
    "                    adata_groups = [i.replace('Group', '') for i in adata_all.obs['Group']]\n",
    "                    c_f, res = clustering_binary_search(adata_all, min_res, max_res, max_depth, seed, len(list(dict.fromkeys(adata_groups))), feats, apply_log=False)\n",
    "                    NMS = NMI(c_f, adata_groups)\n",
    "\n",
    "                    df_NMI.loc[f'seed_{seed}', method] = NMS\n",
    "            \n",
    "            print(os.getcwd() + f'/exports/comparisons/NMI_scatter_{deprobx}_n_features_{n_features}.csv')\n",
    "            df_NMI.to_csv(os.getcwd() + f'/exports/comparisons/NMI_scatter_{deprobx}_n_features_{n_features}.csv')"
   ]
  },
  {
   "cell_type": "code",
   "execution_count": null,
   "metadata": {},
   "outputs": [],
   "source": [
    "ray.init(num_cpus=min(os.cpu_count(), len(list_deprobs)), ignore_reinit_error=True)\n",
    "ray_get = ray.get([leiden_adata_NMI.remote(deprobx) for deprobx in list_deprobs])\n",
    "ray.shutdown()"
   ]
  },
  {
   "cell_type": "code",
   "execution_count": null,
   "metadata": {},
   "outputs": [],
   "source": [
    "help(plot_lab_org_comparison_scores)"
   ]
  },
  {
   "cell_type": "markdown",
   "metadata": {},
   "source": [
    "#### Figure 3"
   ]
  },
  {
   "cell_type": "code",
   "execution_count": null,
   "metadata": {},
   "outputs": [],
   "source": [
    "for n_feats in ['250', '500']:\n",
    "    list_files = [f'NMI_scatter_{deprob}_n_features_{n_feats}.csv' for deprob in list_deprobs[::-1]]\n",
    "    plot_lab_org_comparison_scores(f'NMI-{n_feats}', '', save_dir, [''], increasing=0, mode='NMI', list_files=list_files, \n",
    "                                       title=f'NMI on artificial datasets, {n_feats} features', \n",
    "                                       filename=f'NMI_{n_feats}-features')"
   ]
  },
  {
   "cell_type": "markdown",
   "metadata": {},
   "source": [
    "For lower number of features (250) scanpy performs best at lower DE probabilities (up to 0.025) but performs worse at full resolution (0.1 or 0.3), with scry the best method for that, principally because the features that make smaller clusters separate are the ones with most expression, and those are the ones selected by scry. However, at smaller DE probabilities, the features that separate the dataset the most are the ones with mid expression levels, which are best picked by triku. "
   ]
  },
  {
   "cell_type": "code",
   "execution_count": null,
   "metadata": {},
   "outputs": [],
   "source": [
    "df_values = pd.read_csv(f'{save_dir}/scatter_0.01_feature_values.csv', index_col=0)\n",
    "df_ranks = pd.read_csv(f'{save_dir}/scatter_0.01_feature_ranks.csv', index_col=0)"
   ]
  },
  {
   "cell_type": "code",
   "execution_count": null,
   "metadata": {},
   "outputs": [],
   "source": [
    "df_ranks"
   ]
  },
  {
   "cell_type": "code",
   "execution_count": null,
   "metadata": {},
   "outputs": [],
   "source": [
    "df_values"
   ]
  },
  {
   "cell_type": "code",
   "execution_count": null,
   "metadata": {},
   "outputs": [],
   "source": [
    "adata = sc.read(splatter_dir + f'/splatter_deprob_0.01.loom', sparse=False)\n",
    "sc.pp.subsample(adata, 0.4) # We shorthen this to make the calculations not take 8 hours!\n",
    "\n",
    "adata.raw = adata\n",
    "sc.pp.pca(adata)\n",
    "sc.pp.neighbors(adata)\n",
    "sc.tl.umap(adata)"
   ]
  },
  {
   "cell_type": "code",
   "execution_count": null,
   "metadata": {},
   "outputs": [],
   "source": [
    "df_bokeh = pd.DataFrame({'m': np.log10(adata.X.mean(0)), \n",
    "                         'z': df_values['triku_0'].loc[adata.var_names].values, \n",
    "                         'n': df_values.index.values})\n",
    "                   \n",
    "p = figure(tools=\"box_zoom,hover,reset\", plot_height=600, plot_width=600, tooltips=[(\"Gene\",\"@n\")])\n",
    "p.scatter('m', 'z', source=df_bokeh, alpha=0.7, line_color=None)\n",
    "show(p)"
   ]
  },
  {
   "cell_type": "markdown",
   "metadata": {},
   "source": [
    "#### Supplementary Figure 2"
   ]
  },
  {
   "cell_type": "code",
   "execution_count": null,
   "metadata": {},
   "outputs": [],
   "source": [
    "triku_hvg = df_ranks['triku_0'].values < 250\n",
    "scry_hvg = df_ranks['scry'].values < 250\n",
    "std_hvg = df_ranks['std'].values < 250\n",
    "scanpy_hvg = df_ranks['scanpy'].values < 250\n",
    "\n",
    "fig, axs = plt.subplots(1, 4, figsize=(12, 3))\n",
    "names = ['triku', 'scanpy', 'std', 'scry',]\n",
    "hvgs = [triku_hvg, scanpy_hvg, std_hvg, scry_hvg]\n",
    "colors = ['#e73f74', '#7f3c8d', '#11a579', '#3969ac']\n",
    "\n",
    "for i in range(4):\n",
    "    axs[i].scatter(np.log10(adata.X.mean(0))[~hvgs[i]][::5], \n",
    "                   df_values['triku_0'].loc[adata.var_names].values[~hvgs[i]][::5], c=\"#dedede\", s=2, alpha=0.7)\n",
    "    axs[i].scatter(np.log10(adata.X.mean(0))[hvgs[i]], \n",
    "                   df_values['triku_0'].loc[adata.var_names].values[hvgs[i]], c=colors[i], s=2, label=names[i])\n",
    "    axs[i].legend()\n",
    "\n",
    "fig.text(0.0, 0.5, 'Wasserstein distance', va='center', rotation='vertical')\n",
    "fig.text(0.5, 0.0, 'log$_{10}$ mean expression', va='center', rotation='horizontal')\n",
    "plt.tight_layout()\n",
    "plt.savefig(os.getcwd() + f'/figures/comparison_figs/pdf/barplots_scatter.pdf', fmt='pdf')\n",
    "\n",
    "\n",
    "list_list_genes = [['Gene1118', 'Gene8599', 'Gene1513', 'Gene1479'],     # triku only\n",
    "                   ['Gene6723', 'Gene6625', 'Gene9796', 'Gene935'],      # triku + scanpy\n",
    "                   ['Gene12841', 'Gene10739', 'Gene6729', 'Gene12240'],  # scanpy\n",
    "                   ['Gene9545', 'Gene4459', 'Gene383', 'Gene12455'],     # all\n",
    "                   ['Gene1633', 'Gene10792', 'Gene2496', 'Gene12497']]   # std + scry\n",
    "\n",
    "list_bar_colors = ['#94346E', '#E17C05', '#0F8554', '#1D6996']\n",
    "\n",
    "for lg_idx, list_genes in enumerate(list_list_genes):\n",
    "    fig, axs = plt.subplots(1, 5, figsize=(3*5, 3))\n",
    "    \n",
    "    hvg = np.isin(adata.var_names, list_genes)\n",
    "    axs[0].scatter(np.log10(adata.X.mean(0))[~hvg][::5], \n",
    "                   df_values['triku_0'].loc[adata.var_names].values[~hvg][::5], c=\"#bcbcbc\", s=2, alpha=0.7)\n",
    "    \n",
    "    for i in range(1, 5):\n",
    "        for group in range(10):\n",
    "            axs[0].scatter(np.log10(adata.X.mean(0))[np.isin(adata.var_names, list_genes[i - 1])][::5], \n",
    "                           df_values['triku_0'].loc[adata.var_names].values[np.isin(adata.var_names, list_genes[i - 1])][::5], c=list_bar_colors[i - 1], s=7)\n",
    "\n",
    "                \n",
    "            data_values = adata[adata.obs['Group'] == 'Group' + str(group + 1)].X[:, np.argwhere(adata.var_names == list_genes[i-1])[0]].flatten()\n",
    "            mean, std = np.mean(data_values), np.std(data_values)\n",
    "\n",
    "            axs[i].bar(group + 1, mean, color=list_bar_colors[i - 1])\n",
    "            \n",
    "    axs[0].set_ylabel('Wasserstein distance')\n",
    "    axs[0].set_xlabel('log$_{10}$ mean expression')\n",
    "    axs[1].set_ylabel('Mean group expression')\n",
    "    axs[1].set_xlabel('Group')\n",
    "\n",
    "    plt.tight_layout()\n",
    "\n",
    "    plt.savefig(os.getcwd() + f'/figures/comparison_figs/pdf/barplots_{lg_idx}.pdf', fmt='pdf')"
   ]
  },
  {
   "cell_type": "markdown",
   "metadata": {},
   "source": [
    "# Ding et al. / Mereu et al. datasets\n",
    "Now that we have seen that triku outperforms other methods in artificial datasets, at least when there is intrinsic noisiness, we are going to apply similar metrics to biological datasets. We are first going to use Mereu's and Ding's human + mouse benchmarking datasets. They will help us see biases on performance of all the methods, and also it will act as a validation of the results from the original papers.\n",
    "\n",
    "In this part, due to the large amount of datasets, and also due to the heterogeneity of genes, we will not apply use different number of features. Instead, we will run triku with seed 0, and select the default number of features that is automatically generated to select the features on the rest of methods. This will mean that different datasets will have different number of features, although each dataset will have the same number of features across methods. \n",
    "\n",
    "The two main methods that we will use to evaluate the feature selection are NMI and Silhouette scores.\n",
    "* NMI uses the assigned cell types from the paper (Mereu et al. use MatchSCore2 and Ding et al. uses a custom algorithm) and applies the same binary search for resolution.\n",
    "* Silhouette. It is used in two forms:\n",
    "    * Apply the same resolution to all datasets and all methods using the binary search, and get the Silhouette from there.\n",
    "    * Apply Silhouette to the benchmark-assigned cell types."
   ]
  },
  {
   "cell_type": "markdown",
   "metadata": {},
   "source": [
    "## Create feature ranking dataframes"
   ]
  },
  {
   "cell_type": "markdown",
   "metadata": {},
   "source": [
    "**This process takes ~3 hours**"
   ]
  },
  {
   "cell_type": "code",
   "execution_count": null,
   "metadata": {},
   "outputs": [],
   "source": [
    "save_dir = os.getcwd() + '/exports/comparisons/'"
   ]
  },
  {
   "cell_type": "code",
   "execution_count": null,
   "metadata": {
    "scrolled": true
   },
   "outputs": [],
   "source": [
    "mereu_dir = os.getcwd() + '/data/Mereu_2020/'\n",
    "\n",
    "for libprep in tqdm(['10X', 'CELseq2', 'ddSEQ', 'Dropseq', 'inDrop', 'QUARTZseq', 'SingleNuclei', 'SMARTseq2']):\n",
    "    for org in ['human', 'mouse']:\n",
    "        if os.path.exists(save_dir + f'mereu_{libprep}_{org}-log_feature_values.csv'):\n",
    "            print(f'{libprep}, {org} exists!')\n",
    "        else:\n",
    "            adata_libprep = sc.read(mereu_dir + f'{libprep}_{org}.h5ad')\n",
    "            create_df_feature_ranking(adata_libprep, f'mereu_{libprep}_{org}-log', apply_log=True)"
   ]
  },
  {
   "cell_type": "code",
   "execution_count": null,
   "metadata": {
    "scrolled": true
   },
   "outputs": [],
   "source": [
    "ding_dir = os.getcwd() + '/data/Ding_2020/'\n",
    "\n",
    "for libprep in tqdm(['10X', 'CELseq2', 'Dropseq', 'inDrop', 'sci-RNA-seq', 'Seq-Well', 'SingleNuclei', 'SMARTseq2']):\n",
    "    for org in ['human', 'mouse']:\n",
    "        if os.path.exists(ding_dir + f'{libprep}_{org}.h5ad'):\n",
    "            if os.path.exists(save_dir + f'ding_{libprep}_{org}-log_feature_values.csv'):\n",
    "                print(f'{libprep}, {org} exists!')\n",
    "            else:\n",
    "                adata_libprep = sc.read(ding_dir + f'{libprep}_{org}.h5ad')\n",
    "                create_df_feature_ranking(adata_libprep, f'ding_{libprep}_{org}-log', apply_log=True)"
   ]
  },
  {
   "cell_type": "markdown",
   "metadata": {},
   "source": [
    "## Calculate scores"
   ]
  },
  {
   "cell_type": "code",
   "execution_count": null,
   "metadata": {},
   "outputs": [],
   "source": [
    "@ray.remote\n",
    "def run_ARI_silhouette_rem(lib_prep, org, seed, lab, adata_dir, save_dir):\n",
    "    if os.path.exists(adata_dir + f'{lib_prep}_{org}.h5ad'):\n",
    "        if os.path.exists(save_dir + f'{lab}_{lib_prep}-log_{org}_comparison-scores_seed-{seed}.csv'):\n",
    "            print(f'{lib_prep}, {org}, {seed} exists!')\n",
    "        else:\n",
    "            adata = sc.read_h5ad(adata_dir + f'{lib_prep}_{org}.h5ad')\n",
    "            print(adata)\n",
    "            cell_type = 'cell_types' if 'cell_types' in adata.obs else 'CellType' # Somwhere I've fucked up with column name. Don't care where honestly.\n",
    "            df_rank = pd.read_csv(os.getcwd() + f'/exports/comparisons/{lab}_{lib_prep}_{org}-log_feature_ranks.csv', index_col=0)\n",
    "\n",
    "            biological_silhouette_ARI_table(adata, df_rank, outdir=save_dir, file_root=f'{lab}_{lib_prep}_{org}-log', seed=seed, \n",
    "                                                        cell_types_col=cell_type, n_procs=1)   \n",
    "    else:\n",
    "        print(adata_dir + f'{lib_prep}_{org}.h5ad does not exist!')"
   ]
  },
  {
   "cell_type": "code",
   "execution_count": null,
   "metadata": {
    "scrolled": true
   },
   "outputs": [],
   "source": [
    "# Mereu's datasets\n",
    "save_dir = os.getcwd() + '/exports/comparisons/'\n",
    "adata_dir = data_dir + 'Mereu_2020/'\n",
    "\n",
    "\n",
    "lib_preps = ['SingleNuclei', 'Dropseq', 'inDrop', '10X', 'SMARTseq2', 'CELseq2', 'QUARTZseq'] \n",
    "orgs = ['mouse', 'human'] \n",
    "result = list(product(*[lib_preps, orgs, range(5)]))\n",
    "\n",
    "ray.init(ignore_reinit_error=True, num_cpus=min(len(result), os.cpu_count()))\n",
    "\n",
    "list_id = [run_ARI_silhouette_rem.remote(lib_prep, org, seed, 'mereu', adata_dir, save_dir) for lib_prep, org, seed in result]\n",
    "list_results = ray.get(list_id)\n",
    "\n",
    "ray.shutdown()"
   ]
  },
  {
   "cell_type": "code",
   "execution_count": null,
   "metadata": {
    "scrolled": true
   },
   "outputs": [],
   "source": [
    "# Ding's datasets\n",
    "save_dir = os.getcwd() + '/exports/comparisons/'\n",
    "adata_dir = data_dir + 'Ding_2020/'\n",
    "\n",
    "\n",
    "lib_preps = ['10X', 'CELseq2', 'Dropseq', 'inDrop', 'sci-RNAseq', 'Seq-Well', 'SingleNuclei', 'SMARTseq2']\n",
    "orgs = ['mouse', 'human'] \n",
    "result = list(product(*[lib_preps, orgs, range(5)]))\n",
    "\n",
    "ray.init(ignore_reinit_error=True, num_cpus=min(len(result), os.cpu_count()))\n",
    "\n",
    "list_id = [run_ARI_silhouette_rem.remote(lib_prep, org, seed, 'ding', adata_dir, save_dir) for lib_prep, org, seed in result]\n",
    "list_results = ray.get(list_id)\n",
    "\n",
    "ray.shutdown()"
   ]
  },
  {
   "cell_type": "markdown",
   "metadata": {},
   "source": [
    "#### Figure 4"
   ]
  },
  {
   "cell_type": "code",
   "execution_count": null,
   "metadata": {},
   "outputs": [],
   "source": [
    "for lab in ['mereu', 'ding']:\n",
    "    save_dir = os.getcwd() + '/exports/comparisons/'\n",
    "    plot_lab_org_comparison_scores(lab, org='-log', read_dir=save_dir, variables=['NMI'], figsize=(16, 4), title=f'NMI on {lab} datasets (log)', \n",
    "                                  filename=f'{lab}-NMI-log')"
   ]
  },
  {
   "cell_type": "markdown",
   "metadata": {},
   "source": [
    "#### Figure 5"
   ]
  },
  {
   "cell_type": "code",
   "execution_count": null,
   "metadata": {},
   "outputs": [],
   "source": [
    "for lab in ['mereu', 'ding']:\n",
    "    save_dir = os.getcwd() + '/exports/comparisons/'\n",
    "    plot_lab_org_comparison_scores(lab, org='-log', read_dir=save_dir, variables=['Sil_bench_all_hvg'], figsize=(16, 4), \n",
    "                                       title=f'Silhouette on {lab} datasets, cell types on selected features (log)',\n",
    "                                       filename=f'{lab}-silhouette_selected features_celltypes-log')"
   ]
  },
  {
   "cell_type": "markdown",
   "metadata": {},
   "source": [
    "#### Supplementary Figure 1"
   ]
  },
  {
   "cell_type": "code",
   "execution_count": null,
   "metadata": {},
   "outputs": [],
   "source": [
    "for lab in ['mereu', 'ding']:\n",
    "    save_dir = os.getcwd() + '/exports/comparisons/'\n",
    "    plot_lab_org_comparison_scores(lab, org='-log', read_dir=save_dir, variables=['Sil_leiden_all_hvg'], figsize=(16, 4), \n",
    "                                   title=f'Silhouette on {lab} datasets, leiden clusters on selected features (log)', \n",
    "                                  filename=f'{lab}-silhouette_selected features_leiden-log')"
   ]
  },
  {
   "cell_type": "markdown",
   "metadata": {},
   "source": [
    "## Explainability of results\n",
    "Although we see that triku has promising results, we were striked at how std, scry and brennecke have such a big gap of scores with respect to triku, nbumi and m3drop. In this section we are going to apply some comprobation measures to see if we can know why the difference is so big. "
   ]
  },
  {
   "cell_type": "markdown",
   "metadata": {},
   "source": [
    "### Overlap heatmaps"
   ]
  },
  {
   "cell_type": "code",
   "execution_count": null,
   "metadata": {},
   "outputs": [],
   "source": [
    "def plot_heatmaps_jaccard(df_ranks, n_HVG, fig_save_dir='', title='', ax=None, lab='ding'):\n",
    "    df_heatmap = pd.DataFrame(np.NaN, index=df_ranks.columns, columns=df_ranks.columns)\n",
    "    \n",
    "    for row_idx, row in enumerate(df_ranks.columns):\n",
    "        for col_idx, col in enumerate(df_ranks.columns):\n",
    "            if row_idx >= col_idx:\n",
    "                row_names = set(df_ranks.sort_values(by=row).index[:n_HVG].values)\n",
    "                col_names = set(df_ranks.sort_values(by=col).index[:n_HVG].values)\n",
    "                \n",
    "                jaccard = len(row_names & col_names)/len(row_names | col_names)\n",
    "                df_heatmap.loc[row, col] = jaccard\n",
    "    \n",
    "    h = sns.heatmap(df_heatmap, cbar=False, ax=ax, annot=True)\n",
    "    h.set_title(title)\n",
    "    \n",
    "    plt.tight_layout()\n",
    "    for fmt in ['png', 'pdf']:\n",
    "        plt.savefig(f'{fig_save_dir}/{lab}_heatmap_overlap_features.{fmt}', bbox_inches='tight')\n",
    "    "
   ]
  },
  {
   "cell_type": "code",
   "execution_count": null,
   "metadata": {},
   "outputs": [],
   "source": [
    "df_ranks = pd.read_csv(os.getcwd() + '/exports/comparisons/ding_10X_mouse-log_feature_ranks.csv', index_col=0)\n",
    "df_ranks = df_ranks[['triku_0', 'm3drop', 'nbumi', 'scanpy', 'brennecke', 'scry', 'std',]].rename(columns={'triku_0':'triku'})\n",
    "df_ranks\n",
    "\n",
    "plot_heatmaps_jaccard(df_ranks, n_HVG=3000, fig_save_dir=os.getcwd() + '/figures/comparison_figs', \n",
    "                      title='SN')"
   ]
  },
  {
   "cell_type": "markdown",
   "metadata": {},
   "source": [
    "#### Figure 6"
   ]
  },
  {
   "cell_type": "code",
   "execution_count": null,
   "metadata": {},
   "outputs": [],
   "source": [
    "fig, axs = plt.subplots(1, 4, figsize=(4.3*4, 4.3))\n",
    "\n",
    "# First is an NMI barplot\n",
    "palette = [\"#E73F74\", \"#7F3C8D\", \"#11A579\", \"#3969AC\", \"#F2B701\",\n",
    "        \"#80BA5A\", \"#E68310\", \"#a0a0a0\", \"#505050\",]\n",
    "\n",
    "list_files = ['ding_10X_mouse-log_comparison-scores', 'ding_Dropseq_human-log_comparison-scores',\n",
    "              'ding_Seq-Well_human-log_comparison-scores', ]\n",
    "\n",
    "methods = ['triku', 'scanpy', 'std', 'scry', 'brennecke', 'm3drop', 'nbumi', 'all', 'random']\n",
    "for libprep_idx, libprep in enumerate(list_files):\n",
    "    pre = '' if libprep_idx == 0 else '_'\n",
    "    for method_idx, method in enumerate(methods):\n",
    "        list_y = []\n",
    "        for seed in range(5):\n",
    "            df = pd.read_csv(os.getcwd() + f'/exports/comparisons/{libprep}_seed-{seed}.csv', index_col=0)\n",
    "            list_y.append(df.loc['NMI', method])\n",
    "\n",
    "        axs[0].bar(\n",
    "            libprep_idx + (method_idx - len(methods) // 2) * 0.09,\n",
    "            np.mean(list_y), width=0.09, yerr=np.std(list_y), color=palette[method_idx], \n",
    "            label=pre + method,\n",
    "        )\n",
    "        \n",
    "axs[0].set_xticks([0, 1, 2])\n",
    "axs[0].set_xticklabels(['10X mouse', 'Dropseq human', 'Seq-Well human'], rotation=45, ha='right')\n",
    "axs[0].set_title('NMI on ding datasets')\n",
    "axs[0].legend(ncol=2, handleheight=0.3, labelspacing=0.05, prop={'size': 8}, frameon=False)\n",
    "axs[0].set(frame_on=False)\n",
    "\n",
    "# Next are the heatmaps of gene overlap\n",
    "df_ranks = pd.read_csv(os.getcwd() + '/exports/comparisons/ding_10X_mouse-log_feature_ranks.csv', index_col=0)\n",
    "df_ranks = df_ranks[['triku_0', 'm3drop', 'nbumi', 'scanpy', 'brennecke', 'scry', 'std',]].rename(columns={'triku_0':'triku'})\n",
    "plot_heatmaps_jaccard(df_ranks, n_HVG=3000, fig_save_dir=os.getcwd() + '/figures/comparison_figs', \n",
    "                      title='10X mouse', ax=axs[1])\n",
    "\n",
    "df_ranks = pd.read_csv(os.getcwd() + '/exports/comparisons/ding_Dropseq_human-log_feature_ranks.csv', index_col=0)\n",
    "df_ranks = df_ranks[['triku_0', 'm3drop', 'nbumi', 'scanpy', 'brennecke', 'scry', 'std',]].rename(columns={'triku_0':'triku'})\n",
    "plot_heatmaps_jaccard(df_ranks, n_HVG=3000, fig_save_dir=os.getcwd() + '/figures/comparison_figs', \n",
    "                      title='Dropseq human', ax=axs[2])\n",
    "\n",
    "df_ranks = pd.read_csv(os.getcwd() + '/exports/comparisons/ding_Seq-Well_human-log_feature_ranks.csv', index_col=0)\n",
    "df_ranks = df_ranks[['triku_0', 'm3drop', 'nbumi', 'scanpy', 'brennecke', 'scry', 'std',]].rename(columns={'triku_0':'triku'})\n",
    "plot_heatmaps_jaccard(df_ranks, n_HVG=3000, fig_save_dir=os.getcwd() + '/figures/comparison_figs', \n",
    "                      title='Seq-Well human', ax=axs[3])\n",
    "\n",
    "# plt.tight_layout()"
   ]
  },
  {
   "cell_type": "markdown",
   "metadata": {},
   "source": [
    "# Enrichment of ribosomal and mitochondrial genes"
   ]
  },
  {
   "cell_type": "code",
   "execution_count": null,
   "metadata": {},
   "outputs": [],
   "source": [
    "def barplot_mt_rbp(lab, org, method, n_features=[100, 250, 500, 1000], mode=0):\n",
    "    list_FS = ['triku_0', 'scanpy', 'std', 'scry', 'brennecke', 'm3drop', 'nbumi'] # std is missing\n",
    "    palette = [\"#E73F74\",\"#7F3C8D\",\"#11A579\",\"#3969AC\",\"#F2B701\",\"#80BA5A\",\"#E68310\",\"#a0a0a0\",\"#505050\"]\n",
    "    \n",
    "    fig, axs = plt.subplots(2, 1, figsize=(10, 6))\n",
    "    \n",
    "    for n_feature_idx, n_feature in enumerate(n_features):\n",
    "        for FS_idx, FS in enumerate(list_FS):\n",
    "            df = pd.read_csv(os.getcwd() + f'/exports/comparisons/{lab}_{method}_{org}-log_feature_ranks.csv', index_col=0)\n",
    "\n",
    "            set_rbp = set([i for i in df.index if (i.upper().startswith('RPS')) | (i.upper().startswith('RPL'))])\n",
    "            set_mt = set([i for i in df.index if (i.upper().startswith('MT-'))])\n",
    "            \n",
    "            set_FS = set(df.sort_values(by=FS).index.tolist()[:n_feature])\n",
    "            \n",
    "            if mode == 0:\n",
    "                axs[0].bar(n_feature_idx + (FS_idx - len(list_FS) // 2) / (len(list_FS) + 3) , 100 * len(set_rbp & set_FS)/len(set_FS), \n",
    "                        width = 0.1, color=palette[FS_idx])\n",
    "                axs[1].bar(n_feature_idx + (FS_idx - len(list_FS) // 2) / (len(list_FS) + 3) , 100 * len(set_mt & set_FS)/len(set_FS), \n",
    "                        width = 0.1, color=palette[FS_idx])\n",
    "            else:\n",
    "                axs[0].bar(n_feature_idx + (FS_idx - len(list_FS) // 2) / (len(list_FS) + 3) , 100 * len(set_rbp & set_FS)/len(set_rbp), \n",
    "                        width = 0.1, color=palette[FS_idx])\n",
    "                axs[1].bar(n_feature_idx + (FS_idx - len(list_FS) // 2) / (len(list_FS) + 3) , 100 * len(set_mt & set_FS)/len(set_rbp), \n",
    "                        width = 0.1, color=palette[FS_idx])\n",
    "                \n",
    "    for ax in axs:\n",
    "        ax.set_xticks(range(len(n_features)))\n",
    "        ax.set_xticklabels(n_features)\n",
    "    \n",
    "    if mode == 0:\n",
    "        axs[0].set_ylabel('% ribosomal genes\\n(from selected features)')\n",
    "        axs[1].set_ylabel('% mitochondrial genes\\n(from selected features)')\n",
    "    else:\n",
    "        axs[0].set_ylabel('% ribosomal genes\\n(from all ribosomal genes)')\n",
    "        axs[1].set_ylabel('% mitochondrial genes\\n(from all mitochondrial genes)')\n",
    "        \n",
    "    legend_elements = [mpl.lines.Line2D([0], [0], marker=\"o\", color=palette[0], label='triku')] + [\n",
    "        mpl.lines.Line2D(\n",
    "            [0], [0], marker=\"o\", color=palette[j], label=list_FS[j]\n",
    "        )\n",
    "        for j in range(1, len(list_FS))\n",
    "    ]\n",
    "    axs[0].legend(handles=legend_elements, bbox_to_anchor=(1.2, 0.9))\n",
    "    \n",
    "    \n",
    "def heatmap_mt_rbp(labs, orgs, methods, n_features=500):\n",
    "    list_FS = ['triku_0', 'm3drop', 'nbumi', 'scanpy', 'std', 'scry', 'brennecke', ] # std is missing\n",
    "    palette = [\"#E73F74\",\"#80BA5A\",\"#E68310\",\"#7F3C8D\",\"#11A579\",\"#3969AC\",\"#F2B701\",\"#a0a0a0\",\"#505050\"]\n",
    "        \n",
    "    dict_info = {}\n",
    "    \n",
    "    for lab in labs:\n",
    "        for org in orgs:\n",
    "            for method in methods:\n",
    "                for FS_idx, FS in enumerate(list_FS):\n",
    "                    if not os.path.exists(os.getcwd() + f'/exports/comparisons/{lab}_{method}_{org}-log_feature_ranks.csv'):\n",
    "                        continue\n",
    "                        \n",
    "                    df = pd.read_csv(os.getcwd() + f'/exports/comparisons/{lab}_{method}_{org}-log_feature_ranks.csv', index_col=0)\n",
    "\n",
    "                    set_rbp = set([i for i in df.index if (i.upper().startswith('RPS')) | (i.upper().startswith('RPL'))])\n",
    "                    set_mt = set([i for i in df.index if (i.upper().startswith('MT-'))])\n",
    "\n",
    "                    set_FS = set(df.sort_values(by=FS).index.tolist()[:n_features])\n",
    "                    \n",
    "                    for opt in [f'{FS}_per_rbp_all_features', f'{FS}_per_mt_all_features',]:\n",
    "                        if opt not in dict_info:\n",
    "                            dict_info[opt] = []\n",
    "                    \n",
    "                    dict_info[f'{FS}_per_rbp_all_features'].append(100 * len(set_rbp & set_FS) / len(set_FS))\n",
    "                    dict_info[f'{FS}_per_mt_all_features'].append(100 * len(set_mt & set_FS) / len(set_FS))\n",
    "    \n",
    "    df = pd.DataFrame(index=['triku'] + list_FS[1:], columns=[\n",
    "        'Percentage RBPs in selected features', 'Percentage MTs in selected features', ])\n",
    "    \n",
    "    for FS_idx, FS in enumerate(list_FS):\n",
    "        df.iloc[FS_idx, 0] = '%.3f' % np.nanmean(dict_info[f'{FS}_per_rbp_all_features'])\n",
    "        df.iloc[FS_idx, 1] = '%.3f' % np.nanmean(dict_info[f'{FS}_per_mt_all_features'])\n",
    "                                \n",
    "                                     \n",
    "    return df.astype(float)"
   ]
  },
  {
   "cell_type": "markdown",
   "metadata": {},
   "source": [
    "#### Table 1"
   ]
  },
  {
   "cell_type": "code",
   "execution_count": null,
   "metadata": {},
   "outputs": [],
   "source": [
    "df = heatmap_mt_rbp(['mereu'], ['human', 'mouse'], ['SingleNuclei', 'Dropseq', 'inDrop', '10X', 'SMARTseq2', \n",
    "                                              'CELseq2', 'QUARTZseq', 'sci-RNAseq', 'Seq-Well'], n_features=1000)\n",
    "\n",
    "display(df)"
   ]
  },
  {
   "cell_type": "code",
   "execution_count": null,
   "metadata": {},
   "outputs": [],
   "source": [
    "df = heatmap_mt_rbp(['ding'], ['human', 'mouse'], ['SingleNuclei', 'Dropseq', 'inDrop', '10X', 'SMARTseq2', \n",
    "                                              'CELseq2', 'QUARTZseq', 'sci-RNAseq', 'Seq-Well'], n_features=1000)\n",
    "\n",
    "display(df)"
   ]
  },
  {
   "cell_type": "markdown",
   "metadata": {},
   "source": [
    "# Gene ontology analysis\n",
    "\n",
    "To see which method is better, a possible idea is to run Enrichr with the selected features, and use it to compare the FS methods. If the ontologies from one method have better p-values/scores, it is likely that they are more representative of the dataset.\n"
   ]
  },
  {
   "cell_type": "code",
   "execution_count": null,
   "metadata": {},
   "outputs": [],
   "source": [
    "import gseapy"
   ]
  },
  {
   "cell_type": "code",
   "execution_count": null,
   "metadata": {},
   "outputs": [],
   "source": [
    "os.makedirs(os.getcwd() + f'/exports/enrichr/', exist_ok=True)"
   ]
  },
  {
   "cell_type": "code",
   "execution_count": null,
   "metadata": {},
   "outputs": [],
   "source": [
    "list_onto_mouse = ['KEGG_2019_Mouse', 'WikiPathways_2019_Mouse', 'GO_Biological_Process_2018', 'GO_Cellular_Component_2018', \n",
    "                   'GO_Molecular_Function_2018',]\n",
    "\n",
    "list_onto_human = ['KEGG_2019_Human', 'WikiPathways_2019_Human', 'GO_Biological_Process_2018', 'GO_Cellular_Component_2018', \n",
    "                   'GO_Molecular_Function_2018', ]"
   ]
  },
  {
   "cell_type": "code",
   "execution_count": null,
   "metadata": {},
   "outputs": [],
   "source": [
    "@ray.remote\n",
    "def call_enrichr(lab, org, method, n_features, FS):\n",
    "    if os.path.exists(os.getcwd() + f'/exports/enrichr/{lab}_{method}_{org}_{n_features}_{FS}.csv'):\n",
    "        print(os.getcwd() + f'/exports/enrichr/{lab}_{method}_{org}_{n_features}_{FS}.csv EXISTS!')\n",
    "        return None\n",
    "    \n",
    "    if not os.path.exists(os.getcwd() + f'/exports/comparisons/{lab}_{method}_{org}-log_feature_ranks.csv'):\n",
    "        return None\n",
    "    \n",
    "    df_file = pd.read_csv(os.getcwd() + f'/exports/comparisons/{lab}_{method}_{org}-log_feature_ranks.csv', index_col=0)\n",
    "    \n",
    "    list_genes = df_file.sort_values(by=FS).index.tolist()[:n_features]\n",
    "    list_onto = list_onto_mouse if org == 'mouse' else list_onto_human\n",
    "    \n",
    "    n_trials = 0\n",
    "    \n",
    "    while n_trials < 5:\n",
    "        try:\n",
    "            result_df = gseapy.enrichr(list_genes, list_onto, cutoff=1, organism=org).results\n",
    "            if FS == 'triku_0':\n",
    "                FS = 'triku'\n",
    "            result_df.to_csv(os.getcwd() + f'/exports/enrichr/{lab}_{method}_{org}_{n_features}_{FS}.csv', index=None)\n",
    "            n_trials += 10\n",
    "        except:\n",
    "            n_trials += 1\n",
    "            print(f'TRIAL {n_trials}')\n",
    "            \n",
    "        \n",
    "\n",
    "    "
   ]
  },
  {
   "cell_type": "code",
   "execution_count": null,
   "metadata": {
    "scrolled": true
   },
   "outputs": [],
   "source": [
    "list_comb = list(product(*[['ding', 'mereu'], \n",
    "                           ['human', 'mouse'], \n",
    "                           ['SingleNuclei', 'Dropseq', 'inDrop', '10X', 'SMARTseq2', 'CELseq2', 'QUARTZseq', 'sci-RNAseq', 'Seq-Well'], \n",
    "                           [100, 250, 500, 1000, 1250, 1500], \n",
    "                           ['triku_0', 'scanpy', 'std', 'scry', 'brennecke', 'm3drop', 'nbumi']]))\n",
    "\n",
    "\n",
    "ray.init(ignore_reinit_error=True)\n",
    "\n",
    "list_id = [call_enrichr.remote(lab, org, method, n_features, FS) for lab, org, method, n_features, FS in list_comb]\n",
    "list_results = ray.get(list_id)\n",
    "\n",
    "ray.shutdown()"
   ]
  },
  {
   "cell_type": "code",
   "execution_count": null,
   "metadata": {},
   "outputs": [],
   "source": [
    "def scatter_enrichr(lab, org, method, n_features, n_ontologies=30, column_sort='Adjusted P-value', plot_type='bar', \n",
    "                    list_onto=['KEGG_2019_Mouse', 'WikiPathways_2019_Mouse', 'KEGG_2019_Human', 'WikiPathways_2019_Human',\n",
    "                               'GO_Biological_Process_2018', 'GO_Cellular_Component_2018', 'GO_Molecular_Function_2018',], save=True):\n",
    "    list_FS = ['triku', 'scanpy', 'std', 'scry', 'brennecke', 'm3drop', 'nbumi']\n",
    "    palette = [\"#E73F74\",\"#7F3C8D\",\"#11A579\",\"#3969AC\",\"#F2B701\",\"#80BA5A\",\"#E68310\",\"#a0a0a0\",\"#505050\"]\n",
    "    \n",
    "    fig, ax = plt.subplots(1, 1, figsize=(10, 3))\n",
    "    \n",
    "    dict_dfs = {}\n",
    "    \n",
    "    for n_feature_idx, n_feature in enumerate(n_features):\n",
    "        for FS_idx, FS in enumerate(list_FS):\n",
    "            df = pd.read_csv(os.getcwd() + f'/exports/enrichr/{lab}_{method}_{org}_{n_feature}_{FS}.csv')\n",
    "            df = df[df['Gene_set'].isin(list_onto)]\n",
    "            \n",
    "            if column_sort == 'Adjusted P-value':\n",
    "                df = df.sort_values(by=column_sort).iloc[:n_ontologies]\n",
    "                y_vals = df[column_sort].values\n",
    "                y_vals = - np.log10(y_vals)\n",
    "\n",
    "            elif column_sort == 'Combined Score':\n",
    "                df = df.sort_values(by=column_sort, ascending=False).iloc[:n_ontologies]\n",
    "                y_vals = df[column_sort].values\n",
    "            \n",
    "            elif column_sort == 'division':\n",
    "                table_vals = df['Overlap'].values\n",
    "                df['divided'] = [int(i.split('/')[0]) / int(i.split('/')[1]) for i in table_vals]\n",
    "                df = df.sort_values(by='divided', ascending=False).iloc[:n_ontologies]\n",
    "                y_vals = df['divided'].values\n",
    "                \n",
    "            \n",
    "            x_pos = n_feature_idx + (FS_idx - len(list_FS) // 2) / (len(list_FS) + 3)\n",
    "            \n",
    "            if plot_type == 'bar':\n",
    "                plt.bar(x_pos , np.mean(y_vals), \n",
    "                        width = 0.1, yerr=np.std(y_vals), color=palette[FS_idx])\n",
    "            elif plot_type == 'scatter':\n",
    "                plt.scatter([x_pos] * len(y_vals), y_vals, c=palette[FS_idx], alpha=0.8)\n",
    "            \n",
    "            dict_dfs[f'{n_feature}_{FS}'] = df\n",
    "    \n",
    "    legend_elements = [\n",
    "        mpl.lines.Line2D(\n",
    "            [0], [0], marker=\"o\", color=palette[j], label=list_FS[j]\n",
    "        )\n",
    "        for j in range(len(list_FS))\n",
    "    ]\n",
    "    ax.legend(handles=legend_elements, bbox_to_anchor=(1.2, 0.9))\n",
    "    ax.set_xticks(range(len(n_features)))\n",
    "    ax.set_xticklabels(n_features)\n",
    "    ax.set_ylabel(column_sort)\n",
    "    ax.set_xlabel('Number of features')\n",
    "    \n",
    "    plt.tight_layout()\n",
    "    \n",
    "    if save:\n",
    "        plt.savefig(save)\n",
    "    \n",
    "    return dict_dfs\n",
    "    "
   ]
  },
  {
   "cell_type": "code",
   "execution_count": null,
   "metadata": {},
   "outputs": [],
   "source": [
    "def barplot_ontologies_individual(df, axis=None, color=\"#ababab\", column='Adjusted P-value', ascending=False, log=True, y_text=''):\n",
    "    if axis is None:\n",
    "        fig, axis = plt.subplots(1, 1, figsize=(10, 7))\n",
    "    \n",
    "    vals = df.sort_values(by=column, ascending=ascending)[column].values\n",
    "    names = [i.split(' (')[0] for i in df.sort_values(by=column, ascending=ascending)['Term'].values]\n",
    "    names = [i[: 42] + '...' if len(i) > 42 else i for i in names]\n",
    "\n",
    "    if log:\n",
    "        vals = - np.log10(df.sort_values(by=column, ascending=ascending)[column].values)\n",
    "    \n",
    "    if column == 'Adjusted P-value':\n",
    "        if log:\n",
    "            axis.plot(-np.log10([0.05, 0.05]), [-1.5, len(names) + 0.5], c=\"#ababab\", alpha=0.8, linewidth=3, zorder=0)\n",
    "        else:\n",
    "            axis.plot([0.05, 0.05], [-1.5, len(names) + 0.5], c=\"#ababab\", alpha=0.8, linewidth=3, zorder=0)\n",
    "        \n",
    "    axis.barh(range(len(df)), vals, color=color, zorder=5)\n",
    "    \n",
    "    for y in range(len(df)):\n",
    "        axis.text(0.05 * np.max(axis.get_xlim()), y - 0.2, names[y], zorder=10, fontsize=12)\n",
    "        \n",
    "    axis.set_yticks([])\n",
    "    axis.spines['right'].set_visible(False)\n",
    "    axis.spines['top'].set_visible(False)\n",
    "\n",
    "    x_text = column if not log else column + ' (log)'\n",
    "    axis.set_xlabel(x_text)\n",
    "    axis.set_ylabel(y_text)\n",
    "    \n",
    "    return axis\n",
    "\n",
    "\n",
    "def barplot_ontologies_all(dict_dfs, n_features=1000, list_FSs=['triku', 'std', 'scry', 'scanpy', 'm3drop', 'nbumi'], \n",
    "                           list_colors=[\"#E73F74\", \"#11A579\",\"#3969AC\", \"#7F3C8D\", \"#80BA5A\",\"#E68310\"], figsize=(17, 14), save=''):\n",
    "    \n",
    "    mpl.rcParams.update({'font.size':17})\n",
    "    fig, axis = plt.subplots(2, 3, figsize=figsize)\n",
    "    \n",
    "    for i in range(len(list_FSs)):\n",
    "        barplot_ontologies_individual(dict_dfs[f'{n_features}_{list_FSs[i]}'], axis=axis.ravel()[i], \n",
    "                                      color=list_colors[i], column='Adjusted P-value', ascending=False, log=True, y_text=list_FSs[i])\n",
    "    \n",
    "    plt.tight_layout()\n",
    "    \n",
    "    if save:\n",
    "        plt.savefig(save)\n",
    "        \n",
    "    mpl.rcParams.update(mpl.rcParamsDefault)"
   ]
  },
  {
   "cell_type": "code",
   "execution_count": null,
   "metadata": {},
   "outputs": [],
   "source": [
    "enrichr_figs_dir = os.getcwd() + '/figures/enrichr_figs/'\n",
    "os.makedirs(enrichr_figs_dir, exist_ok=True)"
   ]
  },
  {
   "cell_type": "code",
   "execution_count": null,
   "metadata": {},
   "outputs": [],
   "source": [
    "# Good in Ding: Dropseq Human (Immune cells)\n",
    "\n",
    "lab, org, method, n_features = 'ding', 'human', 'Dropseq', [100, 250, 500, 1000, 1250, 1500]\n",
    "list_dfs_ding_human_dropseq = []\n",
    "for x in ['Adjusted P-value']:  # ['Combined Score', 'Adjusted P-value', 'division']:\n",
    "    dict_df = scatter_enrichr(lab, org, method, n_features, n_ontologies=25, column_sort=x, plot_type='scatter', \n",
    "                    list_onto=[ 'GO_Biological_Process_2018',], save=enrichr_figs_dir + f'scatter_{lab}_{org}_{method}_{x}.pdf')\n",
    "    list_dfs_ding_human_dropseq.append(dict_df)\n",
    "    \n",
    "    "
   ]
  },
  {
   "cell_type": "code",
   "execution_count": null,
   "metadata": {},
   "outputs": [],
   "source": [
    "barplot_ontologies_all(list_dfs_ding_human_dropseq[0], save=enrichr_figs_dir + f'barplots_{lab}_{org}_{method}_{x}.pdf')"
   ]
  },
  {
   "cell_type": "code",
   "execution_count": null,
   "metadata": {},
   "outputs": [],
   "source": [
    "# Good in Mereu: Dropseq Mouse (Colon cells)\n",
    "\n",
    "lab, org, method, n_features = 'mereu', 'mouse', 'Dropseq', [100, 250, 500, 1000, 1250, 1500]\n",
    "list_dfs_mereu_mouse_dropseq = []\n",
    "for x in ['Adjusted P-value']:  # ['Combined Score', 'Adjusted P-value', 'division']:\n",
    "    dict_df = scatter_enrichr(lab, org, method, n_features, n_ontologies=25, column_sort=x, plot_type='scatter', \n",
    "                    list_onto=['GO_Biological_Process_2018',], save=enrichr_figs_dir + f'scatter_{lab}_{org}_{method}_{x}.pdf')\n",
    "    list_dfs_mereu_mouse_dropseq.append(dict_df)"
   ]
  },
  {
   "cell_type": "code",
   "execution_count": null,
   "metadata": {},
   "outputs": [],
   "source": [
    "barplot_ontologies_all(list_dfs_mereu_mouse_dropseq[0], save=enrichr_figs_dir + f'barplots_{lab}_{org}_{method}_{x}.pdf')"
   ]
  },
  {
   "cell_type": "code",
   "execution_count": null,
   "metadata": {},
   "outputs": [],
   "source": [
    "# Bad in Ding: 10X Human (Immune cells)\n",
    "\n",
    "lab, org, method, n_features = 'ding', 'human', '10X', [100, 250, 500, 1000, 1250, 1500]\n",
    "list_dfs_ding_human_10x = []\n",
    "for x in ['Adjusted P-value']:  # ['Combined Score', 'Adjusted P-value', 'division']:\n",
    "    dict_df = scatter_enrichr(lab, org, method, n_features, n_ontologies=25, column_sort=x, plot_type='scatter', \n",
    "                    list_onto=['GO_Biological_Process_2018',], save=enrichr_figs_dir + f'scatter_{lab}_{org}_{method}_{x}.pdf')\n",
    "    list_dfs_ding_human_10x.append(dict_df)"
   ]
  },
  {
   "cell_type": "code",
   "execution_count": null,
   "metadata": {},
   "outputs": [],
   "source": [
    "barplot_ontologies_all(list_dfs_ding_human_10x[0], save=enrichr_figs_dir + f'barplots_{lab}_{org}_{method}_{x}.pdf')"
   ]
  },
  {
   "cell_type": "code",
   "execution_count": null,
   "metadata": {},
   "outputs": [],
   "source": [
    "# Bad in Mereu: 10X Mouse (Colon cells)\n",
    "\n",
    "lab, org, method, n_features = 'mereu', 'mouse', '10X', [100, 250, 500, 1000, 1250, 1500]\n",
    "list_dfs_mereu_mouse_10x = []\n",
    "for x in ['Adjusted P-value']:  # ['Combined Score', 'Adjusted P-value', 'division']:\n",
    "    dict_df = scatter_enrichr(lab, org, method, n_features, n_ontologies=25, column_sort=x, plot_type='scatter', \n",
    "                    list_onto=['GO_Biological_Process_2018',], save=enrichr_figs_dir + f'scatter_{lab}_{org}_{method}_{x}.pdf')\n",
    "    list_dfs_mereu_mouse_10x.append(dict_df)"
   ]
  },
  {
   "cell_type": "code",
   "execution_count": null,
   "metadata": {},
   "outputs": [],
   "source": [
    "barplot_ontologies_all(list_dfs_mereu_mouse_10x[0], save=enrichr_figs_dir + f'barplots_{lab}_{org}_{method}_{x}.pdf')"
   ]
  },
  {
   "cell_type": "markdown",
   "metadata": {},
   "source": [
    "# 10X datasets\n",
    "In this section we are going to analyze the 10x neuron, heart and pbmc datasets.\n",
    "We are going to show the Silhouette scores for leiden using the methods."
   ]
  },
  {
   "cell_type": "code",
   "execution_count": null,
   "metadata": {},
   "outputs": [],
   "source": [
    "_10x_dir = os.path.dirname(os.getcwd()) + '/data/10x/'\n",
    "save_dir = os.getcwd() + '/exports/comparisons/'"
   ]
  },
  {
   "cell_type": "code",
   "execution_count": null,
   "metadata": {
    "scrolled": true
   },
   "outputs": [],
   "source": [
    "for libprep in tqdm(['neuron', 'pbmc', 'heart', ]):\n",
    "    if os.path.exists(save_dir + f'10X-datasets_{libprep}_feature_values.csv'):\n",
    "        print(f'{libprep}, exists!')\n",
    "    else:\n",
    "        adata_libprep = sc.read_10x_h5(_10x_dir + f'{libprep}_10k_v3_raw_feature_bc_matrix.h5')\n",
    "        adata_libprep.var_names_make_unique()\n",
    "        sc.pp.filter_cells(adata_libprep, min_counts=400)\n",
    "        sc.pp.filter_genes(adata_libprep, min_counts=100)\n",
    "        adata_libprep.var_names_make_unique()\n",
    "        adata_libprep.X = np.asarray(adata_libprep.X.todense())\n",
    "        del [adata_libprep.var, adata_libprep.obs]\n",
    "\n",
    "        print(adata_libprep.X)\n",
    "        create_df_feature_ranking(adata_libprep, f'10X-datasets_nonlog_{libprep}')"
   ]
  },
  {
   "cell_type": "code",
   "execution_count": null,
   "metadata": {
    "scrolled": true
   },
   "outputs": [],
   "source": [
    "save_dir = os.getcwd() + '/exports/comparisons/'\n",
    "\n",
    "tissues = ['heart', 'pbmc', 'neuron']\n",
    "\n",
    "for tissue in tissues:\n",
    "    print(tissue)\n",
    "    adata_libprep = sc.read_10x_h5(_10x_dir + f'{tissue}_10k_v3_raw_feature_bc_matrix.h5')\n",
    "    adata_libprep.var_names_make_unique()\n",
    "    sc.pp.filter_cells(adata_libprep, min_counts=400)\n",
    "    sc.pp.filter_genes(adata_libprep, min_counts=100)\n",
    "    adata_libprep.var_names_make_unique()\n",
    "    adata_libprep.X = np.asarray(adata_libprep.X.todense())\n",
    "    df_rank = pd.read_csv(os.getcwd() + f'/exports/comparisons/10X-datasets_nonlog_{tissue}_feature_ranks.csv', index_col=0)\n",
    "    \n",
    "    for seed in range(5):\n",
    "        biological_silhouette_ARI_table(adata_libprep, df_rank, outdir=save_dir, file_root=f'10X-datasets_nonlog_{tissue}', seed=seed, \n",
    "                                                            cell_types_col=None, n_procs=1)\n",
    "\n"
   ]
  },
  {
   "cell_type": "code",
   "execution_count": null,
   "metadata": {
    "scrolled": true
   },
   "outputs": [],
   "source": [
    "for libprep in tqdm(tissues):\n",
    "    if os.path.exists(save_dir + f'10X-datasets_log_{libprep}_feature_values.csv'):\n",
    "        print(f'{libprep}, exists!')\n",
    "    else:\n",
    "        adata_libprep = sc.read_10x_h5(_10x_dir + f'{libprep}_10k_v3_raw_feature_bc_matrix.h5')\n",
    "        adata_libprep.var_names_make_unique()\n",
    "        sc.pp.filter_cells(adata_libprep, min_counts=400)\n",
    "        sc.pp.filter_genes(adata_libprep, min_counts=100)\n",
    "        adata_libprep.var_names_make_unique()\n",
    "        adata_libprep.X = np.asarray(adata_libprep.X.todense())\n",
    "        del [adata_libprep.var, adata_libprep.obs]\n",
    "        \n",
    "        sc.pp.log1p(adata_libprep)\n",
    "        \n",
    "        print(adata_libprep.X)\n",
    "        create_df_feature_ranking(adata_libprep, f'10X-datasets_log_{libprep}')"
   ]
  },
  {
   "cell_type": "code",
   "execution_count": null,
   "metadata": {
    "scrolled": true
   },
   "outputs": [],
   "source": [
    "save_dir = os.getcwd() + '/exports/comparisons/'\n",
    "\n",
    "tissues = ['heart', 'pbmc', 'neuron']\n",
    "\n",
    "for tissue in tissues:\n",
    "    print(tissue)\n",
    "    adata_libprep = sc.read_10x_h5(_10x_dir + f'{tissue}_10k_v3_raw_feature_bc_matrix.h5')\n",
    "    adata_libprep.var_names_make_unique()\n",
    "    sc.pp.filter_cells(adata_libprep, min_counts=400)\n",
    "    sc.pp.filter_genes(adata_libprep, min_counts=100)\n",
    "    adata_libprep.var_names_make_unique()\n",
    "    adata_libprep.X = np.asarray(adata_libprep.X.todense())\n",
    "        \n",
    "    sc.pp.log1p(adata_libprep)\n",
    "\n",
    "    df_rank = pd.read_csv(os.getcwd() + f'/exports/comparisons/10X-datasets_log_{tissue}_feature_ranks.csv', index_col=0)\n",
    "    \n",
    "    for seed in range(5):\n",
    "        biological_silhouette_ARI_table(adata_libprep, df_rank, outdir=save_dir, file_root=f'10X-datasets_log_{tissue}', seed=seed, \n",
    "                                                            cell_types_col=None, n_procs=1)\n",
    "\n"
   ]
  },
  {
   "cell_type": "code",
   "execution_count": null,
   "metadata": {},
   "outputs": [],
   "source": [
    "lab = '10X-datasets'\n",
    "\n",
    "plot_lab_org_comparison_scores(lab=lab, org='-', read_dir=save_dir, variables=['Sil_leiden_PCA'], figsize=(14, 4), \n",
    "                                   title=f'Silhouette on {lab} datasets, leiden clusters on PCA projection', \n",
    "                                  filename=f'{lab}-Silhouette_PCA_leiden')\n",
    "\n",
    "plot_lab_org_comparison_scores(lab=lab, org='-', read_dir=save_dir, variables=['Sil_leiden_all_hvg'], figsize=(14, 4), \n",
    "                                   title=f'Silhouette on {lab} datasets, leiden clusters on selected features', \n",
    "                                  filename=f'{lab}-Silhouette_selected features_celltypes')"
   ]
  },
  {
   "cell_type": "code",
   "execution_count": null,
   "metadata": {},
   "outputs": [],
   "source": [
    "os.getcwd()"
   ]
  },
  {
   "cell_type": "code",
   "execution_count": null,
   "metadata": {},
   "outputs": [],
   "source": []
  },
  {
   "cell_type": "code",
   "execution_count": null,
   "metadata": {},
   "outputs": [],
   "source": []
  },
  {
   "cell_type": "code",
   "execution_count": null,
   "metadata": {},
   "outputs": [],
   "source": []
  },
  {
   "cell_type": "code",
   "execution_count": null,
   "metadata": {},
   "outputs": [],
   "source": []
  },
  {
   "cell_type": "code",
   "execution_count": null,
   "metadata": {},
   "outputs": [],
   "source": []
  },
  {
   "cell_type": "code",
   "execution_count": null,
   "metadata": {},
   "outputs": [],
   "source": []
  },
  {
   "cell_type": "code",
   "execution_count": null,
   "metadata": {},
   "outputs": [],
   "source": [
    "from bokeh.io import show, output_notebook, reset_output\n",
    "from bokeh.plotting import figure\n",
    "from bokeh.models import Circle, ColumnDataSource, Div, Grid, Line, LinearAxis, Plot, Range1d, Legend, LinearColorMapper, BasicTicker, PrintfTickFormatter, ColorBar\n",
    "from bokeh.sampledata.unemployment1948 import data\n",
    "\n",
    "reset_output()\n",
    "output_notebook()"
   ]
  },
  {
   "cell_type": "code",
   "execution_count": null,
   "metadata": {},
   "outputs": [],
   "source": [
    "mpl.rc('font', **{'size': 13})"
   ]
  },
  {
   "cell_type": "code",
   "execution_count": null,
   "metadata": {},
   "outputs": [],
   "source": [
    "def return_mean_per(matrix):\n",
    "    # Returns the mean counts per gene, and the proportion of zeros\n",
    "    n_reads_per_gene = matrix.sum(0).astype(int)\n",
    "    n_zeros = (matrix == 0).sum(0)\n",
    "\n",
    "    return n_reads_per_gene/matrix.shape[0], n_zeros/matrix.shape[0]"
   ]
  },
  {
   "cell_type": "code",
   "execution_count": null,
   "metadata": {},
   "outputs": [],
   "source": [
    "export_dir = os.getcwd() + '/exports/comparisons/'\n",
    "adata_dir = os.getcwd().replace('notebooks', '') + '/data/Ding_2020/'"
   ]
  },
  {
   "cell_type": "code",
   "execution_count": null,
   "metadata": {},
   "outputs": [],
   "source": [
    "org, dataset, res = 'human', 'SMARTseq2', 1"
   ]
  },
  {
   "cell_type": "code",
   "execution_count": null,
   "metadata": {},
   "outputs": [],
   "source": [
    "rank = f'ding_{dataset}_{org}-log_feature_ranks.csv'\n",
    "values = f'ding_{dataset}_{org}-log_feature_values.csv'\n",
    "adata_name = f'{dataset}_{org}.h5ad'"
   ]
  },
  {
   "cell_type": "code",
   "execution_count": null,
   "metadata": {},
   "outputs": [],
   "source": [
    "df_ranks = pd.read_csv(export_dir + rank, index_col=0)\n",
    "df_values = pd.read_csv(export_dir + values, index_col=0)\n",
    "adata = sc.read_h5ad(adata_dir + adata_name)\n",
    "adata = adata[:, df_ranks.index]"
   ]
  },
  {
   "cell_type": "code",
   "execution_count": null,
   "metadata": {},
   "outputs": [],
   "source": [
    "adata = sc.read_h5ad(adata_dir + adata_name)\n",
    "adata = adata[:, df_ranks.index]\n",
    "sc.pp.log1p(adata)\n",
    "sc.pp.pca(adata)\n",
    "sc.pp.neighbors(adata)\n",
    "sc.tl.umap(adata)\n",
    "sc.tl.leiden(adata, resolution=res)"
   ]
  },
  {
   "cell_type": "code",
   "execution_count": null,
   "metadata": {},
   "outputs": [],
   "source": [
    "plt.scatter(df_ranks['triku_0'], df_values['triku_0'])"
   ]
  },
  {
   "cell_type": "code",
   "execution_count": null,
   "metadata": {},
   "outputs": [],
   "source": [
    "list_mean_exp, list_p_zeros = return_mean_per(adata.X)\n",
    "list_genes = adata.var_names\n",
    "\n",
    "col_triku, col_rest = 'triku_0', 'm3drop'\n",
    "colors = ['#000000', '#007ab7', '#b7007a', '#bcbcbc']\n",
    "alphas = [0.9, 0.7, 0.7, 0.3]\n",
    "cutoff = 1750\n",
    "\n",
    "fs_triku = df_ranks[df_ranks[col_triku] < cutoff].index\n",
    "fs_rest = df_ranks[df_ranks[col_rest] < cutoff].index\n",
    "\n",
    "idx_cols = []\n",
    "for var in list_genes:\n",
    "    if (var in fs_triku) and (var in fs_rest):\n",
    "        idx_cols.append(0)\n",
    "    elif (var in fs_triku) and (var not in fs_rest):\n",
    "        idx_cols.append(1)\n",
    "    elif (var not in fs_triku) and (var in fs_rest):\n",
    "        idx_cols.append(2)\n",
    "    else:\n",
    "        idx_cols.append(3)\n",
    "idx_cols = np.array(idx_cols)        \n",
    "\n",
    "df_bokeh = pd.DataFrame({'m': np.log10(list_mean_exp), \n",
    "                         'z': list_p_zeros,\n",
    "                         'n': list_genes, \n",
    "                         'r_t': df_ranks[col_triku].values, \n",
    "                         'd_t': df_values[col_triku].values,\n",
    "                         'd_n': df_values[col_rest].values,\n",
    "                         'r_n': df_ranks[col_rest].values, \n",
    "                         'color': [colors[i] for i in idx_cols], \n",
    "                         'alphas': [alphas[i] for i in idx_cols]})\n",
    "\n",
    "df_bokeh = df_bokeh.dropna(how='any')"
   ]
  },
  {
   "cell_type": "code",
   "execution_count": null,
   "metadata": {},
   "outputs": [],
   "source": [
    "col_color = 'd_t'\n",
    "p = figure(tools=\"box_zoom,hover,reset\", plot_height=600, plot_width=600, \n",
    "           tooltips=[(\"Gene\",\"@n\"), \n",
    "                     ('Rank | Value TRIKU', f'@r_t | @d_t'), \n",
    "                     ('Rank | Value OTHER', f'@r_n | @d_n'), ])\n",
    "\n",
    "color_map = LinearColorMapper(low=min(df_bokeh[col_color].values), \n",
    "                              high=np.percentile(df_bokeh[col_color].values, 95), \n",
    "                              palette='Viridis256')\n",
    "\n",
    "\n",
    "\n",
    "p.scatter('m', 'z', source=df_bokeh, fill_color={'field': col_color, \n",
    "                                                 'transform':color_map}, \n",
    "          alpha=0.7, line_color=None)\n",
    "\n",
    "from bokeh.models import ColorBar\n",
    "bar = ColorBar(color_mapper=color_map, location=(0,0))\n",
    "p.add_layout(bar, \"left\")\n",
    "show(p)"
   ]
  },
  {
   "cell_type": "code",
   "execution_count": null,
   "metadata": {},
   "outputs": [],
   "source": [
    "col_color = 'd_t'\n",
    "p = figure(tools=\"box_zoom,hover,reset\", plot_height=600, plot_width=600, \n",
    "           tooltips=[(\"Gene\",\"@n\"), \n",
    "                     ('Rank | Value TRIKU', f'@r_t | @d_t'), \n",
    "                     ('Rank | Value OTHER', f'@r_n | @d_n'), ])\n",
    "\n",
    "print(f'''TRIKU + REST: {len(idx_cols[idx_cols == 0])}\n",
    "        TRIKU: {len(idx_cols[idx_cols == 1])}\n",
    "        REST: {len(idx_cols[idx_cols == 2])}\n",
    "        NONE: {len(idx_cols[idx_cols == 3])}''')\n",
    "p.scatter('m', 'z', source=df_bokeh, fill_color='color', alpha='alphas', line_color=None)\n",
    "\n",
    "show(p)"
   ]
  },
  {
   "cell_type": "code",
   "execution_count": null,
   "metadata": {},
   "outputs": [],
   "source": [
    "# sc.pl.umap(adata, color=['leiden', 'Gm39043'], cmap=magma, legend_loc='on data')"
   ]
  },
  {
   "cell_type": "code",
   "execution_count": null,
   "metadata": {},
   "outputs": [],
   "source": [
    "def get_norm_exp_cluster(adata, gene):\n",
    "    expression_vals = adata[:, gene].X.ravel()\n",
    "    expression_vals /= np.sum(expression_vals)\n",
    "    exp_by_cluster = sorted([sum(expression_vals[adata.obs['leiden'] == str(i)]) for i \n",
    "                      in range(np.max(adata.obs['leiden'].astype(int)) + 1)])[::-1]\n",
    "    return(exp_by_cluster)"
   ]
  },
  {
   "cell_type": "code",
   "execution_count": null,
   "metadata": {},
   "outputs": [],
   "source": [
    "fig1, axs1 = plt.subplots(2, 2)\n",
    "fig, axs = plt.subplots(1, 1)\n",
    "\n",
    "names = [f'triku + {col_rest}', 'triku', col_rest, 'None']\n",
    "for idx in range(4):\n",
    "    list_clust = []\n",
    "    list_genes = adata.var_names[idx_cols == idx]\n",
    "    for gene in tqdm(sorted(list_genes[: min(2000, len(list_genes))])):\n",
    "        exp_clust = get_norm_exp_cluster(adata, gene)\n",
    "        list_clust.append(exp_clust)\n",
    "    \n",
    "    arr = np.array(list_clust)\n",
    "    axs1.ravel()[idx].plot(np.arange(len(exp_clust)), \n",
    "                          100 * np.mean(arr, 0), color=colors[idx], alpha=1)\n",
    "    axs1.ravel()[idx].fill_between(np.arange(len(exp_clust)),\n",
    "                                  100 * np.percentile(arr, 85, axis=0), \n",
    "                                  100 * np.percentile(arr, 15, axis=0), \n",
    "                                  color=colors[idx], alpha=0.3)\n",
    "    \n",
    "    axs1.ravel()[idx].set_ylim([0, 0.8])\n",
    "    \n",
    "    axs.plot(np.arange(len(exp_clust)), 100 * np.mean(arr, 0), color=colors[idx], alpha=1, label=names[idx])\n",
    "    \n",
    "axs.set_xticks(np.arange(len(exp_clust)))\n",
    "axs.set_xticklabels(np.arange(len(exp_clust)))\n",
    "\n",
    "axs.set_xlabel('Cluster (most to least expressed)')\n",
    "axs.set_ylabel('% of expression')\n",
    "\n",
    "plt.legend()\n",
    "\n",
    "for f in [fig, fig1]:\n",
    "    f.tight_layout()\n",
    "    \n",
    "fig.savefig(os.getcwd() + f'/figures/comparison_figs/pdf/clusters_{org}_{dataset}_res-{res}_method-{col_rest}_all.pdf')\n",
    "fig1.savefig(os.getcwd() + f'/figures/comparison_figs/pdf/clusters_{org}_{dataset}_res-{res}_method-{col_rest}_individual.pdf')"
   ]
  },
  {
   "cell_type": "code",
   "execution_count": null,
   "metadata": {},
   "outputs": [],
   "source": []
  },
  {
   "cell_type": "code",
   "execution_count": null,
   "metadata": {},
   "outputs": [],
   "source": [
    "for org in ['human', 'mouse']:\n",
    "    for dataset in ['SMARTseq2', '10X']:\n",
    "        for col_rest in ['m3drop', 'nbumi']:\n",
    "            print(org, dataset, col_rest)\n",
    "            res = 1\n",
    "            \n",
    "            rank = f'ding_{dataset}_{org}-log_feature_ranks.csv'\n",
    "            values = f'ding_{dataset}_{org}-log_feature_values.csv'\n",
    "            adata_name = f'{dataset}_{org}.h5ad'\n",
    "            \n",
    "            df_ranks = pd.read_csv(export_dir + rank, index_col=0)\n",
    "            df_values = pd.read_csv(export_dir + values, index_col=0)\n",
    "            adata = sc.read_h5ad(adata_dir + adata_name)\n",
    "            adata = adata[:, df_ranks.index]\n",
    "\n",
    "            adata = sc.read_h5ad(adata_dir + adata_name)\n",
    "            adata = adata[:, df_ranks.index]\n",
    "            sc.pp.log1p(adata)\n",
    "            sc.pp.pca(adata)\n",
    "            sc.pp.neighbors(adata)\n",
    "            sc.tl.umap(adata)\n",
    "            sc.tl.leiden(adata, resolution=res)\n",
    "            \n",
    "            \n",
    "            list_mean_exp, list_p_zeros = return_mean_per(adata.X)\n",
    "            list_genes = adata.var_names\n",
    "\n",
    "            col_triku = 'triku_0'\n",
    "            colors = ['#000000', '#007ab7', '#b7007a', '#bcbcbc']\n",
    "            alphas = [0.9, 0.7, 0.7, 0.3]\n",
    "            cutoff = 1750\n",
    "\n",
    "            fs_triku = df_ranks[df_ranks[col_triku] < cutoff].index\n",
    "            fs_rest = df_ranks[df_ranks[col_rest] < cutoff].index\n",
    "\n",
    "            idx_cols = []\n",
    "            for var in list_genes:\n",
    "                if (var in fs_triku) and (var in fs_rest):\n",
    "                    idx_cols.append(0)\n",
    "                elif (var in fs_triku) and (var not in fs_rest):\n",
    "                    idx_cols.append(1)\n",
    "                elif (var not in fs_triku) and (var in fs_rest):\n",
    "                    idx_cols.append(2)\n",
    "                else:\n",
    "                    idx_cols.append(3)\n",
    "            idx_cols = np.array(idx_cols)        \n",
    "\n",
    "            df_bokeh = pd.DataFrame({'m': np.log10(list_mean_exp), \n",
    "                                     'z': list_p_zeros,\n",
    "                                     'n': list_genes, \n",
    "                                     'r_t': df_ranks[col_triku].values, \n",
    "                                     'd_t': df_values[col_triku].values,\n",
    "                                     'd_n': df_values[col_rest].values,\n",
    "                                     'r_n': df_ranks[col_rest].values, \n",
    "                                     'color': [colors[i] for i in idx_cols], \n",
    "                                     'alphas': [alphas[i] for i in idx_cols]})\n",
    "\n",
    "            df_bokeh = df_bokeh.dropna(how='any')\n",
    "            \n",
    "            \n",
    "            \n",
    "            \n",
    "            \n",
    "            fig1, axs1 = plt.subplots(2, 2)\n",
    "            fig, axs = plt.subplots(1, 1)\n",
    "\n",
    "            names = [f'triku + {col_rest}', 'triku', col_rest, 'None']\n",
    "            for idx in range(4):\n",
    "                list_clust = []\n",
    "                list_genes = adata.var_names[idx_cols == idx]\n",
    "                for gene in tqdm(sorted(list_genes[: min(2000, len(list_genes))])):\n",
    "                    exp_clust = get_norm_exp_cluster(adata, gene)\n",
    "                    list_clust.append(exp_clust)\n",
    "\n",
    "                arr = np.array(list_clust)\n",
    "                axs1.ravel()[idx].plot(np.arange(len(exp_clust)), \n",
    "                                      100 * np.mean(arr, 0), color=colors[idx], alpha=1)\n",
    "                axs1.ravel()[idx].fill_between(np.arange(len(exp_clust)),\n",
    "                                              100 * np.percentile(arr, 85, axis=0), \n",
    "                                              100 * np.percentile(arr, 15, axis=0), \n",
    "                                              color=colors[idx], alpha=0.3)\n",
    "\n",
    "                axs1.ravel()[idx].set_ylim([0, 80])\n",
    "\n",
    "                axs.plot(np.arange(len(exp_clust)), 100 * np.mean(arr, 0), color=colors[idx], alpha=1, label=names[idx])\n",
    "\n",
    "            axs.set_xticks(np.arange(len(exp_clust)))\n",
    "            axs.set_xticklabels(np.arange(len(exp_clust)))\n",
    "\n",
    "            axs.set_xlabel('Cluster (most to least expressed)')\n",
    "            axs.set_ylabel('% of expression')\n",
    "                \n",
    "            plt.legend()\n",
    "\n",
    "            for f in [fig, fig1]:\n",
    "                f.tight_layout()\n",
    "            \n",
    "            print(os.getcwd() + f'/figures/comparison_figs/pdf/clusters_{org}_{dataset}_res-{res}_method-{col_rest}_all.pdf')\n",
    "            fig.savefig(os.getcwd() + f'/figures/comparison_figs/pdf/clusters_{org}_{dataset}_res-{res}_method-{col_rest}_all.pdf')\n",
    "            fig1.savefig(os.getcwd() + f'/figures/comparison_figs/pdf/clusters_{org}_{dataset}_res-{res}_method-{col_rest}_individual.pdf')"
   ]
  },
  {
   "cell_type": "code",
   "execution_count": null,
   "metadata": {},
   "outputs": [],
   "source": [
    "os.get_"
   ]
  },
  {
   "cell_type": "code",
   "execution_count": null,
   "metadata": {},
   "outputs": [],
   "source": [
    "export_dir"
   ]
  },
  {
   "cell_type": "code",
   "execution_count": null,
   "metadata": {},
   "outputs": [],
   "source": [
    "len(adata.var_names)"
   ]
  },
  {
   "cell_type": "code",
   "execution_count": null,
   "metadata": {},
   "outputs": [],
   "source": [
    "len(df_ranks)"
   ]
  },
  {
   "cell_type": "code",
   "execution_count": null,
   "metadata": {},
   "outputs": [],
   "source": [
    "for lab in ['mereu', 'ding']:\n",
    "    if lab == 'mereu':\n",
    "        adata_dir = os.getcwd().replace('notebooks', '') + '/data/Mereu_2020/'\n",
    "    elif lab == 'ding':\n",
    "        adata_dir = os.getcwd().replace('notebooks', '') + '/data/Ding_2020/'\n",
    "        \n",
    "    for org in ['mouse', 'human']:\n",
    "        for dataset in ['Dropseq', 'CELseq2', 'inDrop', 'QUARTZseq', 'SingleNuclei', 'ddSEQ', 'SMARTseq2', '10X',]:      \n",
    "            print(lab, org, dataset)\n",
    "            \n",
    "            fig, axs = plt.subplots(1, 1)\n",
    "            FS_names = ['triku', 'scanpy', 'std', 'scry', 'brennecke', 'm3drop', 'nbumi', 'all', 'random']\n",
    "\n",
    "            colors = [\"#E73F74\",\"#7F3C8D\",\"#11A579\", \"#3969AC\",\"#F2B701\",\"#80BA5A\",\"#E68310\",\"#a0a0a0\",\"#505050\",]\n",
    "            cutoff, res = 1750, 1.2\n",
    "\n",
    "            rank = f'{lab}_{dataset}_{org}-log_feature_ranks.csv'\n",
    "            values = f'{lab}_{dataset}_{org}-log_feature_values.csv'\n",
    "            adata_name = f'{dataset}_{org}.h5ad'\n",
    "\n",
    "            if not (os.path.exists(adata_dir + adata_name) and os.path.exists(export_dir + rank)):\n",
    "                print(adata_dir + adata_name, os.path.exists(export_dir + rank))\n",
    "                print(export_dir + rank, os.path.exists(export_dir + rank))\n",
    "                print('Combo does not exist!')\n",
    "                continue\n",
    "            \n",
    "            df_ranks = pd.read_csv(export_dir + rank, index_col=0)\n",
    "            adata = sc.read_h5ad(adata_dir + adata_name)\n",
    "            \n",
    "            combined_names = np.intersect1d(df_ranks.index.values, adata.var_names)\n",
    "            adata = adata[:, combined_names]\n",
    "            df_ranks = df_ranks.loc[combined_names]\n",
    "\n",
    "            sc.pp.log1p(adata)\n",
    "            sc.pp.pca(adata)\n",
    "            sc.pp.neighbors(adata)\n",
    "            sc.tl.umap(adata)\n",
    "            sc.tl.leiden(adata, resolution=res)\n",
    "\n",
    "            for col_rest_idx, col_rest in enumerate(FS_names):\n",
    "                print(col_rest)\n",
    "                list_mean_exp, list_p_zeros = return_mean_per(adata.X)\n",
    "                list_genes = adata.var_names\n",
    "\n",
    "                if col_rest not in ['all', 'random', 'triku']:\n",
    "                    list_genes = df_ranks[df_ranks[col_rest] < cutoff].index\n",
    "                elif col_rest == 'all':\n",
    "                    list_genes = df_ranks.index\n",
    "                elif col_rest == 'random':\n",
    "                    list_genes = np.random.choice(df_ranks.index, cutoff) \n",
    "                elif col_rest == 'triku':\n",
    "                    list_genes = df_ranks[df_ranks['triku_0'] < cutoff].index\n",
    "\n",
    "                list_clust = []\n",
    "                for gene in list_genes:\n",
    "                    exp_clust = get_norm_exp_cluster(adata, gene)\n",
    "                    list_clust.append(exp_clust)\n",
    "\n",
    "                arr = np.array(list_clust)\n",
    "\n",
    "                axs.plot(np.arange(len(exp_clust)), 100 * np.mean(arr, 0), color=colors[col_rest_idx], alpha=1, \n",
    "                         label=col_rest, zorder=len(FS_names) - col_rest_idx)\n",
    "\n",
    "            axs.set_xticks(np.arange(len(exp_clust)))\n",
    "            axs.set_xticklabels(np.arange(len(exp_clust)))\n",
    "\n",
    "            axs.set_xlabel('Cluster (most to least expressed)')\n",
    "            axs.set_ylabel('% of expression')\n",
    "\n",
    "            plt.suptitle(f'{org} {dataset}')\n",
    "            plt.legend()\n",
    "\n",
    "\n",
    "            print(os.getcwd() + f'/figures/comparison_figs/pdf/clusters_{lab}_{org}_{dataset}_res-{res}-all_methods.pdf')\n",
    "            fig.savefig(os.getcwd() + f'/figures/comparison_figs/pdf/clusters_{lab}_{org}_{dataset}_res-{res}-all_methods.pdf')\n"
   ]
  },
  {
   "cell_type": "code",
   "execution_count": null,
   "metadata": {},
   "outputs": [],
   "source": [
    "adata_dir = os.getcwd().replace('notebooks', '') + '/data/splatter/'\n",
    "for deprob in ['0.3', '0.1', '0.05', '0.025', '0.016', '0.01', '0.008', '0.0065']:      \n",
    "    print(deprob)\n",
    "\n",
    "    fig, axs = plt.subplots(1, 1)\n",
    "    FS_names = ['triku', 'scanpy', 'std', 'scry', 'brennecke', 'm3drop', 'nbumi', 'all', 'random']\n",
    "\n",
    "    colors = [\"#E73F74\",\"#7F3C8D\",\"#11A579\", \"#3969AC\",\"#F2B701\",\"#80BA5A\",\"#E68310\",\"#a0a0a0\",\"#505050\",]\n",
    "    cutoff, res = 500, 0.6\n",
    "\n",
    "    rank = f'scatter_{deprob}_feature_ranks.csv'\n",
    "    adata_name = f'splatter_deprob_{deprob}.loom'\n",
    "\n",
    "    df_ranks = pd.read_csv(export_dir + rank, index_col=0)\n",
    "    adata = sc.read_loom(adata_dir + adata_name)\n",
    "    adata.X = np.asarray(adata.X.todense())\n",
    "\n",
    "    combined_names = np.intersect1d(df_ranks.index.values, adata.var_names)\n",
    "    adata = adata[:, combined_names]\n",
    "    \n",
    "    df_ranks = df_ranks.loc[combined_names]\n",
    "    \n",
    "    print(adata, adata.X)\n",
    "    sc.pp.log1p(adata)\n",
    "    sc.pp.pca(adata)\n",
    "    sc.pp.neighbors(adata)\n",
    "    sc.tl.umap(adata)\n",
    "    sc.tl.leiden(adata, resolution=res)\n",
    "\n",
    "    for col_rest_idx, col_rest in enumerate(FS_names):\n",
    "        print(col_rest)\n",
    "        list_mean_exp, list_p_zeros = return_mean_per(adata.X)\n",
    "        list_genes = adata.var_names\n",
    "\n",
    "        if col_rest not in ['all', 'random', 'triku']:\n",
    "            list_genes = df_ranks[df_ranks[col_rest] < cutoff].index\n",
    "        elif col_rest == 'all':\n",
    "            list_genes = df_ranks.index\n",
    "        elif col_rest == 'random':\n",
    "            list_genes = np.random.choice(df_ranks.index, cutoff) \n",
    "        elif col_rest == 'triku':\n",
    "            list_genes = df_ranks[df_ranks['triku_0'] < cutoff].index\n",
    "\n",
    "        list_clust = []\n",
    "        for gene in list_genes:\n",
    "            exp_clust = get_norm_exp_cluster(adata, gene)\n",
    "            list_clust.append(exp_clust)\n",
    "\n",
    "        arr = np.array(list_clust)\n",
    "\n",
    "        axs.plot(np.arange(len(exp_clust)), 100 * np.mean(arr, 0), color=colors[col_rest_idx], alpha=1, label=col_rest, \n",
    "                 zorder=len(FS_names) - col_rest_idx)\n",
    "\n",
    "    axs.set_xticks(np.arange(len(exp_clust)))\n",
    "    axs.set_xticklabels(np.arange(len(exp_clust)))\n",
    "\n",
    "    axs.set_xlabel('Cluster (most to least expressed)')\n",
    "    axs.set_ylabel('% of expression')\n",
    "\n",
    "    plt.suptitle(f'{org} {dataset}')\n",
    "    plt.legend()\n",
    "\n",
    "\n",
    "    print(os.getcwd() + f'/figures/comparison_figs/pdf/clusters_splatter_{deprob}_res-{res}-all_methods.pdf')\n",
    "    fig.savefig(os.getcwd() + f'/figures/comparison_figs/pdf/clusters_splatter_{deprob}_res-{res}-all_methods.pdf')\n"
   ]
  },
  {
   "cell_type": "code",
   "execution_count": null,
   "metadata": {},
   "outputs": [],
   "source": []
  }
 ],
 "metadata": {
  "kernelspec": {
   "display_name": "Python [conda env:triku-notebooks] *",
   "language": "python",
   "name": "conda-env-triku-notebooks-py"
  },
  "language_info": {
   "codemirror_mode": {
    "name": "ipython",
    "version": 3
   },
   "file_extension": ".py",
   "mimetype": "text/x-python",
   "name": "python",
   "nbconvert_exporter": "python",
   "pygments_lexer": "ipython3",
   "version": "3.8.0"
  },
  "toc": {
   "base_numbering": 1,
   "nav_menu": {},
   "number_sections": true,
   "sideBar": true,
   "skip_h1_title": false,
   "title_cell": "Table of Contents",
   "title_sidebar": "Contents",
   "toc_cell": false,
   "toc_position": {},
   "toc_section_display": true,
   "toc_window_display": false
  },
  "toc-autonumbering": true,
  "toc-showcode": false,
  "toc-showmarkdowntxt": false,
  "varInspector": {
   "cols": {
    "lenName": 16,
    "lenType": 16,
    "lenVar": 40
   },
   "kernels_config": {
    "python": {
     "delete_cmd_postfix": "",
     "delete_cmd_prefix": "del ",
     "library": "var_list.py",
     "varRefreshCmd": "print(var_dic_list())"
    },
    "r": {
     "delete_cmd_postfix": ") ",
     "delete_cmd_prefix": "rm(",
     "library": "var_list.r",
     "varRefreshCmd": "cat(var_dic_list()) "
    }
   },
   "types_to_exclude": [
    "module",
    "function",
    "builtin_function_or_method",
    "instance",
    "_Feature"
   ],
   "window_display": false
  }
 },
 "nbformat": 4,
 "nbformat_minor": 4
}
