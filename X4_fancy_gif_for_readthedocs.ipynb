{
 "cells": [
  {
   "cell_type": "code",
   "execution_count": null,
   "metadata": {
    "tags": []
   },
   "outputs": [],
   "source": [
    "%load_ext autoreload"
   ]
  },
  {
   "cell_type": "code",
   "execution_count": null,
   "metadata": {
    "tags": []
   },
   "outputs": [],
   "source": [
    "%autoreload 2"
   ]
  },
  {
   "cell_type": "code",
   "execution_count": null,
   "metadata": {
    "tags": []
   },
   "outputs": [],
   "source": [
    "!pip install torchvision \n",
    "!pip install geomloss"
   ]
  },
  {
   "cell_type": "code",
   "execution_count": null,
   "metadata": {
    "tags": []
   },
   "outputs": [],
   "source": [
    "import triku as tk\n",
    "import scanpy as sc\n",
    "import pandas as pd\n",
    "import numpy as np\n",
    "import scipy.sparse as spr\n",
    "import scipy.stats as sts\n",
    "import os\n",
    "import gc\n",
    "from itertools import product\n",
    "import pickle\n",
    "import ray\n",
    "import itertools\n",
    "\n",
    "from tqdm.notebook import tqdm\n",
    "\n",
    "from bokeh.io import show, output_notebook, reset_output\n",
    "from bokeh.plotting import figure\n",
    "from bokeh.models import LinearColorMapper\n",
    "\n",
    "import matplotlib.pyplot as plt\n",
    "import matplotlib as mpl\n",
    "from matplotlib.lines import Line2D\n",
    "\n",
    "from sklearn.metrics import adjusted_rand_score as ARS\n",
    "from sklearn.metrics import adjusted_mutual_info_score as NMI\n",
    "from sklearn.metrics import silhouette_score, davies_bouldin_score\n",
    "\n",
    "from geomloss import SamplesLoss\n",
    "import torch\n",
    "\n",
    "import time \n",
    "\n",
    "reset_output()\n",
    "output_notebook()"
   ]
  },
  {
   "cell_type": "code",
   "execution_count": null,
   "metadata": {
    "tags": []
   },
   "outputs": [],
   "source": [
    "from cellassign import assign_cats"
   ]
  },
  {
   "cell_type": "code",
   "execution_count": null,
   "metadata": {
    "tags": []
   },
   "outputs": [],
   "source": [
    "mpl.rcParams['figure.dpi'] = 150"
   ]
  },
  {
   "cell_type": "code",
   "execution_count": null,
   "metadata": {
    "tags": []
   },
   "outputs": [],
   "source": [
    "!python setup.py install"
   ]
  },
  {
   "cell_type": "code",
   "execution_count": null,
   "metadata": {
    "tags": []
   },
   "outputs": [],
   "source": [
    "save_dir = \"../exports/fancy_gif/\"\n",
    "\n",
    "os.makedirs(save_dir, exist_ok=True)"
   ]
  },
  {
   "cell_type": "code",
   "execution_count": null,
   "metadata": {
    "tags": []
   },
   "outputs": [],
   "source": [
    "adata = sc.read_10x_h5('data/10x/5k_pbmc_protein_v3_filtered_feature_bc_matrix.h5')\n",
    "adata.var_names_make_unique()"
   ]
  },
  {
   "cell_type": "code",
   "execution_count": null,
   "metadata": {
    "tags": []
   },
   "outputs": [],
   "source": [
    "names_out = [False if ('RPS' in i) or ('RPL' in i) or ('MT-' in i) else True for i in adata.var_names]\n",
    "np.array(names_out).sum()\n",
    "\n",
    "adata = adata[:, names_out]"
   ]
  },
  {
   "cell_type": "code",
   "execution_count": null,
   "metadata": {
    "tags": []
   },
   "outputs": [],
   "source": [
    "sc.pp.filter_genes(adata, min_cells=5)\n",
    "sc.pp.filter_cells(adata, min_counts=500)"
   ]
  },
  {
   "cell_type": "code",
   "execution_count": null,
   "metadata": {
    "tags": []
   },
   "outputs": [],
   "source": [
    "sc.pp.normalize_per_cell(adata)\n",
    "sc.pp.log1p(adata)"
   ]
  },
  {
   "cell_type": "code",
   "execution_count": null,
   "metadata": {
    "tags": []
   },
   "outputs": [],
   "source": [
    "sc.pp.pca(adata)\n",
    "sc.pp.neighbors(adata, n_neighbors=35)"
   ]
  },
  {
   "cell_type": "markdown",
   "metadata": {
    "execution": {
     "iopub.execute_input": "2022-06-02T09:43:30.802942Z",
     "iopub.status.busy": "2022-06-02T09:43:30.802632Z",
     "iopub.status.idle": "2022-06-02T09:43:30.835431Z",
     "shell.execute_reply": "2022-06-02T09:43:30.834497Z",
     "shell.execute_reply.started": "2022-06-02T09:43:30.802911Z"
    },
    "tags": []
   },
   "source": [
    "# First analysis without running FS and to mark the populations"
   ]
  },
  {
   "cell_type": "code",
   "execution_count": null,
   "metadata": {
    "tags": []
   },
   "outputs": [],
   "source": [
    "dict_cats = {\n",
    "    'NK cell': ['NKG7', 'GNLY', 'GZMA', 'CST7', 'PRF1', 'KLRD1', 'FGFBP2', 'HOPX', 'KLRF1', 'SPON2'], \n",
    "    'T naive': ['CD3D', 'CD3E', 'TRAC', 'TCF7', 'RGS10', 'MAL', 'FHIT', 'LRRN3'], \n",
    "    'T CD4': ['CD4', 'AQP3', 'TRADD', 'PLP2', 'ITGB1'], \n",
    "    'T CD8': ['CD8A', 'LYAR', 'GZMK', 'CD8B', 'TRGC2'], \n",
    "    'T reg': ['CDC14A', 'TTN', 'PCSK7', 'ANKRD36C', 'GOLGA8A', 'DGKA', 'EML4', 'SYNE2'], \n",
    "    'Macrophage': ['S100A8', 'VCAN', 'S100A9', 'NCF2', 'CD14', 'MNDA', 'CSTA'], \n",
    "    'Plasm. DC': ['FCER1A', 'ALDH2', 'HLA-DMA', 'HLA-DQB1', 'CLEC10A', 'GSN'], \n",
    "    'APC': ['AIF1', 'PSAP', 'FCGR3A', 'SERPINA1', 'LYN', 'MS4A7'], \n",
    "    'Monocyte': ['VCAN', 'CSF3R', 'DMXL2', 'ITGAX', 'RASSF4', 'STAB1', 'IRAK3'], \n",
    "    'B cell': ['CD79A', 'RALGPS2', 'IGHM', 'IGKC', 'TNFRSF13C', 'VPREB3', 'SWAP70', 'IGHD', 'PDLIM1', 'CD22'], \n",
    "    'Plasma cell': ['ITM2C', 'CCDC50', 'JCHAIN', 'IL3RA', 'IGKC', 'TPM2', 'LILRA4'],     \n",
    "}"
   ]
  },
  {
   "cell_type": "code",
   "execution_count": null,
   "metadata": {
    "tags": []
   },
   "outputs": [],
   "source": [
    "sc.tl.leiden(adata, resolution=3)\n",
    "sc.tl.umap(adata)\n",
    "\n",
    "assign_cats(adata, dict_cats, column_groupby='leiden', key_added='cell_type')"
   ]
  },
  {
   "cell_type": "code",
   "execution_count": null,
   "metadata": {
    "tags": []
   },
   "outputs": [],
   "source": [
    "sc.pl.umap(adata, color=['cell_type'])"
   ]
  },
  {
   "cell_type": "markdown",
   "metadata": {},
   "source": [
    "# Second, run the FS algorithms and get the images"
   ]
  },
  {
   "cell_type": "code",
   "execution_count": null,
   "metadata": {
    "tags": []
   },
   "outputs": [],
   "source": [
    "def dist_func(umap_orig, umap_new, dict_class_mask):\n",
    "    Loss =  SamplesLoss(\"sinkhorn\", blur=0.01,)\n",
    "    loss_list = []\n",
    "    for classs in dict_class_mask.keys():\n",
    "        \n",
    "        coords_orig = umap_orig[dict_class_mask[classs], :]\n",
    "        coords_new = umap_new[dict_class_mask[classs], :]\n",
    "        \n",
    "        loss = Loss( torch.from_numpy(coords_orig), torch.from_numpy(coords_new) ).item()\n",
    "        loss_list.append(loss)\n",
    "    \n",
    "    pond_mean = (np.array([np.sqrt(i.sum()) for i in dict_class_mask.values()]) \n",
    "                 * np.array(loss_list)).sum() / (np.array([np.sqrt(i.sum()) for i in dict_class_mask.values()])).sum() \n",
    "    \n",
    "    return pond_mean"
   ]
  },
  {
   "cell_type": "code",
   "execution_count": null,
   "metadata": {
    "tags": []
   },
   "outputs": [],
   "source": [
    "tk.tl.triku(adata)\n",
    "sc.pp.highly_variable_genes(adata)"
   ]
  },
  {
   "cell_type": "code",
   "execution_count": null,
   "metadata": {
    "scrolled": true,
    "tags": []
   },
   "outputs": [],
   "source": [
    "for N in tqdm(list(range(1, 40)) + list(range(40, 120, 2)) + list(range(120, 1000, 5))):\n",
    "    dict_class_mask = {cat: (adata.obs['cell_type'] == cat).values for cat in adata.obs['cell_type'].cat.categories}  # This is used to calculate the distances later on\n",
    "     \n",
    "    fig, axs = plt.subplots(1, 1, figsize=(5, 4))\n",
    "    \n",
    "    # Plot triku\n",
    "    ind_triku = np.argpartition(adata.var['triku_distance'].values, -N)[-N:]\n",
    "    mask_bool_triku = np.array([False] * len(adata.var))\n",
    "    mask_bool_triku[ind_triku] = True\n",
    "    adata.var['highly_variable'] = mask_bool_triku\n",
    "    adata.obsm['X_triku'] = adata.X[:, mask_bool_triku]\n",
    "    \n",
    "    \n",
    "    \n",
    "    for idx, use_rep in enumerate(['X_triku']):\n",
    "        sc.pp.neighbors(adata, n_neighbors=17, use_rep=use_rep)    \n",
    "        \n",
    "        if N == 1:\n",
    "            umap_coords = sc.tl.umap(adata, copy=True, random_state=seed).obsm['X_umap']\n",
    "            umap_coords[:, 0] = (umap_coords[:, 0] - min(umap_coords[:, 0])) / (max(umap_coords[:, 0]) - min(umap_coords[:, 0]))\n",
    "            umap_coords[:, 1] = (umap_coords[:, 1] - min(umap_coords[:, 1])) / (max(umap_coords[:, 1]) - min(umap_coords[:, 1]))\n",
    "            adata.obsm[use_rep.replace('_', '_umap_')] = umap_coords\n",
    "            \n",
    "        else:\n",
    "            list_umaps = []\n",
    "            for seed in range(8):\n",
    "                umap_coords = sc.tl.umap(adata, copy=True, random_state=seed).obsm['X_umap']\n",
    "                umap_coords[:, 0] = (umap_coords[:, 0] - min(umap_coords[:, 0])) / (max(umap_coords[:, 0]) - min(umap_coords[:, 0]))\n",
    "                umap_coords[:, 1] = (umap_coords[:, 1] - min(umap_coords[:, 1])) / (max(umap_coords[:, 1]) - min(umap_coords[:, 1]))\n",
    "                list_umaps.append(umap_coords)\n",
    "\n",
    "            list_dists = [dist_func(adata.obsm[use_rep.replace('_', '_umap_')], umap_new, dict_class_mask) for umap_new in list_umaps]\n",
    "            best_umap = list_umaps[np.argmin(list_dists)]\n",
    "\n",
    "            adata.obsm[use_rep.replace('_', '_umap_')] = best_umap\n",
    "        \n",
    "        \n",
    "        sc.pl.embedding(adata, color=['cell_type'], ax=axs, show=False, basis=use_rep.replace('_', '_umap_'), title='', frameon=False)\n",
    "        \n",
    "        xl, yl = axs.get_xlim(), axs.get_ylim()\n",
    "        xt, yt = (xl[0] + xl[1]) / 2, yl[0] - 0.1 * (yl[1] - yl[0])\n",
    "        axs.text(xt, yt, use_rep.replace('X_', ''), ha='center')\n",
    "        axs.text(xl[0], yl[1], N, ha='left', c='#bcbcbc')\n",
    "    \n",
    "    plt.savefig(f'figures/gif/triku_{str(N).zfill(4)}.png', bbox_inches='tight', dpi=175 )\n",
    "    plt.show()"
   ]
  },
  {
   "cell_type": "code",
   "execution_count": null,
   "metadata": {
    "scrolled": true,
    "tags": []
   },
   "outputs": [],
   "source": [
    "for N in tqdm(list(range(1, 40)) + list(range(40, 120, 2)) + list(range(120, 1000, 5))):\n",
    "    fig, axs = plt.subplots(1, 3, figsize=(10, 3))\n",
    "    plt.plot([0.375, 0.375], [0.1, 0.9], color='#bcbcbc', lw=1,transform=fig.transFigure, clip_on=False)\n",
    "    plt.plot([0.65, 0.65], [0.1, 0.9], color='#bcbcbc', lw=1,transform=fig.transFigure, clip_on=False)\n",
    "    \n",
    "    print(N)\n",
    "    \n",
    "    # Plot triku\n",
    "    ind_triku = np.argpartition(adata.var['triku_distance'].values, -N)[-N:]\n",
    "    mask_bool_triku = np.array([False] * len(adata.var))\n",
    "    mask_bool_triku[ind_triku] = True\n",
    "    adata.var['highly_variable'] = mask_bool_triku\n",
    "    adata.obsm['X_triku'] = adata.X[:, mask_bool_triku]\n",
    "    \n",
    "    ind_scanpy = np.argpartition(adata.var['dispersions_norm'].values, -N)[-N:]\n",
    "    mask_bool_scanpy = np.array([False] * len(adata.var))\n",
    "    mask_bool_scanpy[ind_scanpy] = True\n",
    "    adata.var['highly_variable'] = mask_bool_scanpy\n",
    "    adata.obsm['X_scanpy'] = adata.X[:, mask_bool_scanpy]\n",
    "    \n",
    "    ind_random = np.random.choice(range(len(adata.var)), size=N, replace=False)\n",
    "    mask_bool_random = np.array([False] * len(adata.var))\n",
    "    mask_bool_random[ind_random] = True\n",
    "    adata.var['highly_variable'] = mask_bool_random\n",
    "    adata.obsm['X_random'] = adata.X[:, mask_bool_random]\n",
    "\n",
    "    for idx, use_rep in enumerate(['X_triku', 'X_scanpy', 'X_random']):\n",
    "        sc.pp.neighbors(adata, n_neighbors=17, use_rep=use_rep)    \n",
    "        \n",
    "        if N == 1:\n",
    "            umap_coords = sc.tl.umap(adata, copy=True, random_state=seed).obsm['X_umap']\n",
    "            umap_coords[:, 0] = (umap_coords[:, 0] - min(umap_coords[:, 0])) / (max(umap_coords[:, 0]) - min(umap_coords[:, 0]))\n",
    "            umap_coords[:, 1] = (umap_coords[:, 1] - min(umap_coords[:, 1])) / (max(umap_coords[:, 1]) - min(umap_coords[:, 1]))\n",
    "            adata.obsm[use_rep.replace('_', '_umap_')] = umap_coords\n",
    "            \n",
    "        else:\n",
    "            list_umaps = []\n",
    "            for seed in range(8):\n",
    "                umap_coords = sc.tl.umap(adata, copy=True, random_state=seed).obsm['X_umap']\n",
    "                umap_coords[:, 0] = (umap_coords[:, 0] - min(umap_coords[:, 0])) / (max(umap_coords[:, 0]) - min(umap_coords[:, 0]))\n",
    "                umap_coords[:, 1] = (umap_coords[:, 1] - min(umap_coords[:, 1])) / (max(umap_coords[:, 1]) - min(umap_coords[:, 1]))\n",
    "                list_umaps.append(umap_coords)\n",
    "            \n",
    "        list_dists = [dist_func(adata.obsm[use_rep.replace('_', '_umap_')], umap_new, dict_class_mask) for umap_new in list_umaps]\n",
    "        best_umap = list_umaps[np.argmin(list_dists)]\n",
    "    \n",
    "        adata.obsm[use_rep.replace('_', '_umap_')] = best_umap\n",
    "        \n",
    "        if idx == 2:\n",
    "            sc.pl.embedding(adata, color=['cell_type'], ax=axs[idx], show=False, basis=use_rep.replace('_', '_umap_'), title='', frameon=False)\n",
    "        else:\n",
    "            sc.pl.embedding(adata, color=['cell_type'], ax=axs[idx], show=False, legend_loc=False, basis=use_rep.replace('_', '_umap_'), title='', frameon=False)\n",
    "\n",
    "        xl = axs[idx].get_xlim()\n",
    "        yl = axs[idx].get_ylim()\n",
    "        xt = (xl[0] + xl[1]) / 2\n",
    "        yt = yl[0] - 0.1 * (yl[1] - yl[0])\n",
    "\n",
    "        axs[idx].text(xt, yt, use_rep.replace('X_', ''), ha='center')\n",
    "        \n",
    "        if idx == 0:\n",
    "            axs[idx].text(xl[0], yl[1], N, ha='left', c='#bcbcbc')\n",
    "    \n",
    "    plt.savefig(f'figures/gif/{str(N).zfill(4)}.png', bbox_inches='tight', dpi=175)\n",
    "    plt.show()"
   ]
  }
 ],
 "metadata": {
  "kernelspec": {
   "display_name": "Python [conda env:alex-base] *",
   "language": "python",
   "name": "conda-env-alex-base-py"
  },
  "language_info": {
   "codemirror_mode": {
    "name": "ipython",
    "version": 3
   },
   "file_extension": ".py",
   "mimetype": "text/x-python",
   "name": "python",
   "nbconvert_exporter": "python",
   "pygments_lexer": "ipython3",
   "version": "3.8.0"
  },
  "toc": {
   "base_numbering": 1,
   "nav_menu": {},
   "number_sections": true,
   "sideBar": true,
   "skip_h1_title": false,
   "title_cell": "Table of Contents",
   "title_sidebar": "Contents",
   "toc_cell": false,
   "toc_position": {},
   "toc_section_display": true,
   "toc_window_display": false
  },
  "toc-autonumbering": true,
  "toc-showcode": false,
  "toc-showmarkdowntxt": false,
  "varInspector": {
   "cols": {
    "lenName": 16,
    "lenType": 16,
    "lenVar": 40
   },
   "kernels_config": {
    "python": {
     "delete_cmd_postfix": "",
     "delete_cmd_prefix": "del ",
     "library": "var_list.py",
     "varRefreshCmd": "print(var_dic_list())"
    },
    "r": {
     "delete_cmd_postfix": ") ",
     "delete_cmd_prefix": "rm(",
     "library": "var_list.r",
     "varRefreshCmd": "cat(var_dic_list()) "
    }
   },
   "types_to_exclude": [
    "module",
    "function",
    "builtin_function_or_method",
    "instance",
    "_Feature"
   ],
   "window_display": false
  }
 },
 "nbformat": 4,
 "nbformat_minor": 4
}
