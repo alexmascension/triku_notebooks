{
 "cells": [
  {
   "cell_type": "markdown",
   "metadata": {},
   "source": [
    "# Set up\n",
    "\n",
    "In this notebook we will prepare the necessary files to run the notebooks.\n",
    "\n",
    "We will set up the directories and download files automatically, if possible, to make this first process less tedious. Unfortunately, there will be some files that will need to be downloaded manually, either because the repository doesn't allow direct download, or because it requires some logging."
   ]
  },
  {
   "cell_type": "code",
   "execution_count": 1,
   "metadata": {},
   "outputs": [],
   "source": [
    "%load_ext autoreload"
   ]
  },
  {
   "cell_type": "code",
   "execution_count": 2,
   "metadata": {},
   "outputs": [],
   "source": [
    "%autoreload 2"
   ]
  },
  {
   "cell_type": "code",
   "execution_count": 3,
   "metadata": {},
   "outputs": [],
   "source": [
    "import gzip\n",
    "import pandas as pd\n",
    "import scanpy as sc"
   ]
  },
  {
   "cell_type": "code",
   "execution_count": 4,
   "metadata": {},
   "outputs": [
    {
     "name": "stdout",
     "output_type": "stream",
     "text": [
      "/home/seth/Programs/miniconda3/lib/python3.8/site-packages/setuptools/dist.py:466: UserWarning: The version specified ('') is an invalid version, this may not work as expected with newer versions of setuptools, pip, and PyPI. Please see PEP 440 for more details.\n",
      "  warnings.warn(\n",
      "running install\n",
      "running bdist_egg\n",
      "running egg_info\n",
      "creating triku_nb_code.egg-info\n",
      "writing triku_nb_code.egg-info/PKG-INFO\n",
      "writing dependency_links to triku_nb_code.egg-info/dependency_links.txt\n",
      "writing top-level names to triku_nb_code.egg-info/top_level.txt\n",
      "writing manifest file 'triku_nb_code.egg-info/SOURCES.txt'\n",
      "reading manifest file 'triku_nb_code.egg-info/SOURCES.txt'\n",
      "reading manifest template 'MANIFEST.in'\n",
      "warning: no previously-included files found matching 'data'\n",
      "warning: no previously-included files found matching 'robustness_figs'\n",
      "warning: no previously-included files found matching 'exports'\n",
      "warning: no previously-included files found matching 'cache'\n",
      "writing manifest file 'triku_nb_code.egg-info/SOURCES.txt'\n",
      "installing library code to build/bdist.linux-x86_64/egg\n",
      "running install_lib\n",
      "running build_py\n",
      "creating build\n",
      "creating build/lib\n",
      "creating build/lib/triku_nb_code\n",
      "copying triku_nb_code/comparing_feat_sel.py -> build/lib/triku_nb_code\n",
      "copying triku_nb_code/file_download_and_generation.py -> build/lib/triku_nb_code\n",
      "copying triku_nb_code/palettes_and_cmaps.py -> build/lib/triku_nb_code\n",
      "copying triku_nb_code/robustness_functions.py -> build/lib/triku_nb_code\n",
      "copying triku_nb_code/__init__.py -> build/lib/triku_nb_code\n",
      "creating build/bdist.linux-x86_64\n",
      "creating build/bdist.linux-x86_64/egg\n",
      "creating build/bdist.linux-x86_64/egg/triku_nb_code\n",
      "copying build/lib/triku_nb_code/comparing_feat_sel.py -> build/bdist.linux-x86_64/egg/triku_nb_code\n",
      "copying build/lib/triku_nb_code/file_download_and_generation.py -> build/bdist.linux-x86_64/egg/triku_nb_code\n",
      "copying build/lib/triku_nb_code/palettes_and_cmaps.py -> build/bdist.linux-x86_64/egg/triku_nb_code\n",
      "copying build/lib/triku_nb_code/robustness_functions.py -> build/bdist.linux-x86_64/egg/triku_nb_code\n",
      "copying build/lib/triku_nb_code/__init__.py -> build/bdist.linux-x86_64/egg/triku_nb_code\n",
      "byte-compiling build/bdist.linux-x86_64/egg/triku_nb_code/comparing_feat_sel.py to comparing_feat_sel.cpython-38.pyc\n",
      "byte-compiling build/bdist.linux-x86_64/egg/triku_nb_code/file_download_and_generation.py to file_download_and_generation.cpython-38.pyc\n",
      "byte-compiling build/bdist.linux-x86_64/egg/triku_nb_code/palettes_and_cmaps.py to palettes_and_cmaps.cpython-38.pyc\n",
      "byte-compiling build/bdist.linux-x86_64/egg/triku_nb_code/robustness_functions.py to robustness_functions.cpython-38.pyc\n",
      "byte-compiling build/bdist.linux-x86_64/egg/triku_nb_code/__init__.py to __init__.cpython-38.pyc\n",
      "creating build/bdist.linux-x86_64/egg/EGG-INFO\n",
      "copying triku_nb_code.egg-info/PKG-INFO -> build/bdist.linux-x86_64/egg/EGG-INFO\n",
      "copying triku_nb_code.egg-info/SOURCES.txt -> build/bdist.linux-x86_64/egg/EGG-INFO\n",
      "copying triku_nb_code.egg-info/dependency_links.txt -> build/bdist.linux-x86_64/egg/EGG-INFO\n",
      "copying triku_nb_code.egg-info/not-zip-safe -> build/bdist.linux-x86_64/egg/EGG-INFO\n",
      "copying triku_nb_code.egg-info/top_level.txt -> build/bdist.linux-x86_64/egg/EGG-INFO\n",
      "creating dist\n",
      "creating 'dist/triku_nb_code-0.0.0-py3.8.egg' and adding 'build/bdist.linux-x86_64/egg' to it\n",
      "removing 'build/bdist.linux-x86_64/egg' (and everything under it)\n",
      "Processing triku_nb_code-0.0.0-py3.8.egg\n",
      "creating /home/seth/Programs/miniconda3/lib/python3.8/site-packages/triku_nb_code-0.0.0-py3.8.egg\n",
      "Extracting triku_nb_code-0.0.0-py3.8.egg to /home/seth/Programs/miniconda3/lib/python3.8/site-packages\n",
      "Adding triku-nb-code 0.0.0 to easy-install.pth file\n",
      "\n",
      "Installed /home/seth/Programs/miniconda3/lib/python3.8/site-packages/triku_nb_code-0.0.0-py3.8.egg\n",
      "Processing dependencies for triku-nb-code==0.0.0\n",
      "Finished processing dependencies for triku-nb-code==0.0.0\n"
     ]
    }
   ],
   "source": [
    "!python setup.py install"
   ]
  },
  {
   "cell_type": "code",
   "execution_count": 5,
   "metadata": {},
   "outputs": [],
   "source": [
    "import sys, os\n",
    "sys.path.insert(0, os.getcwd() + '/code')\n",
    "\n",
    "# Selection of palettes for cluster coloring, and scatter values\n",
    "from triku_nb_code.file_download_and_generation import process_ding, process_mereu"
   ]
  },
  {
   "cell_type": "markdown",
   "metadata": {},
   "source": [
    "## Installing R stuff for notebook"
   ]
  },
  {
   "cell_type": "code",
   "execution_count": 6,
   "metadata": {},
   "outputs": [],
   "source": [
    "import rpy2.rinterface_lib.callbacks\n",
    "\n",
    "%load_ext rpy2.ipython"
   ]
  },
  {
   "cell_type": "code",
   "execution_count": 8,
   "metadata": {
    "scrolled": true
   },
   "outputs": [
    {
     "name": "stderr",
     "output_type": "stream",
     "text": [
      "R[write to console]: 'getOption(\"repos\")' replaces Bioconductor standard repositories, see\n",
      "'?repositories' for details\n",
      "\n",
      "replacement repositories:\n",
      "    CRAN: https://cran.rediris.es\n",
      "\n",
      "\n",
      "R[write to console]: Bioconductor version 3.12 (BiocManager 1.30.12), R 4.0.3 (2020-10-10)\n",
      "\n",
      "R[write to console]: Installing package(s) 'splatter'\n",
      "\n",
      "R[write to console]: trying URL 'https://bioconductor.org/packages/3.12/bioc/src/contrib/splatter_1.14.1.tar.gz'\n",
      "\n",
      "R[write to console]: Content type 'application/x-gzip'\n",
      "R[write to console]:  length 6785343 bytes (6.5 MB)\n",
      "\n",
      "R[write to console]: =\n",
      "R[write to console]: =\n",
      "R[write to console]: =\n",
      "R[write to console]: =\n",
      "R[write to console]: =\n",
      "R[write to console]: =\n",
      "R[write to console]: =\n",
      "R[write to console]: =\n",
      "R[write to console]: =\n",
      "R[write to console]: =\n",
      "R[write to console]: =\n",
      "R[write to console]: =\n",
      "R[write to console]: =\n",
      "R[write to console]: =\n",
      "R[write to console]: =\n",
      "R[write to console]: =\n",
      "R[write to console]: =\n",
      "R[write to console]: =\n",
      "R[write to console]: =\n",
      "R[write to console]: =\n",
      "R[write to console]: =\n",
      "R[write to console]: =\n",
      "R[write to console]: =\n",
      "R[write to console]: =\n",
      "R[write to console]: =\n",
      "R[write to console]: =\n",
      "R[write to console]: =\n",
      "R[write to console]: =\n",
      "R[write to console]: =\n",
      "R[write to console]: =\n",
      "R[write to console]: =\n",
      "R[write to console]: =\n",
      "R[write to console]: =\n",
      "R[write to console]: =\n",
      "R[write to console]: =\n",
      "R[write to console]: =\n",
      "R[write to console]: =\n",
      "R[write to console]: =\n",
      "R[write to console]: =\n",
      "R[write to console]: =\n",
      "R[write to console]: =\n",
      "R[write to console]: =\n",
      "R[write to console]: =\n",
      "R[write to console]: =\n",
      "R[write to console]: =\n",
      "R[write to console]: =\n",
      "R[write to console]: =\n",
      "R[write to console]: =\n",
      "R[write to console]: =\n",
      "R[write to console]: =\n",
      "R[write to console]: \n",
      "\n",
      "R[write to console]: downloaded 6.5 MB\n",
      "\n",
      "\n",
      "R[write to console]: \n",
      "\n",
      "R[write to console]: \n",
      "R[write to console]: The downloaded source packages are in\n",
      "\t‘/tmp/RtmpmIsF87/downloaded_packages’\n",
      "R[write to console]: \n",
      "R[write to console]: \n",
      "\n",
      "R[write to console]: Updating HTML index of packages in '.Library'\n",
      "\n",
      "R[write to console]: Making 'packages.html' ...\n",
      "R[write to console]:  done\n",
      "\n",
      "R[write to console]: Old packages: 'cluster', 'diffobj', 'knitr', 'mgcv', 'xfun'\n",
      "\n"
     ]
    },
    {
     "name": "stdout",
     "output_type": "stream",
     "text": [
      "Update all/some/none? [a/s/n]: "
     ]
    },
    {
     "name": "stderr",
     "output_type": "stream",
     "text": [
      "From cffi callback <function _consoleread at 0x7fa686168160>:\n",
      "Traceback (most recent call last):\n",
      "  File \"/home/seth/Programs/miniconda3/envs/triku-notebooks/lib/python3.8/site-packages/rpy2/rinterface_lib/callbacks.py\", line 66, in _consoleread\n",
      "    reply = consoleread(s)\n",
      "  File \"/home/seth/Programs/miniconda3/envs/triku-notebooks/lib/python3.8/site-packages/rpy2/rinterface_lib/callbacks.py\", line 52, in consoleread\n",
      "    return input(prompt)\n",
      "  File \"/home/seth/Programs/miniconda3/envs/triku-notebooks/lib/python3.8/site-packages/ipykernel/kernelbase.py\", line 848, in raw_input\n",
      "    return self._input_request(str(prompt),\n",
      "  File \"/home/seth/Programs/miniconda3/envs/triku-notebooks/lib/python3.8/site-packages/ipykernel/kernelbase.py\", line 892, in _input_request\n",
      "    raise KeyboardInterrupt(\"Interrupted by user\") from None\n",
      "KeyboardInterrupt: Interrupted by user\n",
      "R[write to console]: Error in if (answer %in% allowed) break : argument is of length zero\n",
      "\n"
     ]
    },
    {
     "name": "stdout",
     "output_type": "stream",
     "text": [
      "\n",
      "Error in if (answer %in% allowed) break : argument is of length zero\n"
     ]
    },
    {
     "ename": "RInterpreterError",
     "evalue": "Failed to parse and evaluate line 'if (!requireNamespace(\"BiocManager\", quietly = TRUE))\\n    install.packages(\"BiocManager\")\\n\\nBiocManager::install(\"splatter\")\\nBiocManager::install(\"M3Drop\")\\nBiocManager::install(\"scry\")\\n        \\ninstall.packages(\\'Seurat\\')\\n'.\nR error message: 'Error in if (answer %in% allowed) break : argument is of length zero'",
     "output_type": "error",
     "traceback": [
      "\u001b[0;31m---------------------------------------------------------------------------\u001b[0m",
      "\u001b[0;31mRRuntimeError\u001b[0m                             Traceback (most recent call last)",
      "\u001b[0;32m~/Programs/miniconda3/envs/triku-notebooks/lib/python3.8/site-packages/rpy2/ipython/rmagic.py\u001b[0m in \u001b[0;36meval\u001b[0;34m(self, code)\u001b[0m\n\u001b[1;32m    267\u001b[0m                 \u001b[0;31m# Need the newline in case the last line in code is a comment.\u001b[0m\u001b[0;34m\u001b[0m\u001b[0;34m\u001b[0m\u001b[0;34m\u001b[0m\u001b[0m\n\u001b[0;32m--> 268\u001b[0;31m                 \u001b[0mvalue\u001b[0m\u001b[0;34m,\u001b[0m \u001b[0mvisible\u001b[0m \u001b[0;34m=\u001b[0m \u001b[0mro\u001b[0m\u001b[0;34m.\u001b[0m\u001b[0mr\u001b[0m\u001b[0;34m(\u001b[0m\u001b[0;34m\"withVisible({%s\\n})\"\u001b[0m \u001b[0;34m%\u001b[0m \u001b[0mcode\u001b[0m\u001b[0;34m)\u001b[0m\u001b[0;34m\u001b[0m\u001b[0;34m\u001b[0m\u001b[0m\n\u001b[0m\u001b[1;32m    269\u001b[0m             \u001b[0;32mexcept\u001b[0m \u001b[0;34m(\u001b[0m\u001b[0mri\u001b[0m\u001b[0;34m.\u001b[0m\u001b[0membedded\u001b[0m\u001b[0;34m.\u001b[0m\u001b[0mRRuntimeError\u001b[0m\u001b[0;34m,\u001b[0m \u001b[0mValueError\u001b[0m\u001b[0;34m)\u001b[0m \u001b[0;32mas\u001b[0m \u001b[0mexception\u001b[0m\u001b[0;34m:\u001b[0m\u001b[0;34m\u001b[0m\u001b[0;34m\u001b[0m\u001b[0m\n",
      "\u001b[0;32m~/Programs/miniconda3/envs/triku-notebooks/lib/python3.8/site-packages/rpy2/robjects/__init__.py\u001b[0m in \u001b[0;36m__call__\u001b[0;34m(self, string)\u001b[0m\n\u001b[1;32m    437\u001b[0m         \u001b[0mp\u001b[0m \u001b[0;34m=\u001b[0m \u001b[0mrinterface\u001b[0m\u001b[0;34m.\u001b[0m\u001b[0mparse\u001b[0m\u001b[0;34m(\u001b[0m\u001b[0mstring\u001b[0m\u001b[0;34m)\u001b[0m\u001b[0;34m\u001b[0m\u001b[0;34m\u001b[0m\u001b[0m\n\u001b[0;32m--> 438\u001b[0;31m         \u001b[0mres\u001b[0m \u001b[0;34m=\u001b[0m \u001b[0mself\u001b[0m\u001b[0;34m.\u001b[0m\u001b[0meval\u001b[0m\u001b[0;34m(\u001b[0m\u001b[0mp\u001b[0m\u001b[0;34m)\u001b[0m\u001b[0;34m\u001b[0m\u001b[0;34m\u001b[0m\u001b[0m\n\u001b[0m\u001b[1;32m    439\u001b[0m         \u001b[0;32mreturn\u001b[0m \u001b[0mconversion\u001b[0m\u001b[0;34m.\u001b[0m\u001b[0mrpy2py\u001b[0m\u001b[0;34m(\u001b[0m\u001b[0mres\u001b[0m\u001b[0;34m)\u001b[0m\u001b[0;34m\u001b[0m\u001b[0;34m\u001b[0m\u001b[0m\n",
      "\u001b[0;32m~/Programs/miniconda3/envs/triku-notebooks/lib/python3.8/site-packages/rpy2/robjects/functions.py\u001b[0m in \u001b[0;36m__call__\u001b[0;34m(self, *args, **kwargs)\u001b[0m\n\u001b[1;32m    197\u001b[0m                 \u001b[0mkwargs\u001b[0m\u001b[0;34m[\u001b[0m\u001b[0mr_k\u001b[0m\u001b[0;34m]\u001b[0m \u001b[0;34m=\u001b[0m \u001b[0mv\u001b[0m\u001b[0;34m\u001b[0m\u001b[0;34m\u001b[0m\u001b[0m\n\u001b[0;32m--> 198\u001b[0;31m         return (super(SignatureTranslatedFunction, self)\n\u001b[0m\u001b[1;32m    199\u001b[0m                 .__call__(*args, **kwargs))\n",
      "\u001b[0;32m~/Programs/miniconda3/envs/triku-notebooks/lib/python3.8/site-packages/rpy2/robjects/functions.py\u001b[0m in \u001b[0;36m__call__\u001b[0;34m(self, *args, **kwargs)\u001b[0m\n\u001b[1;32m    124\u001b[0m                 \u001b[0mnew_kwargs\u001b[0m\u001b[0;34m[\u001b[0m\u001b[0mk\u001b[0m\u001b[0;34m]\u001b[0m \u001b[0;34m=\u001b[0m \u001b[0mconversion\u001b[0m\u001b[0;34m.\u001b[0m\u001b[0mpy2rpy\u001b[0m\u001b[0;34m(\u001b[0m\u001b[0mv\u001b[0m\u001b[0;34m)\u001b[0m\u001b[0;34m\u001b[0m\u001b[0;34m\u001b[0m\u001b[0m\n\u001b[0;32m--> 125\u001b[0;31m         \u001b[0mres\u001b[0m \u001b[0;34m=\u001b[0m \u001b[0msuper\u001b[0m\u001b[0;34m(\u001b[0m\u001b[0mFunction\u001b[0m\u001b[0;34m,\u001b[0m \u001b[0mself\u001b[0m\u001b[0;34m)\u001b[0m\u001b[0;34m.\u001b[0m\u001b[0m__call__\u001b[0m\u001b[0;34m(\u001b[0m\u001b[0;34m*\u001b[0m\u001b[0mnew_args\u001b[0m\u001b[0;34m,\u001b[0m \u001b[0;34m**\u001b[0m\u001b[0mnew_kwargs\u001b[0m\u001b[0;34m)\u001b[0m\u001b[0;34m\u001b[0m\u001b[0;34m\u001b[0m\u001b[0m\n\u001b[0m\u001b[1;32m    126\u001b[0m         \u001b[0mres\u001b[0m \u001b[0;34m=\u001b[0m \u001b[0mconversion\u001b[0m\u001b[0;34m.\u001b[0m\u001b[0mrpy2py\u001b[0m\u001b[0;34m(\u001b[0m\u001b[0mres\u001b[0m\u001b[0;34m)\u001b[0m\u001b[0;34m\u001b[0m\u001b[0;34m\u001b[0m\u001b[0m\n",
      "\u001b[0;32m~/Programs/miniconda3/envs/triku-notebooks/lib/python3.8/site-packages/rpy2/rinterface_lib/conversion.py\u001b[0m in \u001b[0;36m_\u001b[0;34m(*args, **kwargs)\u001b[0m\n\u001b[1;32m     44\u001b[0m     \u001b[0;32mdef\u001b[0m \u001b[0m_\u001b[0m\u001b[0;34m(\u001b[0m\u001b[0;34m*\u001b[0m\u001b[0margs\u001b[0m\u001b[0;34m,\u001b[0m \u001b[0;34m**\u001b[0m\u001b[0mkwargs\u001b[0m\u001b[0;34m)\u001b[0m\u001b[0;34m:\u001b[0m\u001b[0;34m\u001b[0m\u001b[0;34m\u001b[0m\u001b[0m\n\u001b[0;32m---> 45\u001b[0;31m         \u001b[0mcdata\u001b[0m \u001b[0;34m=\u001b[0m \u001b[0mfunction\u001b[0m\u001b[0;34m(\u001b[0m\u001b[0;34m*\u001b[0m\u001b[0margs\u001b[0m\u001b[0;34m,\u001b[0m \u001b[0;34m**\u001b[0m\u001b[0mkwargs\u001b[0m\u001b[0;34m)\u001b[0m\u001b[0;34m\u001b[0m\u001b[0;34m\u001b[0m\u001b[0m\n\u001b[0m\u001b[1;32m     46\u001b[0m         \u001b[0;31m# TODO: test cdata is of the expected CType\u001b[0m\u001b[0;34m\u001b[0m\u001b[0;34m\u001b[0m\u001b[0;34m\u001b[0m\u001b[0m\n",
      "\u001b[0;32m~/Programs/miniconda3/envs/triku-notebooks/lib/python3.8/site-packages/rpy2/rinterface.py\u001b[0m in \u001b[0;36m__call__\u001b[0;34m(self, *args, **kwargs)\u001b[0m\n\u001b[1;32m    679\u001b[0m             \u001b[0;32mif\u001b[0m \u001b[0merror_occured\u001b[0m\u001b[0;34m[\u001b[0m\u001b[0;36m0\u001b[0m\u001b[0;34m]\u001b[0m\u001b[0;34m:\u001b[0m\u001b[0;34m\u001b[0m\u001b[0;34m\u001b[0m\u001b[0m\n\u001b[0;32m--> 680\u001b[0;31m                 \u001b[0;32mraise\u001b[0m \u001b[0membedded\u001b[0m\u001b[0;34m.\u001b[0m\u001b[0mRRuntimeError\u001b[0m\u001b[0;34m(\u001b[0m\u001b[0m_rinterface\u001b[0m\u001b[0;34m.\u001b[0m\u001b[0m_geterrmessage\u001b[0m\u001b[0;34m(\u001b[0m\u001b[0;34m)\u001b[0m\u001b[0;34m)\u001b[0m\u001b[0;34m\u001b[0m\u001b[0;34m\u001b[0m\u001b[0m\n\u001b[0m\u001b[1;32m    681\u001b[0m         \u001b[0;32mreturn\u001b[0m \u001b[0mres\u001b[0m\u001b[0;34m\u001b[0m\u001b[0;34m\u001b[0m\u001b[0m\n",
      "\u001b[0;31mRRuntimeError\u001b[0m: Error in if (answer %in% allowed) break : argument is of length zero\n",
      "\nDuring handling of the above exception, another exception occurred:\n",
      "\u001b[0;31mRInterpreterError\u001b[0m                         Traceback (most recent call last)",
      "\u001b[0;32m<ipython-input-8-9f1b4b43a453>\u001b[0m in \u001b[0;36m<module>\u001b[0;34m\u001b[0m\n\u001b[0;32m----> 1\u001b[0;31m \u001b[0mget_ipython\u001b[0m\u001b[0;34m(\u001b[0m\u001b[0;34m)\u001b[0m\u001b[0;34m.\u001b[0m\u001b[0mrun_cell_magic\u001b[0m\u001b[0;34m(\u001b[0m\u001b[0;34m'R'\u001b[0m\u001b[0;34m,\u001b[0m \u001b[0;34m''\u001b[0m\u001b[0;34m,\u001b[0m \u001b[0;34m'if (!requireNamespace(\"BiocManager\", quietly = TRUE))\\n    install.packages(\"BiocManager\")\\n\\nBiocManager::install(\"splatter\")\\nBiocManager::install(\"M3Drop\")\\nBiocManager::install(\"scry\")\\n        \\ninstall.packages(\\'Seurat\\')\\n'\u001b[0m\u001b[0;34m)\u001b[0m\u001b[0;34m\u001b[0m\u001b[0;34m\u001b[0m\u001b[0m\n\u001b[0m",
      "\u001b[0;32m~/Programs/miniconda3/envs/triku-notebooks/lib/python3.8/site-packages/IPython/core/interactiveshell.py\u001b[0m in \u001b[0;36mrun_cell_magic\u001b[0;34m(self, magic_name, line, cell)\u001b[0m\n\u001b[1;32m   2397\u001b[0m             \u001b[0;32mwith\u001b[0m \u001b[0mself\u001b[0m\u001b[0;34m.\u001b[0m\u001b[0mbuiltin_trap\u001b[0m\u001b[0;34m:\u001b[0m\u001b[0;34m\u001b[0m\u001b[0;34m\u001b[0m\u001b[0m\n\u001b[1;32m   2398\u001b[0m                 \u001b[0margs\u001b[0m \u001b[0;34m=\u001b[0m \u001b[0;34m(\u001b[0m\u001b[0mmagic_arg_s\u001b[0m\u001b[0;34m,\u001b[0m \u001b[0mcell\u001b[0m\u001b[0;34m)\u001b[0m\u001b[0;34m\u001b[0m\u001b[0;34m\u001b[0m\u001b[0m\n\u001b[0;32m-> 2399\u001b[0;31m                 \u001b[0mresult\u001b[0m \u001b[0;34m=\u001b[0m \u001b[0mfn\u001b[0m\u001b[0;34m(\u001b[0m\u001b[0;34m*\u001b[0m\u001b[0margs\u001b[0m\u001b[0;34m,\u001b[0m \u001b[0;34m**\u001b[0m\u001b[0mkwargs\u001b[0m\u001b[0;34m)\u001b[0m\u001b[0;34m\u001b[0m\u001b[0;34m\u001b[0m\u001b[0m\n\u001b[0m\u001b[1;32m   2400\u001b[0m             \u001b[0;32mreturn\u001b[0m \u001b[0mresult\u001b[0m\u001b[0;34m\u001b[0m\u001b[0;34m\u001b[0m\u001b[0m\n\u001b[1;32m   2401\u001b[0m \u001b[0;34m\u001b[0m\u001b[0m\n",
      "\u001b[0;32m<decorator-gen-153>\u001b[0m in \u001b[0;36mR\u001b[0;34m(self, line, cell, local_ns)\u001b[0m\n",
      "\u001b[0;32m~/Programs/miniconda3/envs/triku-notebooks/lib/python3.8/site-packages/IPython/core/magic.py\u001b[0m in \u001b[0;36m<lambda>\u001b[0;34m(f, *a, **k)\u001b[0m\n\u001b[1;32m    185\u001b[0m     \u001b[0;31m# but it's overkill for just that one bit of state.\u001b[0m\u001b[0;34m\u001b[0m\u001b[0;34m\u001b[0m\u001b[0;34m\u001b[0m\u001b[0m\n\u001b[1;32m    186\u001b[0m     \u001b[0;32mdef\u001b[0m \u001b[0mmagic_deco\u001b[0m\u001b[0;34m(\u001b[0m\u001b[0marg\u001b[0m\u001b[0;34m)\u001b[0m\u001b[0;34m:\u001b[0m\u001b[0;34m\u001b[0m\u001b[0;34m\u001b[0m\u001b[0m\n\u001b[0;32m--> 187\u001b[0;31m         \u001b[0mcall\u001b[0m \u001b[0;34m=\u001b[0m \u001b[0;32mlambda\u001b[0m \u001b[0mf\u001b[0m\u001b[0;34m,\u001b[0m \u001b[0;34m*\u001b[0m\u001b[0ma\u001b[0m\u001b[0;34m,\u001b[0m \u001b[0;34m**\u001b[0m\u001b[0mk\u001b[0m\u001b[0;34m:\u001b[0m \u001b[0mf\u001b[0m\u001b[0;34m(\u001b[0m\u001b[0;34m*\u001b[0m\u001b[0ma\u001b[0m\u001b[0;34m,\u001b[0m \u001b[0;34m**\u001b[0m\u001b[0mk\u001b[0m\u001b[0;34m)\u001b[0m\u001b[0;34m\u001b[0m\u001b[0;34m\u001b[0m\u001b[0m\n\u001b[0m\u001b[1;32m    188\u001b[0m \u001b[0;34m\u001b[0m\u001b[0m\n\u001b[1;32m    189\u001b[0m         \u001b[0;32mif\u001b[0m \u001b[0mcallable\u001b[0m\u001b[0;34m(\u001b[0m\u001b[0marg\u001b[0m\u001b[0;34m)\u001b[0m\u001b[0;34m:\u001b[0m\u001b[0;34m\u001b[0m\u001b[0;34m\u001b[0m\u001b[0m\n",
      "\u001b[0;32m~/Programs/miniconda3/envs/triku-notebooks/lib/python3.8/site-packages/rpy2/ipython/rmagic.py\u001b[0m in \u001b[0;36mR\u001b[0;34m(self, line, cell, local_ns)\u001b[0m\n\u001b[1;32m    781\u001b[0m             \u001b[0;32mif\u001b[0m \u001b[0;32mnot\u001b[0m \u001b[0me\u001b[0m\u001b[0;34m.\u001b[0m\u001b[0mstdout\u001b[0m\u001b[0;34m.\u001b[0m\u001b[0mendswith\u001b[0m\u001b[0;34m(\u001b[0m\u001b[0me\u001b[0m\u001b[0;34m.\u001b[0m\u001b[0merr\u001b[0m\u001b[0;34m)\u001b[0m\u001b[0;34m:\u001b[0m\u001b[0;34m\u001b[0m\u001b[0;34m\u001b[0m\u001b[0m\n\u001b[1;32m    782\u001b[0m                 \u001b[0mprint\u001b[0m\u001b[0;34m(\u001b[0m\u001b[0me\u001b[0m\u001b[0;34m.\u001b[0m\u001b[0merr\u001b[0m\u001b[0;34m)\u001b[0m\u001b[0;34m\u001b[0m\u001b[0;34m\u001b[0m\u001b[0m\n\u001b[0;32m--> 783\u001b[0;31m             \u001b[0;32mraise\u001b[0m \u001b[0me\u001b[0m\u001b[0;34m\u001b[0m\u001b[0;34m\u001b[0m\u001b[0m\n\u001b[0m\u001b[1;32m    784\u001b[0m         \u001b[0;32mfinally\u001b[0m\u001b[0;34m:\u001b[0m\u001b[0;34m\u001b[0m\u001b[0;34m\u001b[0m\u001b[0m\n\u001b[1;32m    785\u001b[0m             \u001b[0;32mif\u001b[0m \u001b[0mself\u001b[0m\u001b[0;34m.\u001b[0m\u001b[0mdevice\u001b[0m \u001b[0;32min\u001b[0m \u001b[0;34m[\u001b[0m\u001b[0;34m'png'\u001b[0m\u001b[0;34m,\u001b[0m \u001b[0;34m'svg'\u001b[0m\u001b[0;34m]\u001b[0m\u001b[0;34m:\u001b[0m\u001b[0;34m\u001b[0m\u001b[0;34m\u001b[0m\u001b[0m\n",
      "\u001b[0;32m~/Programs/miniconda3/envs/triku-notebooks/lib/python3.8/site-packages/rpy2/ipython/rmagic.py\u001b[0m in \u001b[0;36mR\u001b[0;34m(self, line, cell, local_ns)\u001b[0m\n\u001b[1;32m    761\u001b[0m                     \u001b[0mreturn_output\u001b[0m \u001b[0;34m=\u001b[0m \u001b[0;32mFalse\u001b[0m\u001b[0;34m\u001b[0m\u001b[0;34m\u001b[0m\u001b[0m\n\u001b[1;32m    762\u001b[0m             \u001b[0;32melse\u001b[0m\u001b[0;34m:\u001b[0m\u001b[0;34m\u001b[0m\u001b[0;34m\u001b[0m\u001b[0m\n\u001b[0;32m--> 763\u001b[0;31m                 \u001b[0mtext_result\u001b[0m\u001b[0;34m,\u001b[0m \u001b[0mresult\u001b[0m\u001b[0;34m,\u001b[0m \u001b[0mvisible\u001b[0m \u001b[0;34m=\u001b[0m \u001b[0mself\u001b[0m\u001b[0;34m.\u001b[0m\u001b[0meval\u001b[0m\u001b[0;34m(\u001b[0m\u001b[0mcode\u001b[0m\u001b[0;34m)\u001b[0m\u001b[0;34m\u001b[0m\u001b[0;34m\u001b[0m\u001b[0m\n\u001b[0m\u001b[1;32m    764\u001b[0m                 \u001b[0mtext_output\u001b[0m \u001b[0;34m+=\u001b[0m \u001b[0mtext_result\u001b[0m\u001b[0;34m\u001b[0m\u001b[0;34m\u001b[0m\u001b[0m\n\u001b[1;32m    765\u001b[0m                 \u001b[0;32mif\u001b[0m \u001b[0mvisible\u001b[0m\u001b[0;34m:\u001b[0m\u001b[0;34m\u001b[0m\u001b[0;34m\u001b[0m\u001b[0m\n",
      "\u001b[0;32m~/Programs/miniconda3/envs/triku-notebooks/lib/python3.8/site-packages/rpy2/ipython/rmagic.py\u001b[0m in \u001b[0;36meval\u001b[0;34m(self, code)\u001b[0m\n\u001b[1;32m    270\u001b[0m                 \u001b[0;31m# Otherwise next return seems to have copy of error.\u001b[0m\u001b[0;34m\u001b[0m\u001b[0;34m\u001b[0m\u001b[0;34m\u001b[0m\u001b[0m\n\u001b[1;32m    271\u001b[0m                 \u001b[0mwarning_or_other_msg\u001b[0m \u001b[0;34m=\u001b[0m \u001b[0mself\u001b[0m\u001b[0;34m.\u001b[0m\u001b[0mflush\u001b[0m\u001b[0;34m(\u001b[0m\u001b[0;34m)\u001b[0m\u001b[0;34m\u001b[0m\u001b[0;34m\u001b[0m\u001b[0m\n\u001b[0;32m--> 272\u001b[0;31m                 raise RInterpreterError(code, str(exception),\n\u001b[0m\u001b[1;32m    273\u001b[0m                                         warning_or_other_msg)\n\u001b[1;32m    274\u001b[0m             \u001b[0mtext_output\u001b[0m \u001b[0;34m=\u001b[0m \u001b[0mself\u001b[0m\u001b[0;34m.\u001b[0m\u001b[0mflush\u001b[0m\u001b[0;34m(\u001b[0m\u001b[0;34m)\u001b[0m\u001b[0;34m\u001b[0m\u001b[0;34m\u001b[0m\u001b[0m\n",
      "\u001b[0;31mRInterpreterError\u001b[0m: Failed to parse and evaluate line 'if (!requireNamespace(\"BiocManager\", quietly = TRUE))\\n    install.packages(\"BiocManager\")\\n\\nBiocManager::install(\"splatter\")\\nBiocManager::install(\"M3Drop\")\\nBiocManager::install(\"scry\")\\n        \\ninstall.packages(\\'Seurat\\')\\n'.\nR error message: 'Error in if (answer %in% allowed) break : argument is of length zero'"
     ]
    }
   ],
   "source": [
    "%%R \n",
    "if (!requireNamespace(\"BiocManager\", quietly = TRUE))\n",
    "    install.packages(\"BiocManager\")\n",
    "\n",
    "BiocManager::install(\"splatter\")\n",
    "BiocManager::install(\"M3Drop\")\n",
    "BiocManager::install(\"scry\")\n",
    "        \n",
    "install.packages('Seurat')"
   ]
  },
  {
   "cell_type": "code",
   "execution_count": 9,
   "metadata": {
    "scrolled": true,
    "tags": []
   },
   "outputs": [
    {
     "name": "stderr",
     "output_type": "stream",
     "text": [
      "R[write to console]: Loading required package: SingleCellExperiment\n",
      "\n",
      "R[write to console]: Loading required package: SummarizedExperiment\n",
      "\n",
      "R[write to console]: Loading required package: MatrixGenerics\n",
      "\n",
      "R[write to console]: Loading required package: matrixStats\n",
      "\n",
      "R[write to console]: \n",
      "Attaching package: ‘MatrixGenerics’\n",
      "\n",
      "\n",
      "R[write to console]: The following objects are masked from ‘package:matrixStats’:\n",
      "\n",
      "    colAlls, colAnyNAs, colAnys, colAvgsPerRowSet, colCollapse,\n",
      "    colCounts, colCummaxs, colCummins, colCumprods, colCumsums,\n",
      "    colDiffs, colIQRDiffs, colIQRs, colLogSumExps, colMadDiffs,\n",
      "    colMads, colMaxs, colMeans2, colMedians, colMins, colOrderStats,\n",
      "    colProds, colQuantiles, colRanges, colRanks, colSdDiffs, colSds,\n",
      "    colSums2, colTabulates, colVarDiffs, colVars, colWeightedMads,\n",
      "    colWeightedMeans, colWeightedMedians, colWeightedSds,\n",
      "    colWeightedVars, rowAlls, rowAnyNAs, rowAnys, rowAvgsPerColSet,\n",
      "    rowCollapse, rowCounts, rowCummaxs, rowCummins, rowCumprods,\n",
      "    rowCumsums, rowDiffs, rowIQRDiffs, rowIQRs, rowLogSumExps,\n",
      "    rowMadDiffs, rowMads, rowMaxs, rowMeans2, rowMedians, rowMins,\n",
      "    rowOrderStats, rowProds, rowQuantiles, rowRanges, rowRanks,\n",
      "    rowSdDiffs, rowSds, rowSums2, rowTabulates, rowVarDiffs, rowVars,\n",
      "    rowWeightedMads, rowWeightedMeans, rowWeightedMedians,\n",
      "    rowWeightedSds, rowWeightedVars\n",
      "\n",
      "\n",
      "R[write to console]: Loading required package: GenomicRanges\n",
      "\n",
      "R[write to console]: Loading required package: stats4\n",
      "\n",
      "R[write to console]: Loading required package: BiocGenerics\n",
      "\n",
      "R[write to console]: Loading required package: parallel\n",
      "\n",
      "R[write to console]: \n",
      "Attaching package: ‘BiocGenerics’\n",
      "\n",
      "\n",
      "R[write to console]: The following objects are masked from ‘package:parallel’:\n",
      "\n",
      "    clusterApply, clusterApplyLB, clusterCall, clusterEvalQ,\n",
      "    clusterExport, clusterMap, parApply, parCapply, parLapply,\n",
      "    parLapplyLB, parRapply, parSapply, parSapplyLB\n",
      "\n",
      "\n",
      "R[write to console]: The following objects are masked from ‘package:stats’:\n",
      "\n",
      "    IQR, mad, sd, var, xtabs\n",
      "\n",
      "\n",
      "R[write to console]: The following objects are masked from ‘package:base’:\n",
      "\n",
      "    anyDuplicated, append, as.data.frame, basename, cbind, colnames,\n",
      "    dirname, do.call, duplicated, eval, evalq, Filter, Find, get, grep,\n",
      "    grepl, intersect, is.unsorted, lapply, Map, mapply, match, mget,\n",
      "    order, paste, pmax, pmax.int, pmin, pmin.int, Position, rank,\n",
      "    rbind, Reduce, rownames, sapply, setdiff, sort, table, tapply,\n",
      "    union, unique, unsplit, which.max, which.min\n",
      "\n",
      "\n",
      "R[write to console]: Loading required package: S4Vectors\n",
      "\n",
      "R[write to console]: \n",
      "Attaching package: ‘S4Vectors’\n",
      "\n",
      "\n",
      "R[write to console]: The following object is masked from ‘package:base’:\n",
      "\n",
      "    expand.grid\n",
      "\n",
      "\n",
      "R[write to console]: Loading required package: IRanges\n",
      "\n",
      "R[write to console]: Loading required package: GenomeInfoDb\n",
      "\n",
      "R[write to console]: Loading required package: Biobase\n",
      "\n",
      "R[write to console]: Welcome to Bioconductor\n",
      "\n",
      "    Vignettes contain introductory material; view with\n",
      "    'browseVignettes()'. To cite Bioconductor, see\n",
      "    'citation(\"Biobase\")', and for packages 'citation(\"pkgname\")'.\n",
      "\n",
      "\n",
      "R[write to console]: \n",
      "Attaching package: ‘Biobase’\n",
      "\n",
      "\n",
      "R[write to console]: The following object is masked from ‘package:MatrixGenerics’:\n",
      "\n",
      "    rowMedians\n",
      "\n",
      "\n",
      "R[write to console]: The following objects are masked from ‘package:matrixStats’:\n",
      "\n",
      "    anyMissing, rowMedians\n",
      "\n",
      "\n"
     ]
    }
   ],
   "source": [
    "%%R \n",
    "\n",
    "library(\"splatter\")"
   ]
  },
  {
   "cell_type": "code",
   "execution_count": 18,
   "metadata": {},
   "outputs": [],
   "source": [
    "root_dir = os.getcwd()"
   ]
  },
  {
   "cell_type": "markdown",
   "metadata": {},
   "source": [
    "## Downloading the data\n",
    "\n",
    "The data in this notebook is fundamental. We will download several datasets to do the benchamarkings, and we will also process them.\n",
    "\n",
    "Currently, if you have downloaded triku repo files directly, the file structure should be as follows:\n",
    "```\n",
    "triku\\\n",
    "    cli\\\n",
    "    pp\\\n",
    "    ...\n",
    "notebooks\\\n",
    "    code\\\n",
    "    *.ipynb files\n",
    "LICENSE\n",
    "MANIFEST.in\n",
    "README.md\n",
    "requirements.txt\n",
    "setup.py\n",
    "```\n",
    "\n",
    "After this part we will add a `data` folder, with some datasets.\n",
    "That is, at the end of the section you should have a structure like this:\n",
    "\n",
    "```\n",
    "data\\\n",
    "triku\\\n",
    "notebooks\\\n",
    "LICENSE\n",
    "...\n",
    "```\n"
   ]
  },
  {
   "cell_type": "markdown",
   "metadata": {},
   "source": [
    "### Downloading Mereu et al. 2020 dataset\n",
    "This is a great benchmarking dataset with human PBMCs and mouse colon cells, with several library preparation methods. We will download some of them, mainly the mose used ones (Chromium, SMARTseq-2, CELseq, InDrops, etc.).\n",
    "\n",
    "We will also include cell type information for each dataset, so that we can use it later to do comparisons with other methods.\n",
    "\n",
    "\n",
    "The final structure of the folder should be:\n",
    "```\n",
    "data\\\n",
    "    Mereu_2020\\\n",
    "        tsv\\\n",
    "        cell_types\\\n",
    "```\n",
    "\n",
    "* `tsv` should have the original .tsv files from GEO reposititory.\n",
    "* `cell_types` should have two dataframes, one for human and one for mouse. This dataframes have the cell types depicted in the publication.\n",
    "   The cell types have been obtained from [here](https://www.dropbox.com/s/i8mwmyymchx8mn8/sce.all_classified.technologies.RData?dl=0). For simplicity, they have been extracted from the adata, and added into the folder.\n",
    "* `Mereu_2020` should have several adatas, for each tecnique and organism, with read counts and the observed cell types."
   ]
  },
  {
   "cell_type": "code",
   "execution_count": 23,
   "metadata": {},
   "outputs": [],
   "source": [
    "mereu_dir = root_dir + '/data/Mereu_2020/'\n",
    "os.makedirs(mereu_dir + 'tsv', exist_ok=True)\n",
    "os.makedirs(mereu_dir + 'cell_types', exist_ok=True)"
   ]
  },
  {
   "cell_type": "code",
   "execution_count": 24,
   "metadata": {
    "scrolled": true
   },
   "outputs": [
    {
     "name": "stdout",
     "output_type": "stream",
     "text": [
      "\n",
      "04/23 16:15:13 [\u001b[1;32mNOTICE\u001b[0m] Downloading 1 item(s)\n",
      "\n",
      "04/23 16:15:14 [\u001b[1;32mNOTICE\u001b[0m] Allocating disk space. Use --file-allocation=none to disable it. See --file-allocation option in man page for more details.\n",
      "\u001b[35m[\u001b[0m#8f4df5 9.0MiB/9.6MiB\u001b[36m(93%)\u001b[0m CN:1 DL:\u001b[32m3.9MiB\u001b[0m\u001b[35m]\u001b[0m\u001b[0m\n",
      "04/23 16:15:17 [\u001b[1;32mNOTICE\u001b[0m] Download complete: /media/seth/SETH_DATA/SETH_Alex/triku_notebooks/data/Mereu_2020/tsv/GSE133539_CELseq2_human_exp_mat.tsv.gz\n",
      "\n",
      "Download Results:\n",
      "gid   |stat|avg speed  |path/URI\n",
      "======+====+===========+=======================================================\n",
      "8f4df5|\u001b[1;32mOK\u001b[0m  |   2.9MiB/s|/media/seth/SETH_DATA/SETH_Alex/triku_notebooks/data/Mereu_2020/tsv/GSE133539_CELseq2_human_exp_mat.tsv.gz\n",
      "\n",
      "Status Legend:\n",
      "(OK):download completed.\n",
      "\n",
      "04/23 16:15:18 [\u001b[1;32mNOTICE\u001b[0m] Downloading 1 item(s)\n",
      "\u001b[35m[\u001b[0m#262ee8 4.0MiB/4.7MiB\u001b[36m(83%)\u001b[0m CN:1 DL:\u001b[32m3.9MiB\u001b[0m\u001b[35m]\u001b[0m\u001b[0m\n",
      "04/23 16:15:20 [\u001b[1;32mNOTICE\u001b[0m] Download complete: /media/seth/SETH_DATA/SETH_Alex/triku_notebooks/data/Mereu_2020/tsv/GSE133539_CELseq2_mouse_exp_mat.tsv.gz\n",
      "\n",
      "Download Results:\n",
      "gid   |stat|avg speed  |path/URI\n",
      "======+====+===========+=======================================================\n",
      "262ee8|\u001b[1;32mOK\u001b[0m  |   2.9MiB/s|/media/seth/SETH_DATA/SETH_Alex/triku_notebooks/data/Mereu_2020/tsv/GSE133539_CELseq2_mouse_exp_mat.tsv.gz\n",
      "\n",
      "Status Legend:\n",
      "(OK):download completed.\n",
      "\n",
      "04/23 16:15:20 [\u001b[1;32mNOTICE\u001b[0m] Downloading 1 item(s)\n",
      "\n",
      "04/23 16:15:20 [\u001b[1;32mNOTICE\u001b[0m] Allocating disk space. Use --file-allocation=none to disable it. See --file-allocation option in man page for more details.\n",
      "\u001b[35m[\u001b[0m#a56fb7 3.0MiB/8.4MiB\u001b[36m(35%)\u001b[0m CN:1 DL:\u001b[32m3.0MiB\u001b[0m ETA:\u001b[33m1s\u001b[0m\u001b[35m]\u001b[0m\u001b[0m\n",
      "04/23 16:15:23 [\u001b[1;32mNOTICE\u001b[0m] Download complete: /media/seth/SETH_DATA/SETH_Alex/triku_notebooks/data/Mereu_2020/tsv/GSE133540_Dropseq_human_exp_mat.tsv.gz\n",
      "\n",
      "Download Results:\n",
      "gid   |stat|avg speed  |path/URI\n",
      "======+====+===========+=======================================================\n",
      "a56fb7|\u001b[1;32mOK\u001b[0m  |   3.2MiB/s|/media/seth/SETH_DATA/SETH_Alex/triku_notebooks/data/Mereu_2020/tsv/GSE133540_Dropseq_human_exp_mat.tsv.gz\n",
      "\n",
      "Status Legend:\n",
      "(OK):download completed.\n",
      "\n",
      "04/23 16:15:23 [\u001b[1;32mNOTICE\u001b[0m] Downloading 1 item(s)\n",
      "\n",
      "04/23 16:15:24 [\u001b[1;32mNOTICE\u001b[0m] Allocating disk space. Use --file-allocation=none to disable it. See --file-allocation option in man page for more details.\n",
      "\u001b[35m[\u001b[0m#e7e3f3 3.0MiB/5.3MiB\u001b[36m(56%)\u001b[0m CN:1 DL:\u001b[32m3.0MiB\u001b[0m\u001b[35m]\u001b[0m\u001b[0m\n",
      "04/23 16:15:26 [\u001b[1;32mNOTICE\u001b[0m] Download complete: /media/seth/SETH_DATA/SETH_Alex/triku_notebooks/data/Mereu_2020/tsv/GSE133540_Dropseq_mouse_exp_mat.tsv.gz\n",
      "\n",
      "Download Results:\n",
      "gid   |stat|avg speed  |path/URI\n",
      "======+====+===========+=======================================================\n",
      "e7e3f3|\u001b[1;32mOK\u001b[0m  |   2.1MiB/s|/media/seth/SETH_DATA/SETH_Alex/triku_notebooks/data/Mereu_2020/tsv/GSE133540_Dropseq_mouse_exp_mat.tsv.gz\n",
      "\n",
      "Status Legend:\n",
      "(OK):download completed.\n",
      "\n",
      "04/23 16:15:27 [\u001b[1;32mNOTICE\u001b[0m] Downloading 1 item(s)\n",
      "\n",
      "04/23 16:15:27 [\u001b[1;32mNOTICE\u001b[0m] Allocating disk space. Use --file-allocation=none to disable it. See --file-allocation option in man page for more details.\n",
      "\u001b[35m[\u001b[0m#d51041 2.0MiB/14MiB\u001b[36m(13%)\u001b[0m CN:1 DL:\u001b[32m1.9MiB\u001b[0m ETA:\u001b[33m6s\u001b[0m\u001b[35m]\u001b[0m\u001b[0m\n",
      "04/23 16:15:30 [\u001b[1;32mNOTICE\u001b[0m] Download complete: /media/seth/SETH_DATA/SETH_Alex/triku_notebooks/data/Mereu_2020/tsv/GSE133543_QUARTZseq_human_exp_mat.tsv.gz\n",
      "\n",
      "Download Results:\n",
      "gid   |stat|avg speed  |path/URI\n",
      "======+====+===========+=======================================================\n",
      "d51041|\u001b[1;32mOK\u001b[0m  |   4.7MiB/s|/media/seth/SETH_DATA/SETH_Alex/triku_notebooks/data/Mereu_2020/tsv/GSE133543_QUARTZseq_human_exp_mat.tsv.gz\n",
      "\n",
      "Status Legend:\n",
      "(OK):download completed.\n",
      "\n",
      "04/23 16:15:31 [\u001b[1;32mNOTICE\u001b[0m] Downloading 1 item(s)\n",
      "\n",
      "04/23 16:15:31 [\u001b[1;32mNOTICE\u001b[0m] Allocating disk space. Use --file-allocation=none to disable it. See --file-allocation option in man page for more details.\n",
      "\u001b[35m[\u001b[0m#702cea 2.0MiB/8.1MiB\u001b[36m(24%)\u001b[0m CN:1 DL:\u001b[32m2.0MiB\u001b[0m ETA:\u001b[33m3s\u001b[0m\u001b[35m]\u001b[0m\u001b[0m\n",
      "04/23 16:15:34 [\u001b[1;32mNOTICE\u001b[0m] Download complete: /media/seth/SETH_DATA/SETH_Alex/triku_notebooks/data/Mereu_2020/tsv/GSE133543_QUARTZseq_mouse_exp_mat.tsv.gz\n",
      "\n",
      "Download Results:\n",
      "gid   |stat|avg speed  |path/URI\n",
      "======+====+===========+=======================================================\n",
      "702cea|\u001b[1;32mOK\u001b[0m  |   2.6MiB/s|/media/seth/SETH_DATA/SETH_Alex/triku_notebooks/data/Mereu_2020/tsv/GSE133543_QUARTZseq_mouse_exp_mat.tsv.gz\n",
      "\n",
      "Status Legend:\n",
      "(OK):download completed.\n",
      "\n",
      "04/23 16:15:35 [\u001b[1;32mNOTICE\u001b[0m] Downloading 1 item(s)\n",
      "\n",
      "04/23 16:15:35 [\u001b[1;32mNOTICE\u001b[0m] Allocating disk space. Use --file-allocation=none to disable it. See --file-allocation option in man page for more details.\n",
      "\u001b[35m[\u001b[0m#5c20da 2.0MiB/13MiB\u001b[36m(14%)\u001b[0m CN:1 DL:\u001b[32m2.0MiB\u001b[0m ETA:\u001b[33m5s\u001b[0m\u001b[35m]\u001b[0m\u001b[0m\n",
      "04/23 16:15:38 [\u001b[1;32mNOTICE\u001b[0m] Download complete: /media/seth/SETH_DATA/SETH_Alex/triku_notebooks/data/Mereu_2020/tsv/GSE133545_SMARTseq2_human_exp_mat.tsv.gz\n",
      "\n",
      "Download Results:\n",
      "gid   |stat|avg speed  |path/URI\n",
      "======+====+===========+=======================================================\n",
      "5c20da|\u001b[1;32mOK\u001b[0m  |   4.2MiB/s|/media/seth/SETH_DATA/SETH_Alex/triku_notebooks/data/Mereu_2020/tsv/GSE133545_SMARTseq2_human_exp_mat.tsv.gz\n",
      "\n",
      "Status Legend:\n",
      "(OK):download completed.\n",
      "\n",
      "04/23 16:15:39 [\u001b[1;32mNOTICE\u001b[0m] Downloading 1 item(s)\n",
      "\n",
      "04/23 16:15:39 [\u001b[1;32mNOTICE\u001b[0m] Allocating disk space. Use --file-allocation=none to disable it. See --file-allocation option in man page for more details.\n",
      "\u001b[35m[\u001b[0m#448dae 2.0MiB/6.3MiB\u001b[36m(31%)\u001b[0m CN:1 DL:\u001b[32m2.0MiB\u001b[0m ETA:\u001b[33m2s\u001b[0m\u001b[35m]\u001b[0m\u001b[0m\n",
      "04/23 16:15:42 [\u001b[1;32mNOTICE\u001b[0m] Download complete: /media/seth/SETH_DATA/SETH_Alex/triku_notebooks/data/Mereu_2020/tsv/GSE133545_SMARTseq2_mouse_exp_mat.tsv.gz\n",
      "\n",
      "Download Results:\n",
      "gid   |stat|avg speed  |path/URI\n",
      "======+====+===========+=======================================================\n",
      "448dae|\u001b[1;32mOK\u001b[0m  |   2.2MiB/s|/media/seth/SETH_DATA/SETH_Alex/triku_notebooks/data/Mereu_2020/tsv/GSE133545_SMARTseq2_mouse_exp_mat.tsv.gz\n",
      "\n",
      "Status Legend:\n",
      "(OK):download completed.\n",
      "\n",
      "04/23 16:15:42 [\u001b[1;32mNOTICE\u001b[0m] Downloading 1 item(s)\n",
      "\n",
      "04/23 16:15:43 [\u001b[1;32mNOTICE\u001b[0m] Allocating disk space. Use --file-allocation=none to disable it. See --file-allocation option in man page for more details.\n",
      "\u001b[35m[\u001b[0m#d9264a 6.6MiB/7.9MiB\u001b[36m(84%)\u001b[0m CN:1 DL:\u001b[32m6.7MiB\u001b[0m\u001b[35m]\u001b[0m\u001b[0m\n",
      "04/23 16:15:44 [\u001b[1;32mNOTICE\u001b[0m] Download complete: /media/seth/SETH_DATA/SETH_Alex/triku_notebooks/data/Mereu_2020/tsv/GSE133546_SingleNuclei_human_exp_mat.tsv.gz\n",
      "\n",
      "Download Results:\n",
      "gid   |stat|avg speed  |path/URI\n",
      "======+====+===========+=======================================================\n",
      "d9264a|\u001b[1;32mOK\u001b[0m  |   5.3MiB/s|/media/seth/SETH_DATA/SETH_Alex/triku_notebooks/data/Mereu_2020/tsv/GSE133546_SingleNuclei_human_exp_mat.tsv.gz\n",
      "\n",
      "Status Legend:\n",
      "(OK):download completed.\n",
      "\n",
      "04/23 16:15:45 [\u001b[1;32mNOTICE\u001b[0m] Downloading 1 item(s)\n",
      "\n",
      "04/23 16:15:45 [\u001b[1;32mNOTICE\u001b[0m] Allocating disk space. Use --file-allocation=none to disable it. See --file-allocation option in man page for more details.\n",
      "\u001b[35m[\u001b[0m#c42931 80KiB/9.1MiB\u001b[36m(0%)\u001b[0m CN:1 DL:\u001b[32m650KiB\u001b[0m ETA:\u001b[33m14s\u001b[0m\u001b[35m]\u001b[0m\u001b[0m\n",
      "04/23 16:15:46 [\u001b[1;32mNOTICE\u001b[0m] Download complete: /media/seth/SETH_DATA/SETH_Alex/triku_notebooks/data/Mereu_2020/tsv/GSE133546_SingleNuclei_mouse_exp_mat.tsv.gz\n",
      "\n",
      "Download Results:\n",
      "gid   |stat|avg speed  |path/URI\n",
      "======+====+===========+=======================================================\n",
      "c42931|\u001b[1;32mOK\u001b[0m  |   7.0MiB/s|/media/seth/SETH_DATA/SETH_Alex/triku_notebooks/data/Mereu_2020/tsv/GSE133546_SingleNuclei_mouse_exp_mat.tsv.gz\n",
      "\n",
      "Status Legend:\n",
      "(OK):download completed.\n",
      "\n",
      "04/23 16:15:47 [\u001b[1;32mNOTICE\u001b[0m] Downloading 1 item(s)\n",
      "\n",
      "04/23 16:15:47 [\u001b[1;32mNOTICE\u001b[0m] Allocating disk space. Use --file-allocation=none to disable it. See --file-allocation option in man page for more details.\n",
      "\u001b[35m[\u001b[0m#932dc6 9.0MiB/9.1MiB\u001b[36m(98%)\u001b[0m CN:1 DL:\u001b[32m8.8MiB\u001b[0m\u001b[35m]\u001b[0m\u001b[0m\u001b[35m]\u001b[0m\u001b[0m\n",
      "04/23 16:15:49 [\u001b[1;32mNOTICE\u001b[0m] Download complete: /media/seth/SETH_DATA/SETH_Alex/triku_notebooks/data/Mereu_2020/tsv/GSE133547_ddSEQ_human_exp_mat.tsv.gz\n",
      "\n",
      "Download Results:\n",
      "gid   |stat|avg speed  |path/URI\n",
      "======+====+===========+=======================================================\n",
      "932dc6|\u001b[1;32mOK\u001b[0m  |   7.1MiB/s|/media/seth/SETH_DATA/SETH_Alex/triku_notebooks/data/Mereu_2020/tsv/GSE133547_ddSEQ_human_exp_mat.tsv.gz\n",
      "\n",
      "Status Legend:\n",
      "(OK):download completed.\n",
      "\n",
      "04/23 16:15:49 [\u001b[1;32mNOTICE\u001b[0m] Downloading 1 item(s)\n",
      "\n",
      "04/23 16:15:49 [\u001b[1;32mNOTICE\u001b[0m] Allocating disk space. Use --file-allocation=none to disable it. See --file-allocation option in man page for more details.\n",
      "\u001b[35m[\u001b[0m#0d54d4 64KiB/5.0MiB\u001b[36m(1%)\u001b[0m CN:1 DL:\u001b[32m520KiB\u001b[0m ETA:\u001b[33m9s\u001b[0m\u001b[35m]\u001b[0m\u001b[0m\n",
      "04/23 16:15:51 [\u001b[1;32mNOTICE\u001b[0m] Download complete: /media/seth/SETH_DATA/SETH_Alex/triku_notebooks/data/Mereu_2020/tsv/GSE133547_ddSEQ_mouse_exp_mat.tsv.gz\n",
      "\n",
      "Download Results:\n",
      "gid   |stat|avg speed  |path/URI\n",
      "======+====+===========+=======================================================\n",
      "0d54d4|\u001b[1;32mOK\u001b[0m  |   4.6MiB/s|/media/seth/SETH_DATA/SETH_Alex/triku_notebooks/data/Mereu_2020/tsv/GSE133547_ddSEQ_mouse_exp_mat.tsv.gz\n",
      "\n",
      "Status Legend:\n",
      "(OK):download completed.\n",
      "\n",
      "04/23 16:15:51 [\u001b[1;32mNOTICE\u001b[0m] Downloading 1 item(s)\n",
      "\u001b[35m[\u001b[0m#7b0c5c 192KiB/3.0MiB\u001b[36m(6%)\u001b[0m CN:1 DL:\u001b[32m513KiB\u001b[0m ETA:\u001b[33m5s\u001b[0m\u001b[35m]\u001b[0m\u001b[0m\n",
      "04/23 16:15:52 [\u001b[1;32mNOTICE\u001b[0m] Download complete: /media/seth/SETH_DATA/SETH_Alex/triku_notebooks/data/Mereu_2020/tsv/GSE133548_inDrop_human_exp_mat.tsv.gz\n",
      "\n",
      "Download Results:\n",
      "gid   |stat|avg speed  |path/URI\n",
      "======+====+===========+=======================================================\n",
      "7b0c5c|\u001b[1;32mOK\u001b[0m  |   3.3MiB/s|/media/seth/SETH_DATA/SETH_Alex/triku_notebooks/data/Mereu_2020/tsv/GSE133548_inDrop_human_exp_mat.tsv.gz\n",
      "\n",
      "Status Legend:\n",
      "(OK):download completed.\n",
      "\n",
      "04/23 16:15:52 [\u001b[1;32mNOTICE\u001b[0m] Downloading 1 item(s)\n",
      "\u001b[35m[\u001b[0m#98bd97 208KiB/2.1MiB\u001b[36m(9%)\u001b[0m CN:1 DL:\u001b[32m527KiB\u001b[0m ETA:\u001b[33m3s\u001b[0m\u001b[35m]\u001b[0m\u001b[0m\n",
      "04/23 16:15:54 [\u001b[1;32mNOTICE\u001b[0m] Download complete: /media/seth/SETH_DATA/SETH_Alex/triku_notebooks/data/Mereu_2020/tsv/GSE133548_inDrop_mouse_exp_mat.tsv.gz\n",
      "\n",
      "Download Results:\n",
      "gid   |stat|avg speed  |path/URI\n",
      "======+====+===========+=======================================================\n",
      "98bd97|\u001b[1;32mOK\u001b[0m  |   2.3MiB/s|/media/seth/SETH_DATA/SETH_Alex/triku_notebooks/data/Mereu_2020/tsv/GSE133548_inDrop_mouse_exp_mat.tsv.gz\n",
      "\n",
      "Status Legend:\n",
      "(OK):download completed.\n",
      "\n",
      "04/23 16:15:54 [\u001b[1;32mNOTICE\u001b[0m] Downloading 1 item(s)\n",
      "\n",
      "04/23 16:15:54 [\u001b[1;32mNOTICE\u001b[0m] Allocating disk space. Use --file-allocation=none to disable it. See --file-allocation option in man page for more details.\n",
      "\u001b[35m[\u001b[0m#426291 18MiB/39MiB\u001b[36m(45%)\u001b[0m CN:2 DL:\u001b[32m12MiB\u001b[0m ETA:\u001b[33m1s\u001b[0m\u001b[35m]\u001b[0m\u001b[0m0miB(94%)]\u001b[0m\n",
      "04/23 16:15:58 [\u001b[1;32mNOTICE\u001b[0m] Download complete: /media/seth/SETH_DATA/SETH_Alex/triku_notebooks/data/Mereu_2020/tsv/GSE133535_10X2x5Kcell250Kreads_human_exp_mat.tsv.gz\n",
      "\n",
      "Download Results:\n",
      "gid   |stat|avg speed  |path/URI\n",
      "======+====+===========+=======================================================\n",
      "426291|\u001b[1;32mOK\u001b[0m  |    14MiB/s|/media/seth/SETH_DATA/SETH_Alex/triku_notebooks/data/Mereu_2020/tsv/GSE133535_10X2x5Kcell250Kreads_human_exp_mat.tsv.gz\n",
      "\n",
      "Status Legend:\n",
      "(OK):download completed.\n",
      "\n",
      "04/23 16:15:58 [\u001b[1;32mNOTICE\u001b[0m] Downloading 1 item(s)\n",
      "\n",
      "04/23 16:15:58 [\u001b[1;32mNOTICE\u001b[0m] Allocating disk space. Use --file-allocation=none to disable it. See --file-allocation option in man page for more details.\n",
      "\u001b[35m[\u001b[0m#fc183e 32MiB/39MiB\u001b[36m(81%)\u001b[0m CN:1 DL:\u001b[32m16MiB\u001b[0m\u001b[35m]\u001b[0m\u001b[0m\u001b[0m\u001b[35m]\u001b[0m\u001b[0miB(96%)]\u001b[0m\n",
      "04/23 16:16:03 [\u001b[1;32mNOTICE\u001b[0m] Download complete: /media/seth/SETH_DATA/SETH_Alex/triku_notebooks/data/Mereu_2020/tsv/GSE133535_10X2x5Kcell250Kreads_mouse_exp_mat.tsv.gz\n",
      "\n",
      "Download Results:\n",
      "gid   |stat|avg speed  |path/URI\n",
      "======+====+===========+=======================================================\n",
      "fc183e|\u001b[1;32mOK\u001b[0m  |    10MiB/s|/media/seth/SETH_DATA/SETH_Alex/triku_notebooks/data/Mereu_2020/tsv/GSE133535_10X2x5Kcell250Kreads_mouse_exp_mat.tsv.gz\n",
      "\n",
      "Status Legend:\n",
      "(OK):download completed.\n"
     ]
    }
   ],
   "source": [
    "mereu_tsv_dir = mereu_dir + 'tsv'\n",
    "# CELseq2\n",
    "!aria2c -x 16 https://ftp.ncbi.nlm.nih.gov/geo/series/GSE133nnn/GSE133539/suppl/GSE133539%5FCELseq2%5Fhuman%5Fexp%5Fmat%2Etsv%2Egz -d $mereu_tsv_dir\n",
    "!aria2c -x 16 https://ftp.ncbi.nlm.nih.gov/geo/series/GSE133nnn/GSE133539/suppl/GSE133539%5FCELseq2%5Fmouse%5Fexp%5Fmat%2Etsv%2Egz -d $mereu_tsv_dir\n",
    "# Droposeq\n",
    "!aria2c -x 16 https://ftp.ncbi.nlm.nih.gov/geo/series/GSE133nnn/GSE133540/suppl/GSE133540%5FDropseq%5Fhuman%5Fexp%5Fmat%2Etsv%2Egz -d $mereu_tsv_dir\n",
    "!aria2c -x 16 https://ftp.ncbi.nlm.nih.gov/geo/series/GSE133nnn/GSE133540/suppl/GSE133540%5FDropseq%5Fmouse%5Fexp%5Fmat%2Etsv%2Egz -d $mereu_tsv_dir\n",
    "# QUARTZseq\n",
    "!aria2c -x 16 https://ftp.ncbi.nlm.nih.gov/geo/series/GSE133nnn/GSE133543/suppl/GSE133543%5FQUARTZseq%5Fhuman%5Fexp%5Fmat%2Etsv%2Egz -d $mereu_tsv_dir\n",
    "!aria2c -x 16 https://ftp.ncbi.nlm.nih.gov/geo/series/GSE133nnn/GSE133543/suppl/GSE133543%5FQUARTZseq%5Fmouse%5Fexp%5Fmat%2Etsv%2Egz -d $mereu_tsv_dir\n",
    "# SMARTseq2\n",
    "!aria2c -x 16 https://ftp.ncbi.nlm.nih.gov/geo/series/GSE133nnn/GSE133545/suppl/GSE133545%5FSMARTseq2%5Fhuman%5Fexp%5Fmat%2Etsv%2Egz -d $mereu_tsv_dir\n",
    "!aria2c -x 16 https://ftp.ncbi.nlm.nih.gov/geo/series/GSE133nnn/GSE133545/suppl/GSE133545%5FSMARTseq2%5Fmouse%5Fexp%5Fmat%2Etsv%2Egz -d $mereu_tsv_dir\n",
    "# singleNuclei\n",
    "!aria2c -x 16 https://ftp.ncbi.nlm.nih.gov/geo/series/GSE133nnn/GSE133546/suppl/GSE133546%5FSingleNuclei%5Fhuman%5Fexp%5Fmat%2Etsv%2Egz -d $mereu_tsv_dir\n",
    "!aria2c -x 16 https://ftp.ncbi.nlm.nih.gov/geo/series/GSE133nnn/GSE133546/suppl/GSE133546%5FSingleNuclei%5Fmouse%5Fexp%5Fmat%2Etsv%2Egz -d $mereu_tsv_dir\n",
    "# ddSEQ\n",
    "!aria2c -x 16 https://ftp.ncbi.nlm.nih.gov/geo/series/GSE133nnn/GSE133547/suppl/GSE133547%5FddSEQ%5Fhuman%5Fexp%5Fmat%2Etsv%2Egz -d $mereu_tsv_dir\n",
    "!aria2c -x 16 https://ftp.ncbi.nlm.nih.gov/geo/series/GSE133nnn/GSE133547/suppl/GSE133547%5FddSEQ%5Fmouse%5Fexp%5Fmat%2Etsv%2Egz -d $mereu_tsv_dir\n",
    "# inDrop\n",
    "!aria2c -x 16 https://ftp.ncbi.nlm.nih.gov/geo/series/GSE133nnn/GSE133548/suppl/GSE133548%5FinDrop%5Fhuman%5Fexp%5Fmat%2Etsv%2Egz -d $mereu_tsv_dir\n",
    "!aria2c -x 16 https://ftp.ncbi.nlm.nih.gov/geo/series/GSE133nnn/GSE133548/suppl/GSE133548%5FinDrop%5Fmouse%5Fexp%5Fmat%2Etsv%2Egz -d $mereu_tsv_dir\n",
    "# 10X\n",
    "!aria2c -x 16 https://ftp.ncbi.nlm.nih.gov/geo/series/GSE133nnn/GSE133535/suppl/GSE133535%5F10X2x5Kcell250Kreads%5Fhuman%5Fexp%5Fmat%2Etsv%2Egz -d $mereu_tsv_dir\n",
    "!aria2c -x 16 https://ftp.ncbi.nlm.nih.gov/geo/series/GSE133nnn/GSE133535/suppl/GSE133535%5F10X2x5Kcell250Kreads%5Fmouse%5Fexp%5Fmat%2Etsv%2Egz -d $mereu_tsv_dir"
   ]
  },
  {
   "cell_type": "code",
   "execution_count": 25,
   "metadata": {},
   "outputs": [],
   "source": [
    "!gunzip $mereu_tsv_dir/*.gz "
   ]
  },
  {
   "cell_type": "markdown",
   "metadata": {},
   "source": [
    "Now that files have been downloaded and extracted, we will generate the adatas. Each adata will have the structure `{technique}_{organism}.h5`. \n",
    "It will contain the cells that are annotated."
   ]
  },
  {
   "cell_type": "code",
   "execution_count": 28,
   "metadata": {},
   "outputs": [
    {
     "name": "stdout",
     "output_type": "stream",
     "text": [
      "CELseq2 mouse\n"
     ]
    },
    {
     "name": "stderr",
     "output_type": "stream",
     "text": [
      "Trying to set attribute `.obs` of view, copying.\n"
     ]
    },
    {
     "name": "stdout",
     "output_type": "stream",
     "text": [
      "2880 before removal, 180 after cell removal.\n"
     ]
    },
    {
     "name": "stderr",
     "output_type": "stream",
     "text": [
      "... storing 'cell_types' as categorical\n"
     ]
    },
    {
     "name": "stdout",
     "output_type": "stream",
     "text": [
      "CELseq2 human\n"
     ]
    },
    {
     "name": "stderr",
     "output_type": "stream",
     "text": [
      "Trying to set attribute `.obs` of view, copying.\n"
     ]
    },
    {
     "name": "stdout",
     "output_type": "stream",
     "text": [
      "2880 before removal, 1083 after cell removal.\n"
     ]
    },
    {
     "name": "stderr",
     "output_type": "stream",
     "text": [
      "... storing 'cell_types' as categorical\n"
     ]
    },
    {
     "name": "stdout",
     "output_type": "stream",
     "text": [
      "Dropseq mouse\n"
     ]
    },
    {
     "name": "stderr",
     "output_type": "stream",
     "text": [
      "Trying to set attribute `.obs` of view, copying.\n"
     ]
    },
    {
     "name": "stdout",
     "output_type": "stream",
     "text": [
      "6000 before removal, 273 after cell removal.\n"
     ]
    },
    {
     "name": "stderr",
     "output_type": "stream",
     "text": [
      "... storing 'cell_types' as categorical\n"
     ]
    },
    {
     "name": "stdout",
     "output_type": "stream",
     "text": [
      "Dropseq human\n"
     ]
    },
    {
     "name": "stderr",
     "output_type": "stream",
     "text": [
      "Trying to set attribute `.obs` of view, copying.\n"
     ]
    },
    {
     "name": "stdout",
     "output_type": "stream",
     "text": [
      "6000 before removal, 2261 after cell removal.\n"
     ]
    },
    {
     "name": "stderr",
     "output_type": "stream",
     "text": [
      "... storing 'cell_types' as categorical\n"
     ]
    },
    {
     "name": "stdout",
     "output_type": "stream",
     "text": [
      "QUARTZseq mouse\n"
     ]
    },
    {
     "name": "stderr",
     "output_type": "stream",
     "text": [
      "Trying to set attribute `.obs` of view, copying.\n"
     ]
    },
    {
     "name": "stdout",
     "output_type": "stream",
     "text": [
      "3068 before removal, 357 after cell removal.\n"
     ]
    },
    {
     "name": "stderr",
     "output_type": "stream",
     "text": [
      "... storing 'cell_types' as categorical\n"
     ]
    },
    {
     "name": "stdout",
     "output_type": "stream",
     "text": [
      "QUARTZseq human\n"
     ]
    },
    {
     "name": "stderr",
     "output_type": "stream",
     "text": [
      "Trying to set attribute `.obs` of view, copying.\n"
     ]
    },
    {
     "name": "stdout",
     "output_type": "stream",
     "text": [
      "3070 before removal, 1333 after cell removal.\n"
     ]
    },
    {
     "name": "stderr",
     "output_type": "stream",
     "text": [
      "... storing 'cell_types' as categorical\n"
     ]
    },
    {
     "name": "stdout",
     "output_type": "stream",
     "text": [
      "SMARTseq2 mouse\n"
     ]
    },
    {
     "name": "stderr",
     "output_type": "stream",
     "text": [
      "Trying to set attribute `.obs` of view, copying.\n"
     ]
    },
    {
     "name": "stdout",
     "output_type": "stream",
     "text": [
      "2935 before removal, 303 after cell removal.\n"
     ]
    },
    {
     "name": "stderr",
     "output_type": "stream",
     "text": [
      "... storing 'cell_types' as categorical\n"
     ]
    },
    {
     "name": "stdout",
     "output_type": "stream",
     "text": [
      "SMARTseq2 human\n"
     ]
    },
    {
     "name": "stderr",
     "output_type": "stream",
     "text": [
      "Trying to set attribute `.obs` of view, copying.\n"
     ]
    },
    {
     "name": "stdout",
     "output_type": "stream",
     "text": [
      "2992 before removal, 732 after cell removal.\n"
     ]
    },
    {
     "name": "stderr",
     "output_type": "stream",
     "text": [
      "... storing 'cell_types' as categorical\n"
     ]
    },
    {
     "name": "stdout",
     "output_type": "stream",
     "text": [
      "SingleNuclei mouse\n"
     ]
    },
    {
     "name": "stderr",
     "output_type": "stream",
     "text": [
      "Trying to set attribute `.obs` of view, copying.\n"
     ]
    },
    {
     "name": "stdout",
     "output_type": "stream",
     "text": [
      "6000 before removal, 3058 after cell removal.\n"
     ]
    },
    {
     "name": "stderr",
     "output_type": "stream",
     "text": [
      "... storing 'cell_types' as categorical\n"
     ]
    },
    {
     "name": "stdout",
     "output_type": "stream",
     "text": [
      "SingleNuclei human\n"
     ]
    },
    {
     "name": "stderr",
     "output_type": "stream",
     "text": [
      "Trying to set attribute `.obs` of view, copying.\n"
     ]
    },
    {
     "name": "stdout",
     "output_type": "stream",
     "text": [
      "6000 before removal, 1515 after cell removal.\n"
     ]
    },
    {
     "name": "stderr",
     "output_type": "stream",
     "text": [
      "... storing 'cell_types' as categorical\n"
     ]
    },
    {
     "name": "stdout",
     "output_type": "stream",
     "text": [
      "ddSEQ mouse\n"
     ]
    },
    {
     "name": "stderr",
     "output_type": "stream",
     "text": [
      "Trying to set attribute `.obs` of view, copying.\n"
     ]
    },
    {
     "name": "stdout",
     "output_type": "stream",
     "text": [
      "3998 before removal, 531 after cell removal.\n"
     ]
    },
    {
     "name": "stderr",
     "output_type": "stream",
     "text": [
      "... storing 'cell_types' as categorical\n"
     ]
    },
    {
     "name": "stdout",
     "output_type": "stream",
     "text": [
      "ddSEQ human\n"
     ]
    },
    {
     "name": "stderr",
     "output_type": "stream",
     "text": [
      "Trying to set attribute `.obs` of view, copying.\n"
     ]
    },
    {
     "name": "stdout",
     "output_type": "stream",
     "text": [
      "4000 before removal, 2109 after cell removal.\n"
     ]
    },
    {
     "name": "stderr",
     "output_type": "stream",
     "text": [
      "... storing 'cell_types' as categorical\n"
     ]
    },
    {
     "name": "stdout",
     "output_type": "stream",
     "text": [
      "inDrop mouse\n"
     ]
    },
    {
     "name": "stderr",
     "output_type": "stream",
     "text": [
      "Trying to set attribute `.obs` of view, copying.\n",
      "... storing 'cell_types' as categorical\n"
     ]
    },
    {
     "name": "stdout",
     "output_type": "stream",
     "text": [
      "2982 before removal, 90 after cell removal.\n",
      "inDrop human\n"
     ]
    },
    {
     "name": "stderr",
     "output_type": "stream",
     "text": [
      "Trying to set attribute `.obs` of view, copying.\n"
     ]
    },
    {
     "name": "stdout",
     "output_type": "stream",
     "text": [
      "2988 before removal, 686 after cell removal.\n"
     ]
    },
    {
     "name": "stderr",
     "output_type": "stream",
     "text": [
      "... storing 'cell_types' as categorical\n"
     ]
    },
    {
     "name": "stdout",
     "output_type": "stream",
     "text": [
      "10X mouse\n"
     ]
    },
    {
     "name": "stderr",
     "output_type": "stream",
     "text": [
      "Trying to set attribute `.obs` of view, copying.\n"
     ]
    },
    {
     "name": "stdout",
     "output_type": "stream",
     "text": [
      "10000 before removal, 2191 after cell removal.\n"
     ]
    },
    {
     "name": "stderr",
     "output_type": "stream",
     "text": [
      "... storing 'cell_types' as categorical\n"
     ]
    },
    {
     "name": "stdout",
     "output_type": "stream",
     "text": [
      "10X human\n"
     ]
    },
    {
     "name": "stderr",
     "output_type": "stream",
     "text": [
      "Trying to set attribute `.obs` of view, copying.\n"
     ]
    },
    {
     "name": "stdout",
     "output_type": "stream",
     "text": [
      "10000 before removal, 1604 after cell removal.\n"
     ]
    },
    {
     "name": "stderr",
     "output_type": "stream",
     "text": [
      "... storing 'cell_types' as categorical\n"
     ]
    }
   ],
   "source": [
    "process_mereu(mereu_dir)"
   ]
  },
  {
   "cell_type": "markdown",
   "metadata": {},
   "source": [
    "### Downloading Ding et al. 2020 dataset\n",
    "Ding dataset is uploaded to Single Cell Portal, under sccesion numbers SCP424 and SCP425. The data is under login accession, so you must login, download the data, and place it in the listed directories.\n",
    "\n",
    "Adter dataset downloading the final file structure should look like this:\n",
    "```\n",
    "Ding_2020\\\n",
    "    human\\\n",
    "        cells.read.new.txt   ->   Barcode names\n",
    "        counts.read.txt.gz   ->   Count matrix in MM format\n",
    "        genes.read.txt       ->   Feature names\n",
    "        meta.txt             ->   Metadata file with annotations\n",
    "    mouse\\\n",
    "        cells.names.new.txt  ->   Barcode names\n",
    "        count.reads.txt.gz   ->   Count matrix in MM format\n",
    "        genes.count.txt      ->   Feature names\n",
    "        meta_combined.txt    ->   Metadata file with annotations\n",
    "```"
   ]
  },
  {
   "cell_type": "code",
   "execution_count": 32,
   "metadata": {},
   "outputs": [],
   "source": [
    "ding_dir = root_dir + '/data/Ding_2020/'\n",
    "os.makedirs(ding_dir + 'human', exist_ok=True)\n",
    "os.makedirs(ding_dir + 'mouse', exist_ok=True)"
   ]
  },
  {
   "cell_type": "code",
   "execution_count": 34,
   "metadata": {},
   "outputs": [
    {
     "name": "stderr",
     "output_type": "stream",
     "text": [
      "Trying to set attribute `.obs` of view, copying.\n",
      "Trying to set attribute `.var` of view, copying.\n"
     ]
    },
    {
     "name": "stdout",
     "output_type": "stream",
     "text": [
      "mouse Smart-seq2\n",
      "644 cells selected\n"
     ]
    },
    {
     "name": "stderr",
     "output_type": "stream",
     "text": [
      "... storing 'method' as categorical\n",
      "... storing 'CellType' as categorical\n",
      "Trying to set attribute `.var` of view, copying.\n"
     ]
    },
    {
     "name": "stdout",
     "output_type": "stream",
     "text": [
      "mouse 10x Chromium\n",
      "5397 cells selected\n"
     ]
    },
    {
     "name": "stderr",
     "output_type": "stream",
     "text": [
      "... storing 'method' as categorical\n",
      "... storing 'CellType' as categorical\n",
      "Trying to set attribute `.var` of view, copying.\n"
     ]
    },
    {
     "name": "stdout",
     "output_type": "stream",
     "text": [
      "mouse DroNc-seq\n",
      "2345 cells selected\n"
     ]
    },
    {
     "name": "stderr",
     "output_type": "stream",
     "text": [
      "... storing 'method' as categorical\n",
      "... storing 'CellType' as categorical\n",
      "Trying to set attribute `.var` of view, copying.\n"
     ]
    },
    {
     "name": "stdout",
     "output_type": "stream",
     "text": [
      "mouse sci-RNA-seq\n",
      "5397 cells selected\n"
     ]
    },
    {
     "name": "stderr",
     "output_type": "stream",
     "text": [
      "... storing 'method' as categorical\n",
      "... storing 'CellType' as categorical\n",
      "Trying to set attribute `.obs` of view, copying.\n",
      "Trying to set attribute `.var` of view, copying.\n"
     ]
    },
    {
     "name": "stdout",
     "output_type": "stream",
     "text": [
      "human Smart-seq2\n",
      "526 cells selected\n"
     ]
    },
    {
     "name": "stderr",
     "output_type": "stream",
     "text": [
      "... storing 'method' as categorical\n",
      "... storing 'cell_types' as categorical\n",
      "Trying to set attribute `.var` of view, copying.\n"
     ]
    },
    {
     "name": "stdout",
     "output_type": "stream",
     "text": [
      "human CEL-Seq2\n",
      "526 cells selected\n"
     ]
    },
    {
     "name": "stderr",
     "output_type": "stream",
     "text": [
      "... storing 'method' as categorical\n",
      "... storing 'cell_types' as categorical\n",
      "Trying to set attribute `.var` of view, copying.\n"
     ]
    },
    {
     "name": "stdout",
     "output_type": "stream",
     "text": [
      "human 10x Chromium (v2) A\n",
      "3222 cells selected\n"
     ]
    },
    {
     "name": "stderr",
     "output_type": "stream",
     "text": [
      "... storing 'method' as categorical\n",
      "... storing 'cell_types' as categorical\n",
      "Trying to set attribute `.var` of view, copying.\n"
     ]
    },
    {
     "name": "stdout",
     "output_type": "stream",
     "text": [
      "human 10x Chromium (v2) B\n",
      "3222 cells selected\n"
     ]
    },
    {
     "name": "stderr",
     "output_type": "stream",
     "text": [
      "... storing 'method' as categorical\n",
      "... storing 'cell_types' as categorical\n",
      "Trying to set attribute `.var` of view, copying.\n"
     ]
    },
    {
     "name": "stdout",
     "output_type": "stream",
     "text": [
      "human 10x Chromium (v3)\n",
      "3222 cells selected\n"
     ]
    },
    {
     "name": "stderr",
     "output_type": "stream",
     "text": [
      "... storing 'method' as categorical\n",
      "... storing 'cell_types' as categorical\n",
      "Trying to set attribute `.var` of view, copying.\n"
     ]
    },
    {
     "name": "stdout",
     "output_type": "stream",
     "text": [
      "human Drop-seq\n",
      "6584 cells selected\n"
     ]
    },
    {
     "name": "stderr",
     "output_type": "stream",
     "text": [
      "... storing 'method' as categorical\n",
      "... storing 'cell_types' as categorical\n",
      "Trying to set attribute `.var` of view, copying.\n"
     ]
    },
    {
     "name": "stdout",
     "output_type": "stream",
     "text": [
      "human Seq-Well\n",
      "3773 cells selected\n"
     ]
    },
    {
     "name": "stderr",
     "output_type": "stream",
     "text": [
      "... storing 'method' as categorical\n",
      "... storing 'cell_types' as categorical\n",
      "Trying to set attribute `.var` of view, copying.\n"
     ]
    },
    {
     "name": "stdout",
     "output_type": "stream",
     "text": [
      "human inDrops\n",
      "6584 cells selected\n"
     ]
    },
    {
     "name": "stderr",
     "output_type": "stream",
     "text": [
      "... storing 'method' as categorical\n",
      "... storing 'cell_types' as categorical\n",
      "Trying to set attribute `.var` of view, copying.\n"
     ]
    },
    {
     "name": "stdout",
     "output_type": "stream",
     "text": [
      "human 10x Chromium (v2)\n",
      "3362 cells selected\n"
     ]
    },
    {
     "name": "stderr",
     "output_type": "stream",
     "text": [
      "... storing 'method' as categorical\n",
      "... storing 'cell_types' as categorical\n"
     ]
    }
   ],
   "source": [
    "process_ding(ding_dir)"
   ]
  },
  {
   "cell_type": "markdown",
   "metadata": {},
   "source": [
    "To simplify nomenclature with Mereu's dataset, we are going to delete and rename certain datasets."
   ]
  },
  {
   "cell_type": "code",
   "execution_count": 35,
   "metadata": {},
   "outputs": [],
   "source": [
    "os.replace(ding_dir + '/10x Chromium (v3)_human.h5ad', ding_dir + '/10X_human.h5ad')\n",
    "os.replace(ding_dir + '/10x Chromium_mouse.h5ad', ding_dir + '/10X_mouse.h5ad')\n",
    "os.replace(ding_dir + '/DroNc-seq_mouse.h5ad', ding_dir + '/SingleNuclei_human.h5ad')\n",
    "os.replace(ding_dir + '/inDrops_human.h5ad', ding_dir + '/inDrop_human.h5ad')\n",
    "os.replace(ding_dir + '/Drop-seq_human.h5ad', ding_dir + '/Dropseq_human.h5ad')\n",
    "os.replace(ding_dir + '/Smart-seq2_human.h5ad', ding_dir + '/SMARTseq2_human.h5ad')\n",
    "os.replace(ding_dir + '/Smart-seq2_mouse.h5ad', ding_dir + '/SMARTseq2_mouse.h5ad')\n",
    "os.replace(ding_dir + '/CEL-Seq2_human.h5ad', ding_dir + '/CELseq2_human.h5ad')\n",
    "os.remove(ding_dir + '/10x Chromium (v2) A_human.h5ad')\n",
    "os.remove(ding_dir + '/10x Chromium (v2) B_human.h5ad')\n",
    "os.remove(ding_dir + '/10x Chromium (v2)_human.h5ad')"
   ]
  },
  {
   "cell_type": "markdown",
   "metadata": {},
   "source": [
    "### Downloading 10X datasets"
   ]
  },
  {
   "cell_type": "code",
   "execution_count": 36,
   "metadata": {},
   "outputs": [
    {
     "name": "stdout",
     "output_type": "stream",
     "text": [
      "--2021-04-23 16:40:28--  http://cf.10xgenomics.com/samples/cell-exp/3.0.0/heart_10k_v3/heart_10k_v3_raw_feature_bc_matrix.h5\n",
      "Resolving cf.10xgenomics.com (cf.10xgenomics.com)... 104.18.1.173, 104.18.0.173, 2606:4700::6812:1ad, ...\n",
      "Connecting to cf.10xgenomics.com (cf.10xgenomics.com)|104.18.1.173|:80... connected.\n",
      "HTTP request sent, awaiting response... 301 Moved Permanently\n",
      "Location: https://cf.10xgenomics.com/samples/cell-exp/3.0.0/heart_10k_v3/heart_10k_v3_raw_feature_bc_matrix.h5 [following]\n",
      "--2021-04-23 16:40:28--  https://cf.10xgenomics.com/samples/cell-exp/3.0.0/heart_10k_v3/heart_10k_v3_raw_feature_bc_matrix.h5\n",
      "Connecting to cf.10xgenomics.com (cf.10xgenomics.com)|104.18.1.173|:443... connected.\n",
      "HTTP request sent, awaiting response... 200 OK\n",
      "Length: 167177525 (159M) [binary/octet-stream]\n",
      "Saving to: ‘/media/seth/SETH_DATA/SETH_Alex/triku_notebooks/data/10x/heart_10k_v3_raw_feature_bc_matrix.h5’\n",
      "\n",
      "heart_10k_v3_raw_fe 100%[===================>] 159,43M  19,6MB/s    in 8,9s    \n",
      "\n",
      "2021-04-23 16:40:38 (17,9 MB/s) - ‘/media/seth/SETH_DATA/SETH_Alex/triku_notebooks/data/10x/heart_10k_v3_raw_feature_bc_matrix.h5’ saved [167177525/167177525]\n",
      "\n",
      "--2021-04-23 16:40:38--  http://cf.10xgenomics.com/samples/cell-exp/3.0.0/neuron_10k_v3/neuron_10k_v3_raw_feature_bc_matrix.h5\n",
      "Resolving cf.10xgenomics.com (cf.10xgenomics.com)... 104.18.0.173, 104.18.1.173, 2606:4700::6812:ad, ...\n",
      "Connecting to cf.10xgenomics.com (cf.10xgenomics.com)|104.18.0.173|:80... connected.\n",
      "HTTP request sent, awaiting response... 301 Moved Permanently\n",
      "Location: https://cf.10xgenomics.com/samples/cell-exp/3.0.0/neuron_10k_v3/neuron_10k_v3_raw_feature_bc_matrix.h5 [following]\n",
      "--2021-04-23 16:40:38--  https://cf.10xgenomics.com/samples/cell-exp/3.0.0/neuron_10k_v3/neuron_10k_v3_raw_feature_bc_matrix.h5\n",
      "Connecting to cf.10xgenomics.com (cf.10xgenomics.com)|104.18.0.173|:443... connected.\n",
      "HTTP request sent, awaiting response... 200 OK\n",
      "Length: 187152633 (178M) [binary/octet-stream]\n",
      "Saving to: ‘/media/seth/SETH_DATA/SETH_Alex/triku_notebooks/data/10x/neuron_10k_v3_raw_feature_bc_matrix.h5’\n",
      "\n",
      "neuron_10k_v3_raw_f 100%[===================>] 178,48M  19,9MB/s    in 10s     \n",
      "\n",
      "2021-04-23 16:40:49 (17,9 MB/s) - ‘/media/seth/SETH_DATA/SETH_Alex/triku_notebooks/data/10x/neuron_10k_v3_raw_feature_bc_matrix.h5’ saved [187152633/187152633]\n",
      "\n",
      "--2021-04-23 16:40:49--  http://cf.10xgenomics.com/samples/cell-exp/3.0.0/pbmc_10k_v3/pbmc_10k_v3_raw_feature_bc_matrix.h5\n",
      "Resolving cf.10xgenomics.com (cf.10xgenomics.com)... 104.18.0.173, 104.18.1.173, 2606:4700::6812:ad, ...\n",
      "Connecting to cf.10xgenomics.com (cf.10xgenomics.com)|104.18.0.173|:80... connected.\n",
      "HTTP request sent, awaiting response... 301 Moved Permanently\n",
      "Location: https://cf.10xgenomics.com/samples/cell-exp/3.0.0/pbmc_10k_v3/pbmc_10k_v3_raw_feature_bc_matrix.h5 [following]\n",
      "--2021-04-23 16:40:49--  https://cf.10xgenomics.com/samples/cell-exp/3.0.0/pbmc_10k_v3/pbmc_10k_v3_raw_feature_bc_matrix.h5\n",
      "Connecting to cf.10xgenomics.com (cf.10xgenomics.com)|104.18.0.173|:443... connected.\n",
      "HTTP request sent, awaiting response... 200 OK\n",
      "Length: 176440812 (168M) [binary/octet-stream]\n",
      "Saving to: ‘/media/seth/SETH_DATA/SETH_Alex/triku_notebooks/data/10x/pbmc_10k_v3_raw_feature_bc_matrix.h5’\n",
      "\n",
      "pbmc_10k_v3_raw_fea 100%[===================>] 168,27M  14,0MB/s    in 11s     \n",
      "\n",
      "2021-04-23 16:41:01 (15,0 MB/s) - ‘/media/seth/SETH_DATA/SETH_Alex/triku_notebooks/data/10x/pbmc_10k_v3_raw_feature_bc_matrix.h5’ saved [176440812/176440812]\n",
      "\n"
     ]
    }
   ],
   "source": [
    "!wget http://cf.10xgenomics.com/samples/cell-exp/3.0.0/heart_10k_v3/heart_10k_v3_raw_feature_bc_matrix.h5 -P $root_dir/data/10x\n",
    "!wget http://cf.10xgenomics.com/samples/cell-exp/3.0.0/neuron_10k_v3/neuron_10k_v3_raw_feature_bc_matrix.h5 -P $root_dir/data/10x\n",
    "!wget http://cf.10xgenomics.com/samples/cell-exp/3.0.0/pbmc_10k_v3/pbmc_10k_v3_raw_feature_bc_matrix.h5 -P $root_dir/data/10x"
   ]
  },
  {
   "cell_type": "code",
   "execution_count": 37,
   "metadata": {
    "scrolled": true
   },
   "outputs": [
    {
     "name": "stdout",
     "output_type": "stream",
     "text": [
      "\n",
      "04/23 16:41:02 [\u001b[1;32mNOTICE\u001b[0m] Downloading 1 item(s)\n",
      "\n",
      "04/23 16:41:02 [\u001b[1;32mNOTICE\u001b[0m] Allocating disk space. Use --file-allocation=none to disable it. See --file-allocation option in man page for more details.\n",
      " *** Download Progress Summary as of Fri Apr 23 16:42:11 2021 ***              c:#c1eb4e 3.0GiB/24GiB(12%)]\u001b[0m\n",
      "===============================================================================\n",
      "[#c1eb4e 0B/24GiB(0%) CN:1 DL:0B]\n",
      "FILE: /media/seth/SETH_DATA/SETH_Alex/triku_notebooks/data/10x/FASTQs/neuron_10k_v3_fastqs.tar\n",
      "-------------------------------------------------------------------------------\n",
      "\n",
      " *** Download Progress Summary as of Fri Apr 23 16:43:12 2021 ***              c:#c1eb4e 5.9GiB/24GiB(23%)]\u001b[0m\n",
      "===============================================================================\n",
      "[#c1eb4e 0B/24GiB(0%) CN:1 DL:0B]\n",
      "FILE: /media/seth/SETH_DATA/SETH_Alex/triku_notebooks/data/10x/FASTQs/neuron_10k_v3_fastqs.tar\n",
      "-------------------------------------------------------------------------------\n",
      "\n",
      " *** Download Progress Summary as of Fri Apr 23 16:44:12 2021 ***              c:#c1eb4e 10GiB/24GiB(40%)]\u001b[0mm\n",
      "===============================================================================\n",
      "[#c1eb4e 0B/24GiB(0%) CN:1 DL:0B]\n",
      "FILE: /media/seth/SETH_DATA/SETH_Alex/triku_notebooks/data/10x/FASTQs/neuron_10k_v3_fastqs.tar\n",
      "-------------------------------------------------------------------------------\n",
      "\n",
      " *** Download Progress Summary as of Fri Apr 23 16:45:13 2021 ***              c:#c1eb4e 14GiB/24GiB(56%)]\u001b[0m\n",
      "===============================================================================\n",
      "[#c1eb4e 0B/24GiB(0%) CN:1 DL:0B]\n",
      "FILE: /media/seth/SETH_DATA/SETH_Alex/triku_notebooks/data/10x/FASTQs/neuron_10k_v3_fastqs.tar\n",
      "-------------------------------------------------------------------------------\n",
      "\n",
      " *** Download Progress Summary as of Fri Apr 23 16:46:14 2021 ***              c:#c1eb4e 18GiB/24GiB(72%)]\u001b[0m\n",
      "===============================================================================\n",
      "[#c1eb4e 0B/24GiB(0%) CN:1 DL:0B]\n",
      "FILE: /media/seth/SETH_DATA/SETH_Alex/triku_notebooks/data/10x/FASTQs/neuron_10k_v3_fastqs.tar\n",
      "-------------------------------------------------------------------------------\n",
      "\n",
      " *** Download Progress Summary as of Fri Apr 23 16:47:18 2021 ***              c:#c1eb4e 21GiB/24GiB(86%)]\u001b[0m\n",
      "===============================================================================\n",
      "[#c1eb4e 0B/24GiB(0%) CN:1 DL:0B]\n",
      "FILE: /media/seth/SETH_DATA/SETH_Alex/triku_notebooks/data/10x/FASTQs/neuron_10k_v3_fastqs.tar\n",
      "-------------------------------------------------------------------------------\n",
      "\n",
      " *** Download Progress Summary as of Fri Apr 23 16:48:18 2021 ***              16s\u001b[0m\u001b[35m]\u001b[0m\u001b[0m\u001b[0m)]\u001b[0m\n",
      "===============================================================================\n",
      "[#c1eb4e 230MiB/24GiB(0%) CN:5 DL:41MiB ETA:10m12s]\n",
      "FILE: /media/seth/SETH_DATA/SETH_Alex/triku_notebooks/data/10x/FASTQs/neuron_10k_v3_fastqs.tar\n",
      "-------------------------------------------------------------------------------\n",
      "\n",
      " *** Download Progress Summary as of Fri Apr 23 16:49:18 2021 ***              9s\u001b[0m\u001b[35m]\u001b[0m\u001b[0mm\n",
      "===============================================================================\n",
      "[#c1eb4e 3.4GiB/24GiB(13%) CN:5 DL:71MiB ETA:5m8s]\n",
      "FILE: /media/seth/SETH_DATA/SETH_Alex/triku_notebooks/data/10x/FASTQs/neuron_10k_v3_fastqs.tar\n",
      "-------------------------------------------------------------------------------\n",
      "\n",
      " *** Download Progress Summary as of Fri Apr 23 16:50:19 2021 ***              19s\u001b[0m\u001b[35m]\u001b[0m\u001b[0m\n",
      "===============================================================================\n",
      "[#c1eb4e 6.3GiB/24GiB(25%) CN:5 DL:73MiB ETA:4m20s]\n",
      "FILE: /media/seth/SETH_DATA/SETH_Alex/triku_notebooks/data/10x/FASTQs/neuron_10k_v3_fastqs.tar\n",
      "-------------------------------------------------------------------------------\n",
      "\n",
      " *** Download Progress Summary as of Fri Apr 23 16:51:19 2021 ***              35s\u001b[0m\u001b[35m]\u001b[0m\u001b[0m\n",
      "===============================================================================\n",
      "[#c1eb4e 9.8GiB/24GiB(39%) CN:5 DL:72MiB ETA:3m33s]\n",
      "FILE: /media/seth/SETH_DATA/SETH_Alex/triku_notebooks/data/10x/FASTQs/neuron_10k_v3_fastqs.tar\n",
      "-------------------------------------------------------------------------------\n",
      "\n",
      " *** Download Progress Summary as of Fri Apr 23 16:52:20 2021 ***              0s\u001b[0m\u001b[35m]\u001b[0m\u001b[0mm\n",
      "===============================================================================\n",
      "[#c1eb4e 12GiB/24GiB(51%) CN:5 DL:70MiB ETA:2m53s]\n",
      "FILE: /media/seth/SETH_DATA/SETH_Alex/triku_notebooks/data/10x/FASTQs/neuron_10k_v3_fastqs.tar\n",
      "-------------------------------------------------------------------------------\n",
      "\n",
      " *** Download Progress Summary as of Fri Apr 23 16:53:20 2021 ***              s\u001b[0m\u001b[35m]\u001b[0m\u001b[0mm\n",
      "===============================================================================\n",
      "[#c1eb4e 15GiB/24GiB(64%) CN:5 DL:0B]\n",
      "FILE: /media/seth/SETH_DATA/SETH_Alex/triku_notebooks/data/10x/FASTQs/neuron_10k_v3_fastqs.tar\n",
      "-------------------------------------------------------------------------------\n",
      "\n",
      " *** Download Progress Summary as of Fri Apr 23 16:54:21 2021 ***              5s\u001b[0m\u001b[35m]\u001b[0m\u001b[0m\n",
      "===============================================================================\n",
      "[#c1eb4e 18GiB/24GiB(75%) CN:5 DL:0B]\n",
      "FILE: /media/seth/SETH_DATA/SETH_Alex/triku_notebooks/data/10x/FASTQs/neuron_10k_v3_fastqs.tar\n",
      "-------------------------------------------------------------------------------\n",
      "\n",
      " *** Download Progress Summary as of Fri Apr 23 16:55:21 2021 ***              \u001b[0m\u001b[35m]\u001b[0m\u001b[0mmm\n",
      "===============================================================================\n",
      "[#c1eb4e 21GiB/24GiB(87%) CN:5 DL:0B]\n",
      "FILE: /media/seth/SETH_DATA/SETH_Alex/triku_notebooks/data/10x/FASTQs/neuron_10k_v3_fastqs.tar\n",
      "-------------------------------------------------------------------------------\n",
      "\n",
      " *** Download Progress Summary as of Fri Apr 23 16:56:22 2021 ***              [0m\u001b[35m]\u001b[0m\u001b[0mm\n",
      "===============================================================================\n",
      "[#c1eb4e 24GiB/24GiB(99%) CN:5 DL:71MiB ETA:1s]\n",
      "FILE: /media/seth/SETH_DATA/SETH_Alex/triku_notebooks/data/10x/FASTQs/neuron_10k_v3_fastqs.tar\n",
      "-------------------------------------------------------------------------------\n",
      "\n",
      "\u001b[35m[\u001b[0m#c1eb4e 24GiB/24GiB\u001b[36m(99%)\u001b[0m CN:1 DL:\u001b[32m49MiB\u001b[0m\u001b[35m]\u001b[0m\u001b[0m0m\u001b[35m]\u001b[0m\u001b[0m\n",
      "04/23 16:56:25 [\u001b[1;32mNOTICE\u001b[0m] Download complete: /media/seth/SETH_DATA/SETH_Alex/triku_notebooks/data/10x/FASTQs/neuron_10k_v3_fastqs.tar\n",
      "\n",
      "Download Results:\n",
      "gid   |stat|avg speed  |path/URI\n",
      "======+====+===========+=======================================================\n",
      "c1eb4e|\u001b[1;32mOK\u001b[0m  |    51MiB/s|/media/seth/SETH_DATA/SETH_Alex/triku_notebooks/data/10x/FASTQs/neuron_10k_v3_fastqs.tar\n",
      "\n",
      "Status Legend:\n",
      "(OK):download completed.\n",
      "\n",
      "04/23 16:56:26 [\u001b[1;32mNOTICE\u001b[0m] Downloading 1 item(s)\n",
      "\n",
      "04/23 16:56:26 [\u001b[1;32mNOTICE\u001b[0m] Allocating disk space. Use --file-allocation=none to disable it. See --file-allocation option in man page for more details.\n",
      " *** Download Progress Summary as of Fri Apr 23 16:57:30 2021 ***              c:#003463 3.8GiB/20GiB(19%)]\u001b[0m\n",
      "===============================================================================\n",
      "[#003463 0B/20GiB(0%) CN:1 DL:0B]\n",
      "FILE: /media/seth/SETH_DATA/SETH_Alex/triku_notebooks/data/10x/FASTQs/heart_10k_v3_fastqs.tar\n",
      "-------------------------------------------------------------------------------\n",
      "\n",
      " *** Download Progress Summary as of Fri Apr 23 16:58:30 2021 ***              c:#003463 6.5GiB/20GiB(32%)]\u001b[0m\n",
      "===============================================================================\n",
      "[#003463 0B/20GiB(0%) CN:1 DL:0B]\n",
      "FILE: /media/seth/SETH_DATA/SETH_Alex/triku_notebooks/data/10x/FASTQs/heart_10k_v3_fastqs.tar\n",
      "-------------------------------------------------------------------------------\n",
      "\n",
      " *** Download Progress Summary as of Fri Apr 23 16:59:31 2021 ***              c:#003463 9.3GiB/20GiB(46%)]\u001b[0m\n",
      "===============================================================================\n",
      "[#003463 0B/20GiB(0%) CN:1 DL:0B]\n",
      "FILE: /media/seth/SETH_DATA/SETH_Alex/triku_notebooks/data/10x/FASTQs/heart_10k_v3_fastqs.tar\n",
      "-------------------------------------------------------------------------------\n",
      "\n",
      " *** Download Progress Summary as of Fri Apr 23 17:00:31 2021 ***              c:#003463 12GiB/20GiB(61%)]\u001b[0mm\n",
      "===============================================================================\n",
      "[#003463 0B/20GiB(0%) CN:1 DL:0B]\n",
      "FILE: /media/seth/SETH_DATA/SETH_Alex/triku_notebooks/data/10x/FASTQs/heart_10k_v3_fastqs.tar\n",
      "-------------------------------------------------------------------------------\n",
      "\n",
      " *** Download Progress Summary as of Fri Apr 23 17:01:36 2021 ***              c:#003463 14GiB/20GiB(73%)]\u001b[0m\n",
      "===============================================================================\n",
      "[#003463 0B/20GiB(0%) CN:1 DL:0B]\n",
      "FILE: /media/seth/SETH_DATA/SETH_Alex/triku_notebooks/data/10x/FASTQs/heart_10k_v3_fastqs.tar\n",
      "-------------------------------------------------------------------------------\n",
      "\n",
      " *** Download Progress Summary as of Fri Apr 23 17:02:36 2021 ***              c:#003463 16GiB/20GiB(83%)]\u001b[0m\n",
      "===============================================================================\n",
      "[#003463 0B/20GiB(0%) CN:1 DL:0B]\n",
      "FILE: /media/seth/SETH_DATA/SETH_Alex/triku_notebooks/data/10x/FASTQs/heart_10k_v3_fastqs.tar\n",
      "-------------------------------------------------------------------------------\n",
      "\n",
      " *** Download Progress Summary as of Fri Apr 23 17:03:37 2021 ***              c:#003463 19GiB/20GiB(96%)]\u001b[0m\n",
      "===============================================================================\n",
      "[#003463 0B/20GiB(0%) CN:1 DL:0B]\n",
      "FILE: /media/seth/SETH_DATA/SETH_Alex/triku_notebooks/data/10x/FASTQs/heart_10k_v3_fastqs.tar\n",
      "-------------------------------------------------------------------------------\n",
      "\n",
      " *** Download Progress Summary as of Fri Apr 23 17:04:56 2021 ***              8s\u001b[0m\u001b[35m]\u001b[0m\u001b[0mm[0mm)]\u001b[0m\n",
      "===============================================================================\n",
      "[#003463 2.4GiB/20GiB(12%) CN:5 DL:0B]\n",
      "FILE: /media/seth/SETH_DATA/SETH_Alex/triku_notebooks/data/10x/FASTQs/heart_10k_v3_fastqs.tar\n",
      "-------------------------------------------------------------------------------\n",
      "\n",
      " *** Download Progress Summary as of Fri Apr 23 17:05:56 2021 ***              29s\u001b[0m\u001b[35m]\u001b[0m\u001b[0m\n",
      "===============================================================================\n",
      "[#003463 5.3GiB/20GiB(26%) CN:5 DL:72MiB ETA:3m28s]\n",
      "FILE: /media/seth/SETH_DATA/SETH_Alex/triku_notebooks/data/10x/FASTQs/heart_10k_v3_fastqs.tar\n",
      "-------------------------------------------------------------------------------\n",
      "\n",
      " *** Download Progress Summary as of Fri Apr 23 17:06:57 2021 ***              50s\u001b[0m\u001b[35m]\u001b[0m\u001b[0m\n",
      "===============================================================================\n",
      "[#003463 8.0GiB/20GiB(40%) CN:5 DL:0B]\n",
      "FILE: /media/seth/SETH_DATA/SETH_Alex/triku_notebooks/data/10x/FASTQs/heart_10k_v3_fastqs.tar\n",
      "-------------------------------------------------------------------------------\n",
      "\n",
      " *** Download Progress Summary as of Fri Apr 23 17:07:58 2021 ***              7s\u001b[0m\u001b[35m]\u001b[0m\u001b[0mm\n",
      "===============================================================================\n",
      "[#003463 10GiB/20GiB(54%) CN:5 DL:69MiB ETA:2m13s]\n",
      "FILE: /media/seth/SETH_DATA/SETH_Alex/triku_notebooks/data/10x/FASTQs/heart_10k_v3_fastqs.tar\n",
      "-------------------------------------------------------------------------------\n",
      "\n",
      " *** Download Progress Summary as of Fri Apr 23 17:08:58 2021 ***              2s\u001b[0m\u001b[35m]\u001b[0m\u001b[0m\n",
      "===============================================================================\n",
      "[#003463 13GiB/20GiB(67%) CN:5 DL:66MiB ETA:1m38s]\n",
      "FILE: /media/seth/SETH_DATA/SETH_Alex/triku_notebooks/data/10x/FASTQs/heart_10k_v3_fastqs.tar\n",
      "-------------------------------------------------------------------------------\n",
      "\n",
      " *** Download Progress Summary as of Fri Apr 23 17:09:59 2021 ***              \u001b[0m\u001b[35m]\u001b[0m\u001b[0mmm\n",
      "===============================================================================\n",
      "[#003463 16GiB/20GiB(82%) CN:5 DL:72MiB ETA:49s]\n",
      "FILE: /media/seth/SETH_DATA/SETH_Alex/triku_notebooks/data/10x/FASTQs/heart_10k_v3_fastqs.tar\n",
      "-------------------------------------------------------------------------------\n",
      "\n",
      " *** Download Progress Summary as of Fri Apr 23 17:10:59 2021 ***              \u001b[0m\u001b[35m]\u001b[0m\u001b[0m0m\n",
      "===============================================================================\n",
      "[#003463 19GiB/20GiB(96%) CN:5 DL:62MiB ETA:12s]\n",
      "FILE: /media/seth/SETH_DATA/SETH_Alex/triku_notebooks/data/10x/FASTQs/heart_10k_v3_fastqs.tar\n",
      "-------------------------------------------------------------------------------\n",
      "\n",
      "\u001b[35m[\u001b[0m#003463 20GiB/20GiB\u001b[36m(99%)\u001b[0m CN:1 DL:\u001b[32m55MiB\u001b[0m\u001b[35m]\u001b[0m\u001b[0m0m\u001b[35m]\u001b[0m\u001b[0mm\n",
      "04/23 17:11:12 [\u001b[1;32mNOTICE\u001b[0m] Download complete: /media/seth/SETH_DATA/SETH_Alex/triku_notebooks/data/10x/FASTQs/heart_10k_v3_fastqs.tar\n",
      "\n",
      "Download Results:\n",
      "gid   |stat|avg speed  |path/URI\n",
      "======+====+===========+=======================================================\n",
      "003463|\u001b[1;32mOK\u001b[0m  |    45MiB/s|/media/seth/SETH_DATA/SETH_Alex/triku_notebooks/data/10x/FASTQs/heart_10k_v3_fastqs.tar\n",
      "\n",
      "Status Legend:\n",
      "(OK):download completed.\n",
      "\n",
      "04/23 17:11:12 [\u001b[1;32mNOTICE\u001b[0m] Downloading 1 item(s)\n",
      "\n",
      "04/23 17:11:13 [\u001b[1;32mNOTICE\u001b[0m] Allocating disk space. Use --file-allocation=none to disable it. See --file-allocation option in man page for more details.\n",
      " *** Download Progress Summary as of Fri Apr 23 17:12:21 2021 ***              c:#b3943a 4.3GiB/48GiB(9%)]\u001b[0m\n",
      "===============================================================================\n",
      "[#b3943a 0B/48GiB(0%) CN:1 DL:0B]\n",
      "FILE: /media/seth/SETH_DATA/SETH_Alex/triku_notebooks/data/10x/FASTQs/pbmc_10k_v3_fastqs.tar\n",
      "-------------------------------------------------------------------------------\n",
      "\n",
      " *** Download Progress Summary as of Fri Apr 23 17:13:22 2021 ***              c:#b3943a 8.7GiB/48GiB(18%)]\u001b[0m\n",
      "===============================================================================\n",
      "[#b3943a 0B/48GiB(0%) CN:1 DL:0B]\n",
      "FILE: /media/seth/SETH_DATA/SETH_Alex/triku_notebooks/data/10x/FASTQs/pbmc_10k_v3_fastqs.tar\n",
      "-------------------------------------------------------------------------------\n",
      "\n",
      " *** Download Progress Summary as of Fri Apr 23 17:14:22 2021 ***              c:#b3943a 12GiB/48GiB(26%)]\u001b[0mm\n",
      "===============================================================================\n",
      "[#b3943a 0B/48GiB(0%) CN:1 DL:0B]\n",
      "FILE: /media/seth/SETH_DATA/SETH_Alex/triku_notebooks/data/10x/FASTQs/pbmc_10k_v3_fastqs.tar\n",
      "-------------------------------------------------------------------------------\n",
      "\n",
      " *** Download Progress Summary as of Fri Apr 23 17:15:22 2021 ***              c:#b3943a 15GiB/48GiB(32%)]\u001b[0m\n",
      "===============================================================================\n",
      "[#b3943a 0B/48GiB(0%) CN:1 DL:0B]\n",
      "FILE: /media/seth/SETH_DATA/SETH_Alex/triku_notebooks/data/10x/FASTQs/pbmc_10k_v3_fastqs.tar\n",
      "-------------------------------------------------------------------------------\n",
      "\n",
      " *** Download Progress Summary as of Fri Apr 23 17:16:23 2021 ***              c:#b3943a 19GiB/48GiB(40%)]\u001b[0m\n",
      "===============================================================================\n",
      "[#b3943a 0B/48GiB(0%) CN:1 DL:0B]\n",
      "FILE: /media/seth/SETH_DATA/SETH_Alex/triku_notebooks/data/10x/FASTQs/pbmc_10k_v3_fastqs.tar\n",
      "-------------------------------------------------------------------------------\n",
      "\n",
      " *** Download Progress Summary as of Fri Apr 23 17:17:23 2021 ***              c:#b3943a 23GiB/48GiB(48%)]\u001b[0m\n",
      "===============================================================================\n",
      "[#b3943a 0B/48GiB(0%) CN:1 DL:0B]\n",
      "FILE: /media/seth/SETH_DATA/SETH_Alex/triku_notebooks/data/10x/FASTQs/pbmc_10k_v3_fastqs.tar\n",
      "-------------------------------------------------------------------------------\n",
      "\n",
      " *** Download Progress Summary as of Fri Apr 23 17:18:29 2021 ***              c:#b3943a 27GiB/48GiB(56%)]\u001b[0m\n",
      "===============================================================================\n",
      "[#b3943a 0B/48GiB(0%) CN:1 DL:0B]\n",
      "FILE: /media/seth/SETH_DATA/SETH_Alex/triku_notebooks/data/10x/FASTQs/pbmc_10k_v3_fastqs.tar\n",
      "-------------------------------------------------------------------------------\n",
      "\n",
      " *** Download Progress Summary as of Fri Apr 23 17:19:30 2021 ***              c:#b3943a 30GiB/48GiB(64%)]\u001b[0m\n",
      "===============================================================================\n",
      "[#b3943a 0B/48GiB(0%) CN:1 DL:0B]\n",
      "FILE: /media/seth/SETH_DATA/SETH_Alex/triku_notebooks/data/10x/FASTQs/pbmc_10k_v3_fastqs.tar\n",
      "-------------------------------------------------------------------------------\n",
      "\n",
      " *** Download Progress Summary as of Fri Apr 23 17:20:31 2021 ***              c:#b3943a 34GiB/48GiB(72%)]\u001b[0m\n",
      "===============================================================================\n",
      "[#b3943a 0B/48GiB(0%) CN:1 DL:0B]\n",
      "FILE: /media/seth/SETH_DATA/SETH_Alex/triku_notebooks/data/10x/FASTQs/pbmc_10k_v3_fastqs.tar\n",
      "-------------------------------------------------------------------------------\n",
      "\n",
      " *** Download Progress Summary as of Fri Apr 23 17:21:32 2021 ***              c:#b3943a 38GiB/48GiB(80%)]\u001b[0m\n",
      "===============================================================================\n",
      "[#b3943a 0B/48GiB(0%) CN:1 DL:0B]\n",
      "FILE: /media/seth/SETH_DATA/SETH_Alex/triku_notebooks/data/10x/FASTQs/pbmc_10k_v3_fastqs.tar\n",
      "-------------------------------------------------------------------------------\n",
      "\n",
      " *** Download Progress Summary as of Fri Apr 23 17:22:32 2021 ***              c:#b3943a 42GiB/48GiB(87%)]\u001b[0m\n",
      "===============================================================================\n",
      "[#b3943a 0B/48GiB(0%) CN:1 DL:0B]\n",
      "FILE: /media/seth/SETH_DATA/SETH_Alex/triku_notebooks/data/10x/FASTQs/pbmc_10k_v3_fastqs.tar\n",
      "-------------------------------------------------------------------------------\n",
      "\n",
      " *** Download Progress Summary as of Fri Apr 23 17:23:33 2021 ***              c:#b3943a 45GiB/48GiB(95%)]\u001b[0m\n",
      "===============================================================================\n",
      "[#b3943a 0B/48GiB(0%) CN:1 DL:0B]\n",
      "FILE: /media/seth/SETH_DATA/SETH_Alex/triku_notebooks/data/10x/FASTQs/pbmc_10k_v3_fastqs.tar\n",
      "-------------------------------------------------------------------------------\n",
      "\n",
      " *** Download Progress Summary as of Fri Apr 23 17:24:33 2021 ***              43s\u001b[0m\u001b[35m]\u001b[0m\u001b[0m0m0m)]\u001b[0m\n",
      "===============================================================================\n",
      "[#b3943a 1.0GiB/48GiB(2%) CN:5 DL:54MiB ETA:14m47s]\n",
      "FILE: /media/seth/SETH_DATA/SETH_Alex/triku_notebooks/data/10x/FASTQs/pbmc_10k_v3_fastqs.tar\n",
      "-------------------------------------------------------------------------------\n",
      "\n",
      " *** Download Progress Summary as of Fri Apr 23 17:25:34 2021 ***              14s\u001b[0m\u001b[35m]\u001b[0m\u001b[0m0m\n",
      "===============================================================================\n",
      "[#b3943a 4.3GiB/48GiB(9%) CN:5 DL:39MiB ETA:19m2s]\n",
      "FILE: /media/seth/SETH_DATA/SETH_Alex/triku_notebooks/data/10x/FASTQs/pbmc_10k_v3_fastqs.tar\n",
      "-------------------------------------------------------------------------------\n",
      "\n",
      " *** Download Progress Summary as of Fri Apr 23 17:26:35 2021 ***              m58s\u001b[0m\u001b[35m]\u001b[0m\u001b[0m\n",
      "===============================================================================\n",
      "[#b3943a 7.3GiB/48GiB(15%) CN:5 DL:17MiB ETA:39m23s]\n",
      "FILE: /media/seth/SETH_DATA/SETH_Alex/triku_notebooks/data/10x/FASTQs/pbmc_10k_v3_fastqs.tar\n",
      "-------------------------------------------------------------------------------\n",
      "\n",
      " *** Download Progress Summary as of Fri Apr 23 17:27:35 2021 ***              5s\u001b[0m\u001b[35m]\u001b[0m\u001b[0mmm\n",
      "===============================================================================\n",
      "[#b3943a 10GiB/48GiB(21%) CN:5 DL:39MiB ETA:16m16s]\n",
      "FILE: /media/seth/SETH_DATA/SETH_Alex/triku_notebooks/data/10x/FASTQs/pbmc_10k_v3_fastqs.tar\n",
      "-------------------------------------------------------------------------------\n",
      "\n",
      " *** Download Progress Summary as of Fri Apr 23 17:28:37 2021 ***              3s\u001b[0m\u001b[35m]\u001b[0m\u001b[0mm\n",
      "===============================================================================\n",
      "[#b3943a 14GiB/48GiB(29%) CN:5 DL:10MiB ETA:53m57s]\n",
      "FILE: /media/seth/SETH_DATA/SETH_Alex/triku_notebooks/data/10x/FASTQs/pbmc_10k_v3_fastqs.tar\n",
      "-------------------------------------------------------------------------------\n",
      "\n",
      " *** Download Progress Summary as of Fri Apr 23 17:29:37 2021 ***              6s\u001b[0m\u001b[35m]\u001b[0m\u001b[0mm\n",
      "===============================================================================\n",
      "[#b3943a 16GiB/48GiB(34%) CN:5 DL:48MiB ETA:11m4s]\n",
      "FILE: /media/seth/SETH_DATA/SETH_Alex/triku_notebooks/data/10x/FASTQs/pbmc_10k_v3_fastqs.tar\n",
      "-------------------------------------------------------------------------------\n",
      "\n",
      " *** Download Progress Summary as of Fri Apr 23 17:30:43 2021 ***              7s\u001b[0m\u001b[35m]\u001b[0m\u001b[0m\n",
      "===============================================================================\n",
      "[#b3943a 20GiB/48GiB(42%) CN:5 DL:0B]\n",
      "FILE: /media/seth/SETH_DATA/SETH_Alex/triku_notebooks/data/10x/FASTQs/pbmc_10k_v3_fastqs.tar\n",
      "-------------------------------------------------------------------------------\n",
      "\n",
      " *** Download Progress Summary as of Fri Apr 23 17:31:44 2021 ***              2s\u001b[0m\u001b[35m]\u001b[0m\u001b[0mm\n",
      "===============================================================================\n",
      "[#b3943a 23GiB/48GiB(49%) CN:5 DL:73MiB ETA:5m38s]\n",
      "FILE: /media/seth/SETH_DATA/SETH_Alex/triku_notebooks/data/10x/FASTQs/pbmc_10k_v3_fastqs.tar\n",
      "-------------------------------------------------------------------------------\n",
      "\n",
      " *** Download Progress Summary as of Fri Apr 23 17:32:45 2021 ***              46s\u001b[0m\u001b[35m]\u001b[0m\u001b[0m\n",
      "===============================================================================\n",
      "[#b3943a 26GiB/48GiB(55%) CN:5 DL:31MiB ETA:11m23s]\n",
      "FILE: /media/seth/SETH_DATA/SETH_Alex/triku_notebooks/data/10x/FASTQs/pbmc_10k_v3_fastqs.tar\n",
      "-------------------------------------------------------------------------------\n",
      "\n",
      " *** Download Progress Summary as of Fri Apr 23 17:33:45 2021 ***              25s\u001b[0m\u001b[35m]\u001b[0m\u001b[0mm\n",
      "===============================================================================\n",
      "[#b3943a 27GiB/48GiB(57%) CN:5 DL:12MiB ETA:28m49s]\n",
      "FILE: /media/seth/SETH_DATA/SETH_Alex/triku_notebooks/data/10x/FASTQs/pbmc_10k_v3_fastqs.tar\n",
      "-------------------------------------------------------------------------------\n",
      "\n",
      " *** Download Progress Summary as of Fri Apr 23 17:34:46 2021 ***              m30s\u001b[0m\u001b[35m]\u001b[0m\u001b[0mm\n",
      "===============================================================================\n",
      "[#b3943a 28GiB/48GiB(59%) CN:5 DL:6.9MiB ETA:48m33s]\n",
      "FILE: /media/seth/SETH_DATA/SETH_Alex/triku_notebooks/data/10x/FASTQs/pbmc_10k_v3_fastqs.tar\n",
      "-------------------------------------------------------------------------------\n",
      "\n",
      " *** Download Progress Summary as of Fri Apr 23 17:35:46 2021 ***              25s\u001b[0m\u001b[35m]\u001b[0m\u001b[0mmmm\n",
      "===============================================================================\n",
      "[#b3943a 28GiB/48GiB(60%) CN:5 DL:14MiB ETA:22m16s]\n",
      "FILE: /media/seth/SETH_DATA/SETH_Alex/triku_notebooks/data/10x/FASTQs/pbmc_10k_v3_fastqs.tar\n",
      "-------------------------------------------------------------------------------\n",
      "\n",
      " *** Download Progress Summary as of Fri Apr 23 17:36:47 2021 ***              51s\u001b[0m\u001b[35m]\u001b[0m\u001b[0mm\n",
      "===============================================================================\n",
      "[#b3943a 29GiB/48GiB(61%) CN:5 DL:19MiB ETA:15m56s]\n",
      "FILE: /media/seth/SETH_DATA/SETH_Alex/triku_notebooks/data/10x/FASTQs/pbmc_10k_v3_fastqs.tar\n",
      "-------------------------------------------------------------------------------\n",
      "\n",
      " *** Download Progress Summary as of Fri Apr 23 17:37:47 2021 ***              6s\u001b[0m\u001b[35m]\u001b[0m\u001b[0mmm\n",
      "===============================================================================\n",
      "[#b3943a 30GiB/48GiB(64%) CN:5 DL:64MiB ETA:4m32s]\n",
      "FILE: /media/seth/SETH_DATA/SETH_Alex/triku_notebooks/data/10x/FASTQs/pbmc_10k_v3_fastqs.tar\n",
      "-------------------------------------------------------------------------------\n",
      "\n",
      " *** Download Progress Summary as of Fri Apr 23 17:38:50 2021 ***              5s\u001b[0m\u001b[35m]\u001b[0m\u001b[0m\n",
      "===============================================================================\n",
      "[#b3943a 33GiB/48GiB(70%) CN:5 DL:0B]\n",
      "FILE: /media/seth/SETH_DATA/SETH_Alex/triku_notebooks/data/10x/FASTQs/pbmc_10k_v3_fastqs.tar\n",
      "-------------------------------------------------------------------------------\n",
      "\n",
      " *** Download Progress Summary as of Fri Apr 23 17:39:51 2021 ***              2s\u001b[0m\u001b[35m]\u001b[0m\u001b[0m\n",
      "===============================================================================\n",
      "[#b3943a 36GiB/48GiB(76%) CN:5 DL:67MiB ETA:2m52s]\n",
      "FILE: /media/seth/SETH_DATA/SETH_Alex/triku_notebooks/data/10x/FASTQs/pbmc_10k_v3_fastqs.tar\n",
      "-------------------------------------------------------------------------------\n",
      "\n",
      " *** Download Progress Summary as of Fri Apr 23 17:40:52 2021 ***              [0m\u001b[35m]\u001b[0m\u001b[0m0mm\n",
      "===============================================================================\n",
      "[#b3943a 39GiB/48GiB(82%) CN:5 DL:72MiB ETA:1m58s]\n",
      "FILE: /media/seth/SETH_DATA/SETH_Alex/triku_notebooks/data/10x/FASTQs/pbmc_10k_v3_fastqs.tar\n",
      "-------------------------------------------------------------------------------\n",
      "\n",
      " *** Download Progress Summary as of Fri Apr 23 17:41:52 2021 ***              4s\u001b[0m\u001b[35m]\u001b[0m\u001b[0m\n",
      "===============================================================================\n",
      "[#b3943a 42GiB/48GiB(88%) CN:5 DL:73MiB ETA:1m13s]\n",
      "FILE: /media/seth/SETH_DATA/SETH_Alex/triku_notebooks/data/10x/FASTQs/pbmc_10k_v3_fastqs.tar\n",
      "-------------------------------------------------------------------------------\n",
      "\n",
      " *** Download Progress Summary as of Fri Apr 23 17:42:52 2021 ***              \u001b[0m\u001b[35m]\u001b[0m\u001b[0mmm\n",
      "===============================================================================\n",
      "[#b3943a 45GiB/48GiB(95%) CN:5 DL:68MiB ETA:32s]\n",
      "FILE: /media/seth/SETH_DATA/SETH_Alex/triku_notebooks/data/10x/FASTQs/pbmc_10k_v3_fastqs.tar\n",
      "-------------------------------------------------------------------------------\n",
      "\n",
      "\u001b[35m[\u001b[0m#b3943a 48GiB/48GiB\u001b[36m(99%)\u001b[0m CN:1 DL:\u001b[32m58MiB\u001b[0m\u001b[35m]\u001b[0m\u001b[0m0m\u001b[35m]\u001b[0m\u001b[0mm\n",
      "04/23 17:43:25 [\u001b[1;32mNOTICE\u001b[0m] Download complete: /media/seth/SETH_DATA/SETH_Alex/triku_notebooks/data/10x/FASTQs/pbmc_10k_v3_fastqs.tar\n",
      "\n",
      "Download Results:\n",
      "gid   |stat|avg speed  |path/URI\n",
      "======+====+===========+=======================================================\n",
      "b3943a|\u001b[1;32mOK\u001b[0m  |    42MiB/s|/media/seth/SETH_DATA/SETH_Alex/triku_notebooks/data/10x/FASTQs/pbmc_10k_v3_fastqs.tar\n",
      "\n",
      "Status Legend:\n",
      "(OK):download completed.\n"
     ]
    }
   ],
   "source": [
    "!aria2c -x 8 http://s3-us-west-2.amazonaws.com/10x.files/samples/cell-exp/3.0.0/neuron_10k_v3/neuron_10k_v3_fastqs.tar -d $root_dir/data/10x/FASTQs\n",
    "!aria2c -x 8 http://s3-us-west-2.amazonaws.com/10x.files/samples/cell-exp/3.0.0/heart_10k_v3/heart_10k_v3_fastqs.tar -d $root_dir/data/10x/FASTQs\n",
    "!aria2c -x 8 http://s3-us-west-2.amazonaws.com/10x.files/samples/cell-exp/3.0.0/pbmc_10k_v3/pbmc_10k_v3_fastqs.tar -d $root_dir/data/10x/FASTQs"
   ]
  },
  {
   "cell_type": "code",
   "execution_count": 38,
   "metadata": {},
   "outputs": [
    {
     "name": "stdout",
     "output_type": "stream",
     "text": [
      "neuron_10k_v3_fastqs/\n",
      "neuron_10k_v3_fastqs/neuron_10k_v3_S1_L002_R2_001.fastq.gz\n",
      "neuron_10k_v3_fastqs/neuron_10k_v3_S1_L001_I1_001.fastq.gz\n",
      "neuron_10k_v3_fastqs/neuron_10k_v3_S1_L002_R1_001.fastq.gz\n",
      "neuron_10k_v3_fastqs/neuron_10k_v3_S1_L001_R1_001.fastq.gz\n",
      "neuron_10k_v3_fastqs/neuron_10k_v3_S1_L001_R2_001.fastq.gz\n",
      "neuron_10k_v3_fastqs/neuron_10k_v3_S1_L002_I1_001.fastq.gz\n",
      "heart_10k_v3_fastqs/\n",
      "heart_10k_v3_fastqs/heart_10k_v3_S1_L002_R2_001.fastq.gz\n",
      "heart_10k_v3_fastqs/heart_10k_v3_S1_L001_I1_001.fastq.gz\n",
      "heart_10k_v3_fastqs/heart_10k_v3_S1_L002_R1_001.fastq.gz\n",
      "heart_10k_v3_fastqs/heart_10k_v3_S1_L001_R1_001.fastq.gz\n",
      "heart_10k_v3_fastqs/heart_10k_v3_S1_L001_R2_001.fastq.gz\n",
      "heart_10k_v3_fastqs/heart_10k_v3_S1_L002_I1_001.fastq.gz\n",
      "pbmc_10k_v3_fastqs/\n",
      "pbmc_10k_v3_fastqs/pbmc_10k_v3_S1_L001_R1_001.fastq.gz\n",
      "pbmc_10k_v3_fastqs/pbmc_10k_v3_S1_L002_I1_001.fastq.gz\n",
      "pbmc_10k_v3_fastqs/pbmc_10k_v3_S1_L001_R2_001.fastq.gz\n",
      "pbmc_10k_v3_fastqs/pbmc_10k_v3_S1_L001_I1_001.fastq.gz\n",
      "pbmc_10k_v3_fastqs/pbmc_10k_v3_S1_L002_R2_001.fastq.gz\n",
      "pbmc_10k_v3_fastqs/pbmc_10k_v3_S1_L002_R1_001.fastq.gz\n"
     ]
    }
   ],
   "source": [
    "!tar -xvf $root_dir/data/10x/FASTQs/neuron_10k_v3_fastqs.tar -C $root_dir/data/10x/FASTQs/\n",
    "!tar -xvf $root_dir/data/10x/FASTQs/heart_10k_v3_fastqs.tar -C $root_dir/data/10x/FASTQs/\n",
    "!tar -xvf $root_dir/data/10x/FASTQs/pbmc_10k_v3_fastqs.tar -C $root_dir/data/10x/FASTQs/"
   ]
  },
  {
   "cell_type": "code",
   "execution_count": 39,
   "metadata": {},
   "outputs": [
    {
     "name": "stdout",
     "output_type": "stream",
     "text": [
      "\n",
      "04/23 18:29:19 [\u001b[1;32mNOTICE\u001b[0m] Downloading 1 item(s)\n",
      "\n",
      "04/23 18:29:20 [\u001b[1;32mNOTICE\u001b[0m] Allocating disk space. Use --file-allocation=none to disable it. See --file-allocation option in man page for more details.\n",
      "\u001b[35m[\u001b[0m#2f2a86 19MiB/32MiB\u001b[36m(61%)\u001b[0m CN:1 DL:\u001b[32m26MiB\u001b[0m\u001b[35m]\u001b[0m\u001b[0m:#2f2a86 28MiB/32MiB(87%)]\u001b[0m\n",
      "04/23 18:29:28 [\u001b[1;32mNOTICE\u001b[0m] Download complete: /media/seth/SETH_DATA/SETH_Alex/triku_notebooks/data/references/gencode.vM25.pc_transcripts.fa.gz\n",
      "\n",
      "Download Results:\n",
      "gid   |stat|avg speed  |path/URI\n",
      "======+====+===========+=======================================================\n",
      "2f2a86|\u001b[1;32mOK\u001b[0m  |   4.5MiB/s|/media/seth/SETH_DATA/SETH_Alex/triku_notebooks/data/references/gencode.vM25.pc_transcripts.fa.gz\n",
      "\n",
      "Status Legend:\n",
      "(OK):download completed.\n",
      "\n",
      "04/23 18:29:28 [\u001b[1;32mNOTICE\u001b[0m] Downloading 1 item(s)\n",
      "\n",
      "04/23 18:29:29 [\u001b[1;32mNOTICE\u001b[0m] Allocating disk space. Use --file-allocation=none to disable it. See --file-allocation option in man page for more details.\n",
      "\u001b[35m[\u001b[0m#1ffacb 20MiB/27MiB\u001b[36m(73%)\u001b[0m CN:1 DL:\u001b[32m25MiB\u001b[0m\u001b[35m]\u001b[0m\u001b[0m\n",
      "04/23 18:29:31 [\u001b[1;32mNOTICE\u001b[0m] Download complete: /media/seth/SETH_DATA/SETH_Alex/triku_notebooks/data/references/gencode.vM25.primary_assembly.annotation.gtf.gz\n",
      "\n",
      "Download Results:\n",
      "gid   |stat|avg speed  |path/URI\n",
      "======+====+===========+=======================================================\n",
      "1ffacb|\u001b[1;32mOK\u001b[0m  |    18MiB/s|/media/seth/SETH_DATA/SETH_Alex/triku_notebooks/data/references/gencode.vM25.primary_assembly.annotation.gtf.gz\n",
      "\n",
      "Status Legend:\n",
      "(OK):download completed.\n",
      "\n",
      "04/23 18:29:31 [\u001b[1;32mNOTICE\u001b[0m] Downloading 1 item(s)\n",
      "\n",
      "04/23 18:29:31 [\u001b[1;32mNOTICE\u001b[0m] Allocating disk space. Use --file-allocation=none to disable it. See --file-allocation option in man page for more details.\n",
      "\u001b[35m[\u001b[0m#d57363 35MiB/41MiB\u001b[36m(85%)\u001b[0m CN:1 DL:\u001b[32m28MiB\u001b[0m\u001b[35m]\u001b[0m\u001b[0m\u001b[0m\u001b[35m]\u001b[0m\u001b[0miB(85%)]\u001b[0m\n",
      "04/23 18:29:34 [\u001b[1;32mNOTICE\u001b[0m] Download complete: /media/seth/SETH_DATA/SETH_Alex/triku_notebooks/data/references/gencode.v34.pc_transcripts.fa.gz\n",
      "\n",
      "Download Results:\n",
      "gid   |stat|avg speed  |path/URI\n",
      "======+====+===========+=======================================================\n",
      "d57363|\u001b[1;32mOK\u001b[0m  |    19MiB/s|/media/seth/SETH_DATA/SETH_Alex/triku_notebooks/data/references/gencode.v34.pc_transcripts.fa.gz\n",
      "\n",
      "Status Legend:\n",
      "(OK):download completed.\n",
      "\n",
      "04/23 18:29:34 [\u001b[1;32mNOTICE\u001b[0m] Downloading 1 item(s)\n",
      "\n",
      "04/23 18:29:35 [\u001b[1;32mNOTICE\u001b[0m] Allocating disk space. Use --file-allocation=none to disable it. See --file-allocation option in man page for more details.\n",
      "\u001b[35m[\u001b[0m#f2de2b 28MiB/41MiB\u001b[36m(69%)\u001b[0m CN:1 DL:\u001b[32m26MiB\u001b[0m\u001b[35m]\u001b[0m\u001b[0ms\u001b[0m\u001b[35m]\u001b[0m\u001b[0mB(73%)]\u001b[0m\n",
      "04/23 18:29:37 [\u001b[1;32mNOTICE\u001b[0m] Download complete: /media/seth/SETH_DATA/SETH_Alex/triku_notebooks/data/references/gencode.v34.primary_assembly.annotation.gtf.gz\n",
      "\n",
      "Download Results:\n",
      "gid   |stat|avg speed  |path/URI\n",
      "======+====+===========+=======================================================\n",
      "f2de2b|\u001b[1;32mOK\u001b[0m  |    19MiB/s|/media/seth/SETH_DATA/SETH_Alex/triku_notebooks/data/references/gencode.v34.primary_assembly.annotation.gtf.gz\n",
      "\n",
      "Status Legend:\n",
      "(OK):download completed.\n"
     ]
    }
   ],
   "source": [
    "!aria2c -x 16 ftp://ftp.ebi.ac.uk/pub/databases/gencode/Gencode_mouse/release_M25/gencode.vM25.pc_transcripts.fa.gz -d $root_dir/data/references\n",
    "!aria2c -x 16 ftp://ftp.ebi.ac.uk/pub/databases/gencode/Gencode_mouse/release_M25/gencode.vM25.primary_assembly.annotation.gtf.gz -d $root_dir/data/references\n",
    "    \n",
    "!aria2c -x 16 ftp://ftp.ebi.ac.uk/pub/databases/gencode/Gencode_human/release_34/gencode.v34.pc_transcripts.fa.gz -d $root_dir/data/references\n",
    "!aria2c -x 16 ftp://ftp.ebi.ac.uk/pub/databases/gencode/Gencode_human/release_34/gencode.v34.primary_assembly.annotation.gtf.gz -d $root_dir/data/references"
   ]
  },
  {
   "cell_type": "code",
   "execution_count": 40,
   "metadata": {},
   "outputs": [],
   "source": [
    "for prefix in ['vM25', 'v34']:\n",
    "    with gzip.open(f'{root_dir}/data/references/gencode.{prefix}.pc_transcripts.fa.gz', 'r') as f:\n",
    "        lines = f.readlines()\n",
    "\n",
    "    t2gdict = {}\n",
    "    for i, line in enumerate(lines):\n",
    "        line = line.decode('utf-8')\n",
    "        if line.startswith('>'):\n",
    "            t = line.split('|')[0]\n",
    "            t2gdict[f'{t[1:]}'] = line.split('|')[5]\n",
    "            lines[i] = t + '\\n'\n",
    "        else:\n",
    "            lines[i] = line\n",
    "\n",
    "    df = pd.DataFrame(t2gdict.items())\n",
    "    df.to_csv(f'{root_dir}/data/references/txp2gene_{prefix}.tsv', sep='\\t', header=None, index=None)\n",
    "\n",
    "    with open(f'{root_dir}/data/references/gencode.{prefix}.pc_transcripts.fa', 'w') as f:\n",
    "        f.writelines(lines)"
   ]
  },
  {
   "cell_type": "code",
   "execution_count": 41,
   "metadata": {
    "scrolled": true
   },
   "outputs": [
    {
     "name": "stdout",
     "output_type": "stream",
     "text": [
      "Version Info: ### PLEASE UPGRADE SALMON ###\n",
      "### A newer version of salmon with bug fixes is available. ####\n",
      "###\n",
      "The newest version, available at https://github.com/COMBINE-lab/salmon/releases\n",
      "contains new features, improvements, and bug fixes; please upgrade at your\n",
      "earliest convenience.\n",
      "###\n",
      "Sign up for the salmon mailing list to hear about new versions, features and updates at:\n",
      "https://oceangenomics.com/subscribe\n",
      "###\n",
      "index [\"/media/seth/SETH_DATA/SETH_Alex/triku_notebooks/data/references/index_mouse\"] did not previously exist  . . . creating it\n",
      "[2021-04-23 18:29:57.978] [jLog] [info] building index\n",
      "\u001b[00m[2021-04-23 18:29:57.981] [jointLog] [info] [Step 1 of 4] : counting k-mers\n",
      "\u001b[00m\u001b[33m\u001b[1m[2021-04-23 18:29:59.170] [jointLog] [warning] Entry with header [ENSMUST00000179793.1], had length less than the k-mer length of 31 (perhaps after poly-A clipping)\n",
      "\u001b[00m\u001b[33m\u001b[1m[2021-04-23 18:29:59.692] [jointLog] [warning] Entry with header [ENSMUST00000178537.1], had length less than the k-mer length of 31 (perhaps after poly-A clipping)\n",
      "\u001b[00m\u001b[33m\u001b[1m[2021-04-23 18:29:59.692] [jointLog] [warning] Entry with header [ENSMUST00000178862.1], had length less than the k-mer length of 31 (perhaps after poly-A clipping)\n",
      "\u001b[00m\u001b[33m\u001b[1m[2021-04-23 18:30:00.619] [jointLog] [warning] Entry with header [ENSMUST00000165700.1], had length less than the k-mer length of 31 (perhaps after poly-A clipping)\n",
      "\u001b[00m\u001b[33m\u001b[1m[2021-04-23 18:30:01.646] [jointLog] [warning] Entry with header [ENSMUST00000179520.1], had length less than the k-mer length of 31 (perhaps after poly-A clipping)\n",
      "\u001b[00m\u001b[33m\u001b[1m[2021-04-23 18:30:01.647] [jointLog] [warning] Entry with header [ENSMUST00000179883.1], had length less than the k-mer length of 31 (perhaps after poly-A clipping)\n",
      "\u001b[00m\u001b[33m\u001b[1m[2021-04-23 18:30:01.647] [jointLog] [warning] Entry with header [ENSMUST00000195858.1], had length less than the k-mer length of 31 (perhaps after poly-A clipping)\n",
      "\u001b[00m\u001b[33m\u001b[1m[2021-04-23 18:30:01.647] [jointLog] [warning] Entry with header [ENSMUST00000180001.1], had length less than the k-mer length of 31 (perhaps after poly-A clipping)\n",
      "\u001b[00m\u001b[33m\u001b[1m[2021-04-23 18:30:01.647] [jointLog] [warning] Entry with header [ENSMUST00000178815.1], had length less than the k-mer length of 31 (perhaps after poly-A clipping)\n",
      "\u001b[00m\u001b[33m\u001b[1m[2021-04-23 18:30:01.647] [jointLog] [warning] Entry with header [ENSMUST00000177965.1], had length less than the k-mer length of 31 (perhaps after poly-A clipping)\n",
      "\u001b[00m\u001b[33m\u001b[1m[2021-04-23 18:30:01.647] [jointLog] [warning] Entry with header [ENSMUST00000178909.1], had length less than the k-mer length of 31 (perhaps after poly-A clipping)\n",
      "\u001b[00m\u001b[33m\u001b[1m[2021-04-23 18:30:01.647] [jointLog] [warning] Entry with header [ENSMUST00000177646.1], had length less than the k-mer length of 31 (perhaps after poly-A clipping)\n",
      "\u001b[00m\u001b[33m\u001b[1m[2021-04-23 18:30:01.647] [jointLog] [warning] Entry with header [ENSMUST00000178230.1], had length less than the k-mer length of 31 (perhaps after poly-A clipping)\n",
      "\u001b[00m\u001b[33m\u001b[1m[2021-04-23 18:30:01.647] [jointLog] [warning] Entry with header [ENSMUST00000178483.1], had length less than the k-mer length of 31 (perhaps after poly-A clipping)\n",
      "\u001b[00m\u001b[33m\u001b[1m[2021-04-23 18:30:01.647] [jointLog] [warning] Entry with header [ENSMUST00000179262.1], had length less than the k-mer length of 31 (perhaps after poly-A clipping)\n",
      "\u001b[00m\u001b[33m\u001b[1m[2021-04-23 18:30:01.647] [jointLog] [warning] Entry with header [ENSMUST00000178549.1], had length less than the k-mer length of 31 (perhaps after poly-A clipping)\n",
      "\u001b[00m\u001b[33m\u001b[1m[2021-04-23 18:30:01.647] [jointLog] [warning] Entry with header [ENSMUST00000193012.1], had length less than the k-mer length of 31 (perhaps after poly-A clipping)\n",
      "\u001b[00m\u001b[33m\u001b[1m[2021-04-23 18:30:01.647] [jointLog] [warning] Entry with header [ENSMUST00000179166.1], had length less than the k-mer length of 31 (perhaps after poly-A clipping)\n",
      "\u001b[00m\u001b[33m\u001b[1m[2021-04-23 18:30:01.647] [jointLog] [warning] Entry with header [ENSMUST00000179560.1], had length less than the k-mer length of 31 (perhaps after poly-A clipping)\n",
      "\u001b[00m\u001b[33m\u001b[1m[2021-04-23 18:30:01.647] [jointLog] [warning] Entry with header [ENSMUST00000177839.1], had length less than the k-mer length of 31 (perhaps after poly-A clipping)\n",
      "\u001b[00m\u001b[33m\u001b[1m[2021-04-23 18:30:01.647] [jointLog] [warning] Entry with header [ENSMUST00000103439.1], had length less than the k-mer length of 31 (perhaps after poly-A clipping)\n",
      "\u001b[00m\u001b[33m\u001b[1m[2021-04-23 18:30:01.647] [jointLog] [warning] Entry with header [ENSMUST00000180266.1], had length less than the k-mer length of 31 (perhaps after poly-A clipping)\n",
      "\u001b[00m\u001b[33m\u001b[1m[2021-04-23 18:30:01.647] [jointLog] [warning] Entry with header [ENSMUST00000103441.1], had length less than the k-mer length of 31 (perhaps after poly-A clipping)\n",
      "\u001b[00m\u001b[33m\u001b[1m[2021-04-23 18:30:01.859] [jointLog] [warning] Entry with header [ENSMUST00000228114.1], had length less than the k-mer length of 31 (perhaps after poly-A clipping)\n",
      "\u001b[00m\u001b[33m\u001b[1m[2021-04-23 18:30:01.913] [jointLog] [warning] Entry with header [ENSMUST00000196221.1], had length less than the k-mer length of 31 (perhaps after poly-A clipping)\n",
      "\u001b[00m\u001b[33m\u001b[1m[2021-04-23 18:30:01.913] [jointLog] [warning] Entry with header [ENSMUST00000177564.1], had length less than the k-mer length of 31 (perhaps after poly-A clipping)\n",
      "\u001b[00m\u001b[33m\u001b[1m[2021-04-23 18:30:01.974] [jointLog] [warning] Entry with header [ENSMUST00000226961.1], had length less than the k-mer length of 31 (perhaps after poly-A clipping)\n",
      "\u001b[00mElapsed time: 4.96919s\n",
      "\n",
      "\u001b[33m\u001b[1m[2021-04-23 18:30:02.951] [jointLog] [warning] Removed 325 transcripts that were sequence duplicates of indexed transcripts.\n",
      "\u001b[00m\u001b[33m\u001b[1m[2021-04-23 18:30:02.951] [jointLog] [warning] If you wish to retain duplicate transcripts, please use the `--keepDuplicates` flag\n",
      "\u001b[00m\u001b[00m[2021-04-23 18:30:02.952] [jointLog] [info] Replaced 1 non-ATCG nucleotides\n",
      "\u001b[00m\u001b[00m[2021-04-23 18:30:02.952] [jointLog] [info] Clipped poly-A tails from 373 transcripts\n",
      "\u001b[00m\u001b[00m[2021-04-23 18:30:02.963] [jointLog] [info] Building rank-select dictionary and saving to disk\n",
      "\u001b[00m\u001b[00m[2021-04-23 18:30:03.200] [jointLog] [info] done\n",
      "\u001b[00mElapsed time: 0.237046s\n",
      "\u001b[00m[2021-04-23 18:30:03.201] [jointLog] [info] Writing sequence data to file . . . \n",
      "\u001b[00m\u001b[00m[2021-04-23 18:30:04.938] [jointLog] [info] done\n",
      "\u001b[00mElapsed time: 1.73631s\n",
      "\u001b[00m[2021-04-23 18:30:04.941] [jointLog] [info] Building 32-bit suffix array (length of generalized text is 157,139,070)\n",
      "\u001b[00m\u001b[00m[2021-04-23 18:30:05.310] [jointLog] [info] Building suffix array . . . \n",
      "\u001b[00msuccess\n",
      "saving to disk . . . done\n",
      "Elapsed time: 6.44106s\n",
      "done\n",
      "Elapsed time: 27.1257s\n",
      "processed 157,000,000 positions\u001b[00m[2021-04-23 18:31:47.507] [jointLog] [info] khash had 75,173,938 keys\n",
      "\u001b[00m\u001b[00m[2021-04-23 18:31:47.508] [jointLog] [info] saving hash to disk . . . \n",
      "\u001b[00m\u001b[00m[2021-04-23 18:32:18.862] [jointLog] [info] done\n",
      "\u001b[00mElapsed time: 31.3543s\n",
      "[2021-04-23 18:32:19.587] [jLog] [info] done building index\n",
      "Version Info: ### PLEASE UPGRADE SALMON ###\n",
      "### A newer version of salmon with bug fixes is available. ####\n",
      "###\n",
      "The newest version, available at https://github.com/COMBINE-lab/salmon/releases\n",
      "contains new features, improvements, and bug fixes; please upgrade at your\n",
      "earliest convenience.\n",
      "###\n",
      "Sign up for the salmon mailing list to hear about new versions, features and updates at:\n",
      "https://oceangenomics.com/subscribe\n",
      "###\n",
      "index [\"/media/seth/SETH_DATA/SETH_Alex/triku_notebooks/data/references/index_human\"] did not previously exist  . . . creating it\n",
      "[2021-04-23 18:32:20.020] [jLog] [info] building index\n",
      "\u001b[00m[2021-04-23 18:32:20.021] [jointLog] [info] [Step 1 of 4] : counting k-mers\n",
      "\u001b[00m\u001b[33m\u001b[1m[2021-04-23 18:32:22.904] [jointLog] [warning] Entry with header [ENST00000632684.1], had length less than the k-mer length of 31 (perhaps after poly-A clipping)\n",
      "\u001b[00m\u001b[33m\u001b[1m[2021-04-23 18:32:24.557] [jointLog] [warning] Entry with header [ENST00000415118.1], had length less than the k-mer length of 31 (perhaps after poly-A clipping)\n",
      "\u001b[00m\u001b[33m\u001b[1m[2021-04-23 18:32:24.557] [jointLog] [warning] Entry with header [ENST00000434970.2], had length less than the k-mer length of 31 (perhaps after poly-A clipping)\n",
      "\u001b[00m\u001b[33m\u001b[1m[2021-04-23 18:32:24.557] [jointLog] [warning] Entry with header [ENST00000448914.1], had length less than the k-mer length of 31 (perhaps after poly-A clipping)\n",
      "\u001b[00m\u001b[33m\u001b[1m[2021-04-23 18:32:24.873] [jointLog] [warning] Entry with header [ENST00000439842.1], had length less than the k-mer length of 31 (perhaps after poly-A clipping)\n",
      "\u001b[00m\u001b[33m\u001b[1m[2021-04-23 18:32:24.873] [jointLog] [warning] Entry with header [ENST00000390567.1], had length less than the k-mer length of 31 (perhaps after poly-A clipping)\n",
      "\u001b[00m\u001b[33m\u001b[1m[2021-04-23 18:32:24.873] [jointLog] [warning] Entry with header [ENST00000452198.1], had length less than the k-mer length of 31 (perhaps after poly-A clipping)\n",
      "\u001b[00m\u001b[33m\u001b[1m[2021-04-23 18:32:24.873] [jointLog] [warning] Entry with header [ENST00000390569.1], had length less than the k-mer length of 31 (perhaps after poly-A clipping)\n",
      "\u001b[00m\u001b[33m\u001b[1m[2021-04-23 18:32:24.873] [jointLog] [warning] Entry with header [ENST00000450276.1], had length less than the k-mer length of 31 (perhaps after poly-A clipping)\n",
      "\u001b[00m\u001b[33m\u001b[1m[2021-04-23 18:32:24.873] [jointLog] [warning] Entry with header [ENST00000390574.1], had length less than the k-mer length of 31 (perhaps after poly-A clipping)\n",
      "\u001b[00m\u001b[33m\u001b[1m[2021-04-23 18:32:24.873] [jointLog] [warning] Entry with header [ENST00000390575.1], had length less than the k-mer length of 31 (perhaps after poly-A clipping)\n",
      "\u001b[00m\u001b[33m\u001b[1m[2021-04-23 18:32:24.873] [jointLog] [warning] Entry with header [ENST00000451044.1], had length less than the k-mer length of 31 (perhaps after poly-A clipping)\n",
      "\u001b[00m\u001b[33m\u001b[1m[2021-04-23 18:32:24.873] [jointLog] [warning] Entry with header [ENST00000390580.1], had length less than the k-mer length of 31 (perhaps after poly-A clipping)\n",
      "\u001b[00m\u001b[33m\u001b[1m[2021-04-23 18:32:24.873] [jointLog] [warning] Entry with header [ENST00000390581.1], had length less than the k-mer length of 31 (perhaps after poly-A clipping)\n",
      "\u001b[00m\u001b[33m\u001b[1m[2021-04-23 18:32:24.873] [jointLog] [warning] Entry with header [ENST00000430425.1], had length less than the k-mer length of 31 (perhaps after poly-A clipping)\n",
      "\u001b[00m\u001b[33m\u001b[1m[2021-04-23 18:32:24.873] [jointLog] [warning] Entry with header [ENST00000454691.1], had length less than the k-mer length of 31 (perhaps after poly-A clipping)\n",
      "\u001b[00m\u001b[33m\u001b[1m[2021-04-23 18:32:24.873] [jointLog] [warning] Entry with header [ENST00000390588.1], had length less than the k-mer length of 31 (perhaps after poly-A clipping)\n",
      "\u001b[00m\u001b[33m\u001b[1m[2021-04-23 18:32:24.873] [jointLog] [warning] Entry with header [ENST00000454908.1], had length less than the k-mer length of 31 (perhaps after poly-A clipping)\n",
      "\u001b[00m\u001b[33m\u001b[1m[2021-04-23 18:32:24.874] [jointLog] [warning] Entry with header [ENST00000604642.1], had length less than the k-mer length of 31 (perhaps after poly-A clipping)\n",
      "\u001b[00m\u001b[33m\u001b[1m[2021-04-23 18:32:24.874] [jointLog] [warning] Entry with header [ENST00000605284.1], had length less than the k-mer length of 31 (perhaps after poly-A clipping)\n",
      "\u001b[00m\u001b[33m\u001b[1m[2021-04-23 18:32:24.874] [jointLog] [warning] Entry with header [ENST00000604446.1], had length less than the k-mer length of 31 (perhaps after poly-A clipping)\n",
      "\u001b[00m\u001b[33m\u001b[1m[2021-04-23 18:32:24.874] [jointLog] [warning] Entry with header [ENST00000604838.1], had length less than the k-mer length of 31 (perhaps after poly-A clipping)\n",
      "\u001b[00mElapsed time: 6.8113s\n",
      "\n",
      "\u001b[33m\u001b[1m[2021-04-23 18:32:26.833] [jointLog] [warning] Removed 261 transcripts that were sequence duplicates of indexed transcripts.\n",
      "\u001b[00m\u001b[33m\u001b[1m[2021-04-23 18:32:26.833] [jointLog] [warning] If you wish to retain duplicate transcripts, please use the `--keepDuplicates` flag\n",
      "\u001b[00m\u001b[00m[2021-04-23 18:32:26.834] [jointLog] [info] Replaced 0 non-ATCG nucleotides\n",
      "\u001b[00m\u001b[00m[2021-04-23 18:32:26.834] [jointLog] [info] Clipped poly-A tails from 703 transcripts\n",
      "\u001b[00m\u001b[00m[2021-04-23 18:32:26.849] [jointLog] [info] Building rank-select dictionary and saving to disk\n",
      "\u001b[00m\u001b[00m[2021-04-23 18:32:27.175] [jointLog] [info] done\n",
      "\u001b[00mElapsed time: 0.326071s\n",
      "\u001b[00m[2021-04-23 18:32:27.178] [jointLog] [info] Writing sequence data to file . . . \n",
      "\u001b[00m\u001b[00m[2021-04-23 18:32:29.795] [jointLog] [info] done\n",
      "\u001b[00mElapsed time: 2.61725s\n",
      "\u001b[00m[2021-04-23 18:32:29.799] [jointLog] [info] Building 32-bit suffix array (length of generalized text is 220,603,280)\n",
      "\u001b[00m\u001b[00m[2021-04-23 18:32:30.299] [jointLog] [info] Building suffix array . . . \n",
      "\u001b[00msuccess\n",
      "saving to disk . . . done\n",
      "Elapsed time: 9.6411s\n",
      "done\n",
      "Elapsed time: 37.7214s\n",
      "processed 220,000,000 positions\u001b[00m[2021-04-23 18:34:43.173] [jointLog] [info] khash had 83,277,833 keys\n",
      "\u001b[00m\u001b[00m[2021-04-23 18:34:43.189] [jointLog] [info] saving hash to disk . . . \n",
      "\u001b[00m\u001b[00m[2021-04-23 18:35:16.760] [jointLog] [info] done\n",
      "\u001b[00mElapsed time: 33.5707s\n",
      "[2021-04-23 18:35:17.616] [jLog] [info] done building index\n"
     ]
    }
   ],
   "source": [
    "!salmon index -t $root_dir/data/references/gencode.vM25.pc_transcripts.fa -i $root_dir/data/references/index_mouse\n",
    "!salmon index -t $root_dir/data/references/gencode.v34.pc_transcripts.fa -i $root_dir/data/references/index_human"
   ]
  },
  {
   "cell_type": "markdown",
   "metadata": {},
   "source": [
    "**The output of these cells is cleant because there is a lot and renders the HTML unreadable**"
   ]
  },
  {
   "cell_type": "code",
   "execution_count": null,
   "metadata": {
    "scrolled": true
   },
   "outputs": [],
   "source": [
    "!salmon alevin -lISR -1 $root_dir/data/10x/FASTQs/neuron_10k_v3_fastqs/neuron_10k_v3_S1_L001_R1_001.fastq.gz \\\n",
    "$root_dir/data/10x/FASTQs/neuron_10k_v3_fastqs/neuron_10k_v3_S1_L002_R1_001.fastq.gz \\\n",
    "-2 $root_dir/data/10x/FASTQs/neuron_10k_v3_fastqs/neuron_10k_v3_S1_L001_R2_001.fastq.gz \\\n",
    "$root_dir/data/10x/FASTQs/neuron_10k_v3_fastqs/neuron_10k_v3_S1_L002_R2_001.fastq.gz \\\n",
    "--chromium -i $root_dir/data/references/index_mouse -p 8 -o $root_dir/data/10x/FASTQs/alevin_output_neuron --tgMap $root_dir/data/references/txp2gene_vM25.tsv"
   ]
  },
  {
   "cell_type": "code",
   "execution_count": null,
   "metadata": {
    "scrolled": true,
    "tags": []
   },
   "outputs": [],
   "source": [
    "!salmon alevin -lISR -1 $root_dir/data/10x/FASTQs/heart_10k_v3_fastqs/heart_10k_v3_S1_L001_R1_001.fastq.gz \\\n",
    "$root_dir/data/10x/FASTQs/heart_10k_v3_fastqs/heart_10k_v3_S1_L002_R1_001.fastq.gz \\\n",
    "-2 $root_dir/data/10x/FASTQs/heart_10k_v3_fastqs/heart_10k_v3_S1_L001_R2_001.fastq.gz \\\n",
    "$root_dir/data/10x/FASTQs/heart_10k_v3_fastqs/heart_10k_v3_S1_L002_R2_001.fastq.gz \\\n",
    "--chromium -i $root_dir/data/references/index_mouse -p 8 -o $root_dir/data/10x/FASTQs/alevin_output_heart --tgMap $root_dir/data/references/txp2gene_vM25.tsv"
   ]
  },
  {
   "cell_type": "code",
   "execution_count": null,
   "metadata": {},
   "outputs": [],
   "source": [
    "!salmon alevin -lISR -1 $root_dir/data/10x/FASTQs/pbmc_10k_v3_fastqs/pbmc_10k_v3_S1_L001_R1_001.fastq.gz \\\n",
    "$root_dir/data/10x/FASTQs/pbmc_10k_v3_fastqs/pbmc_10k_v3_S1_L002_R1_001.fastq.gz \\\n",
    "-2 $root_dir/data/10x/FASTQs/pbmc_10k_v3_fastqs/pbmc_10k_v3_S1_L001_R2_001.fastq.gz \\\n",
    "$root_dir/data/10x/FASTQs/pbmc_10k_v3_fastqs/pbmc_10k_v3_S1_L002_R2_001.fastq.gz \\\n",
    "--chromium -i $root_dir/data/references/index_human -p 8 -o $root_dir/data/10x/FASTQs/alevin_output_pbmc --tgMap $root_dir/data/references/txp2gene_v34.tsv"
   ]
  },
  {
   "cell_type": "code",
   "execution_count": null,
   "metadata": {},
   "outputs": [],
   "source": [
    "for dataset_prefix in ['heart', 'pbmc', 'neuron']:\n",
    "    alevin_df = parser.read_quants_bin(f\"{root_dir}/data/10x/FASTQs/alevin_output_{dataset_prefix}\")\n",
    "    adata = sc.AnnData(alevin_df)\n",
    "    adata.write_h5ad(f\"{root_dir}/data/10x/FASTQs/alevin_output_{dataset_prefix}/{dataset_prefix}_10k_v3_filtered_feature_bc_matrix.h5\")"
   ]
  },
  {
   "cell_type": "markdown",
   "metadata": {},
   "source": [
    "### Generating artificial datasets\n",
    "Refer to `0B_Generation_of_artificial_datasets.ipynb` notebook."
   ]
  }
 ],
 "metadata": {
  "kernelspec": {
   "display_name": "Python [conda env:triku-notebooks] *",
   "language": "python",
   "name": "conda-env-triku-notebooks-py"
  },
  "language_info": {
   "codemirror_mode": {
    "name": "ipython",
    "version": 3
   },
   "file_extension": ".py",
   "mimetype": "text/x-python",
   "name": "python",
   "nbconvert_exporter": "python",
   "pygments_lexer": "ipython3",
   "version": "3.8.0"
  },
  "toc": {
   "base_numbering": 1,
   "nav_menu": {},
   "number_sections": true,
   "sideBar": true,
   "skip_h1_title": false,
   "title_cell": "Table of Contents",
   "title_sidebar": "Contents",
   "toc_cell": false,
   "toc_position": {},
   "toc_section_display": true,
   "toc_window_display": false
  },
  "varInspector": {
   "cols": {
    "lenName": 16,
    "lenType": 16,
    "lenVar": 40
   },
   "kernels_config": {
    "python": {
     "delete_cmd_postfix": "",
     "delete_cmd_prefix": "del ",
     "library": "var_list.py",
     "varRefreshCmd": "print(var_dic_list())"
    },
    "r": {
     "delete_cmd_postfix": ") ",
     "delete_cmd_prefix": "rm(",
     "library": "var_list.r",
     "varRefreshCmd": "cat(var_dic_list()) "
    }
   },
   "types_to_exclude": [
    "module",
    "function",
    "builtin_function_or_method",
    "instance",
    "_Feature"
   ],
   "window_display": false
  }
 },
 "nbformat": 4,
 "nbformat_minor": 4
}
